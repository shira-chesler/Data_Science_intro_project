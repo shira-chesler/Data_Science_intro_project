{
 "cells": [
  {
   "cell_type": "markdown",
   "id": "7588b3f0",
   "metadata": {},
   "source": [
    "# Product's price prediction by nutrition values"
   ]
  },
  {
   "cell_type": "markdown",
   "id": "56ecec1e",
   "metadata": {},
   "source": [
    "In this project, we wanted to find the connection between the nutrition values of products and their price. we want to emphasize that we were awarded to the fact that there are other causes to a certain products' price, such as tax, where the product was produced (if it has been imported), etcetera.\n",
    "\n",
    "Thus, we worked on the project while knowing that there might not be a full connection between the nutrition values and the price of a product, but these are the aspects we chose to focus on in our project.\n",
    "\n",
    "We started by doing web-scraping from the website of the grocery network 'Shufersal'. https://www.shufersal.co.il/online/he/A\n",
    "\n",
    "The goal is to create a model that accepts the nutrition values of a product and predicts its estimated price."
   ]
  },
  {
   "cell_type": "markdown",
   "id": "7a27bffd",
   "metadata": {},
   "source": [
    "## Table of Contents:\n",
    "####  1. Getting to know the data, train test split, initial data cleanse\n",
    "####  2. Creating a new data set\n",
    "####  3. Analyzing and visualizing the first data set\n",
    "####  4. Choosing a metric method and checking habits of dummy-model\n",
    "####  5. Sampling models (and checking with cross validation):\n",
    "     -A. Linear regression\n",
    "     -B. Decision tree regressor \n",
    "     -C. Random forest regressor\n",
    "####  6. comparing models scores and choosing the final model\n",
    "####  7. conclusion"
   ]
  },
  {
   "cell_type": "markdown",
   "id": "85964a83",
   "metadata": {},
   "source": [
    "## 1. Getting to know the data, train test split, initial data cleanse:"
   ]
  },
  {
   "cell_type": "code",
   "execution_count": 1,
   "id": "f3b581dc",
   "metadata": {},
   "outputs": [],
   "source": [
    "import pandas as pd\n",
    "import numpy as np\n",
    "\n",
    "import matplotlib.pyplot as plt\n",
    "import matplotlib.pylab as plta\n",
    "import matplotlib.ticker as ticker\n",
    "\n",
    "import seaborn as sns\n",
    "\n",
    "from sklearn.model_selection import cross_val_predict\n",
    "from sklearn.model_selection import KFold\n",
    "from sklearn.model_selection import train_test_split\n",
    "\n",
    "from sklearn.linear_model import LinearRegression\n",
    "from sklearn.tree import DecisionTreeRegressor\n",
    "from sklearn.ensemble import RandomForestRegressor\n",
    "\n",
    "from sklearn.dummy import DummyRegressor\n",
    "from sklearn.metrics import mean_squared_error as MSE\n",
    "\n",
    "plt.style.use('seaborn')"
   ]
  },
  {
   "cell_type": "code",
   "execution_count": 2,
   "id": "e0465ef2",
   "metadata": {},
   "outputs": [
    {
     "name": "stdout",
     "output_type": "stream",
     "text": [
      "<class 'pandas.core.frame.DataFrame'>\n",
      "RangeIndex: 9603 entries, 0 to 9602\n",
      "Columns: 106 entries, Product_Name to Chlorophyll\n",
      "dtypes: float64(81), int64(14), object(11)\n",
      "memory usage: 7.8+ MB\n",
      "None\n"
     ]
    },
    {
     "name": "stderr",
     "output_type": "stream",
     "text": [
      "C:\\Users\\shira\\anaconda3\\lib\\site-packages\\IPython\\core\\interactiveshell.py:3165: DtypeWarning: Columns (8,9,53) have mixed types.Specify dtype option on import or set low_memory=False.\n",
      "  has_raised = await self.run_ast_nodes(code_ast.body, cell_name,\n"
     ]
    },
    {
     "data": {
      "text/html": [
       "<div>\n",
       "<style scoped>\n",
       "    .dataframe tbody tr th:only-of-type {\n",
       "        vertical-align: middle;\n",
       "    }\n",
       "\n",
       "    .dataframe tbody tr th {\n",
       "        vertical-align: top;\n",
       "    }\n",
       "\n",
       "    .dataframe thead th {\n",
       "        text-align: right;\n",
       "    }\n",
       "</style>\n",
       "<table border=\"1\" class=\"dataframe\">\n",
       "  <thead>\n",
       "    <tr style=\"text-align: right;\">\n",
       "      <th></th>\n",
       "      <th>Product_Name</th>\n",
       "      <th>code</th>\n",
       "      <th>1_kg</th>\n",
       "      <th>Vitamin_B1</th>\n",
       "      <th>Vitamin_B6</th>\n",
       "      <th>Dietary_fiber</th>\n",
       "      <th>Folic_acid</th>\n",
       "      <th>energy</th>\n",
       "      <th>Proteins</th>\n",
       "      <th>Carbohydrates</th>\n",
       "      <th>...</th>\n",
       "      <th>chromium</th>\n",
       "      <th>Molybdenum</th>\n",
       "      <th>1_meter</th>\n",
       "      <th>100_meters</th>\n",
       "      <th>Unsaturated</th>\n",
       "      <th>Acidic_acid</th>\n",
       "      <th>Linoleic_acid</th>\n",
       "      <th>DHA</th>\n",
       "      <th>EPA</th>\n",
       "      <th>Chlorophyll</th>\n",
       "    </tr>\n",
       "  </thead>\n",
       "  <tbody>\n",
       "    <tr>\n",
       "      <th>0</th>\n",
       "      <td>clementine</td>\n",
       "      <td>P_964560</td>\n",
       "      <td>5.9</td>\n",
       "      <td>0.09</td>\n",
       "      <td>0.08</td>\n",
       "      <td>1.7</td>\n",
       "      <td>24.0</td>\n",
       "      <td>47.0</td>\n",
       "      <td>9.0</td>\n",
       "      <td>12</td>\n",
       "      <td>...</td>\n",
       "      <td>0.0</td>\n",
       "      <td>0.0</td>\n",
       "      <td>0</td>\n",
       "      <td>0</td>\n",
       "      <td>0</td>\n",
       "      <td>0.0</td>\n",
       "      <td>0.0</td>\n",
       "      <td>0</td>\n",
       "      <td>0</td>\n",
       "      <td>0</td>\n",
       "    </tr>\n",
       "    <tr>\n",
       "      <th>1</th>\n",
       "      <td>Gilded_apple</td>\n",
       "      <td>P_963136</td>\n",
       "      <td>10.9</td>\n",
       "      <td>0.00</td>\n",
       "      <td>0.00</td>\n",
       "      <td>2.4</td>\n",
       "      <td>0.0</td>\n",
       "      <td>52.0</td>\n",
       "      <td>0.3</td>\n",
       "      <td>13.8</td>\n",
       "      <td>...</td>\n",
       "      <td>0.0</td>\n",
       "      <td>0.0</td>\n",
       "      <td>0</td>\n",
       "      <td>0</td>\n",
       "      <td>0</td>\n",
       "      <td>0.0</td>\n",
       "      <td>0.0</td>\n",
       "      <td>0</td>\n",
       "      <td>0</td>\n",
       "      <td>0</td>\n",
       "    </tr>\n",
       "    <tr>\n",
       "      <th>2</th>\n",
       "      <td>lemon</td>\n",
       "      <td>P_964492</td>\n",
       "      <td>6.9</td>\n",
       "      <td>0.00</td>\n",
       "      <td>0.08</td>\n",
       "      <td>2.8</td>\n",
       "      <td>0.0</td>\n",
       "      <td>29.0</td>\n",
       "      <td>1.1</td>\n",
       "      <td>9.3</td>\n",
       "      <td>...</td>\n",
       "      <td>0.0</td>\n",
       "      <td>0.0</td>\n",
       "      <td>0</td>\n",
       "      <td>0</td>\n",
       "      <td>0</td>\n",
       "      <td>0.0</td>\n",
       "      <td>0.0</td>\n",
       "      <td>0</td>\n",
       "      <td>0</td>\n",
       "      <td>0</td>\n",
       "    </tr>\n",
       "    <tr>\n",
       "      <th>3</th>\n",
       "      <td>Orange_in_the_juice_network</td>\n",
       "      <td>P_964348</td>\n",
       "      <td>4.9</td>\n",
       "      <td>0.09</td>\n",
       "      <td>0.06</td>\n",
       "      <td>2.5</td>\n",
       "      <td>39.0</td>\n",
       "      <td>49.0</td>\n",
       "      <td>1.0</td>\n",
       "      <td>11.9</td>\n",
       "      <td>...</td>\n",
       "      <td>0.0</td>\n",
       "      <td>0.0</td>\n",
       "      <td>0</td>\n",
       "      <td>0</td>\n",
       "      <td>0</td>\n",
       "      <td>0.0</td>\n",
       "      <td>0.0</td>\n",
       "      <td>0</td>\n",
       "      <td>0</td>\n",
       "      <td>0</td>\n",
       "    </tr>\n",
       "    <tr>\n",
       "      <th>4</th>\n",
       "      <td>Avocado</td>\n",
       "      <td>P_964980</td>\n",
       "      <td>9.9</td>\n",
       "      <td>0.07</td>\n",
       "      <td>0.30</td>\n",
       "      <td>6.7</td>\n",
       "      <td>81.0</td>\n",
       "      <td>160.0</td>\n",
       "      <td>2.0</td>\n",
       "      <td>8.5</td>\n",
       "      <td>...</td>\n",
       "      <td>0.0</td>\n",
       "      <td>0.0</td>\n",
       "      <td>0</td>\n",
       "      <td>0</td>\n",
       "      <td>0</td>\n",
       "      <td>0.0</td>\n",
       "      <td>0.0</td>\n",
       "      <td>0</td>\n",
       "      <td>0</td>\n",
       "      <td>0</td>\n",
       "    </tr>\n",
       "  </tbody>\n",
       "</table>\n",
       "<p>5 rows × 106 columns</p>\n",
       "</div>"
      ],
      "text/plain": [
       "                  Product_Name      code  1_kg  Vitamin_B1  Vitamin_B6  \\\n",
       "0                   clementine  P_964560   5.9        0.09        0.08   \n",
       "1                 Gilded_apple  P_963136  10.9        0.00        0.00   \n",
       "2                        lemon  P_964492   6.9        0.00        0.08   \n",
       "3  Orange_in_the_juice_network  P_964348   4.9        0.09        0.06   \n",
       "4                      Avocado  P_964980   9.9        0.07        0.30   \n",
       "\n",
       "   Dietary_fiber  Folic_acid  energy Proteins Carbohydrates  ... chromium  \\\n",
       "0            1.7        24.0    47.0      9.0            12  ...      0.0   \n",
       "1            2.4         0.0    52.0      0.3          13.8  ...      0.0   \n",
       "2            2.8         0.0    29.0      1.1           9.3  ...      0.0   \n",
       "3            2.5        39.0    49.0      1.0          11.9  ...      0.0   \n",
       "4            6.7        81.0   160.0      2.0           8.5  ...      0.0   \n",
       "\n",
       "  Molybdenum  1_meter  100_meters  Unsaturated  Acidic_acid  Linoleic_acid  \\\n",
       "0        0.0        0           0            0          0.0            0.0   \n",
       "1        0.0        0           0            0          0.0            0.0   \n",
       "2        0.0        0           0            0          0.0            0.0   \n",
       "3        0.0        0           0            0          0.0            0.0   \n",
       "4        0.0        0           0            0          0.0            0.0   \n",
       "\n",
       "   DHA  EPA  Chlorophyll  \n",
       "0    0    0            0  \n",
       "1    0    0            0  \n",
       "2    0    0            0  \n",
       "3    0    0            0  \n",
       "4    0    0            0  \n",
       "\n",
       "[5 rows x 106 columns]"
      ]
     },
     "execution_count": 2,
     "metadata": {},
     "output_type": "execute_result"
    }
   ],
   "source": [
    "df = pd.read_csv (r'C:\\אריאל\\שנה א\\סמסטר א\\מבוא למדעי הנתונים\\עבודת הגמר\\Data_Science_intro_project\\Regression\\data_converted_to_english.csv', index_col = False, low_memory=False)\n",
    "print(df.info())\n",
    "df.head()"
   ]
  },
  {
   "cell_type": "code",
   "execution_count": 3,
   "id": "d3b7e426",
   "metadata": {},
   "outputs": [],
   "source": [
    "train_set, test_set = train_test_split(df, test_size = 0.2, random_state=42)\n",
    "prod = train_set.copy()"
   ]
  },
  {
   "cell_type": "code",
   "execution_count": 4,
   "id": "ad4eb29c",
   "metadata": {},
   "outputs": [],
   "source": [
    "prod.replace('(^\\s+|\\s+$)', '', regex=True, inplace=True)\n",
    "prod= prod.set_index('code')\n",
    "prod = prod.drop_duplicates() #we figured that if there are duplicates within the data, we should drop them\n",
    "prod= prod.set_index('Product_Name')"
   ]
  },
  {
   "cell_type": "code",
   "execution_count": 5,
   "id": "c0739e91",
   "metadata": {},
   "outputs": [
    {
     "name": "stdout",
     "output_type": "stream",
     "text": [
      "<class 'pandas.core.frame.DataFrame'>\n",
      "Index: 7268 entries, Stevia_sucrose_300_tablets to Chocolate_Granola_Crunch\n",
      "Data columns (total 98 columns):\n",
      " #   Column                               Non-Null Count  Dtype  \n",
      "---  ------                               --------------  -----  \n",
      " 0   1_kg                                 7268 non-null   float64\n",
      " 1   Vitamin_B1                           7268 non-null   float64\n",
      " 2   Vitamin_B6                           7268 non-null   float64\n",
      " 3   Dietary_fiber                        7268 non-null   float64\n",
      " 4   Folic_acid                           7268 non-null   float64\n",
      " 5   energy                               7268 non-null   float64\n",
      " 6   Proteins                             7268 non-null   float64\n",
      " 7   Carbohydrates                        7268 non-null   float64\n",
      " 8   Fats                                 7268 non-null   float64\n",
      " 9   sodium                               7268 non-null   float64\n",
      " 10  Vitamin_B3                           7268 non-null   float64\n",
      " 11  potassium                            7268 non-null   float64\n",
      " 12  Vitamin_C                            7268 non-null   float64\n",
      " 13  iron                                 7268 non-null   float64\n",
      " 14  1_unit                               7268 non-null   float64\n",
      " 15  100_g                                7268 non-null   float64\n",
      " 16  Vitamin_B2                           7268 non-null   float64\n",
      " 17  Vitamin_K.                           7268 non-null   float64\n",
      " 18  Vitamin_E.                           7268 non-null   float64\n",
      " 19  Magnesium                            7268 non-null   float64\n",
      " 20  Carbohydrate_sugars                  7268 non-null   float64\n",
      " 21  A_vitamin                            7268 non-null   float64\n",
      " 22  Dietary_fiber.1                      7268 non-null   float64\n",
      " 23  zinc                                 7268 non-null   float64\n",
      " 24  Of_which_added_sugar                 7268 non-null   float64\n",
      " 25  100_ml                               7268 non-null   float64\n",
      " 26  Of_which_saturated_fat               7268 non-null   float64\n",
      " 27  Trans_fatty_acids                    7268 non-null   float64\n",
      " 28  Teaspoons_of_sugar                   7268 non-null   float64\n",
      " 29  calcium                              7268 non-null   float64\n",
      " 30  Cholesterol                          7268 non-null   float64\n",
      " 31  Monounsaturated_fat                  7268 non-null   float64\n",
      " 32  Polyunsaturated_fat                  7268 non-null   float64\n",
      " 33  Sugars                               7268 non-null   float64\n",
      " 34  Reduced_sodium                       7268 non-null   float64\n",
      " 35  Many_alcohols                        7268 non-null   float64\n",
      " 36  Lactose                              7268 non-null   float64\n",
      " 37  Vitamin_D.                           7268 non-null   float64\n",
      " 38  1_cm                                 7268 non-null   float64\n",
      " 39  Proteins_(Albumin_|_Casein_40_|_60)  7268 non-null   float64\n",
      " 40  From_the_carbohydrates_lactose       7268 non-null   float64\n",
      " 41  Vitamin_D_Calciprolol                7268 non-null   float64\n",
      " 42  3_omega_fatty_acids                  7268 non-null   float64\n",
      " 43  DHA_+_EPA                            7268 non-null   int64  \n",
      " 44  caffeine                             7268 non-null   int64  \n",
      " 45  Vitamin_B12                          7268 non-null   float64\n",
      " 46  Niacin                               7268 non-null   float64\n",
      " 47  Fat_without_trans                    7268 non-null   float64\n",
      " 48  Vitamin_B5                           7268 non-null   float64\n",
      " 49  Pantothenic_acid                     7268 non-null   float64\n",
      " 50  Saturated_fat                        7268 non-null   float64\n",
      " 51  Trans_fat                            7268 non-null   float64\n",
      " 52  Saturated_fatty_acids                7268 non-null   float64\n",
      " 53  Nicotinamide                         7268 non-null   float64\n",
      " 54  Of_which_unsaturated_fat             7268 non-null   float64\n",
      " 55  6_omega_fatty_acids                  7268 non-null   float64\n",
      " 56  From_sugars_to_organic_acids         7268 non-null   float64\n",
      " 57  Biotin                               7268 non-null   float64\n",
      " 58  iodine                               7268 non-null   float64\n",
      " 59  phosphorus                           7268 non-null   float64\n",
      " 60  Salt                                 7268 non-null   float64\n",
      " 61  Lycopene                             7268 non-null   float64\n",
      " 62  manganese                            7268 non-null   float64\n",
      " 63  Soluble_fiber                        7268 non-null   float64\n",
      " 64  Oleic_fatty_acids                    7268 non-null   float64\n",
      " 65  Vitamin_E_equals_alpha_tocopherol    7268 non-null   float64\n",
      " 66  Acetic_acid                          7268 non-null   int64  \n",
      " 67  Vitamin_A_is_worth_retinol           7268 non-null   float64\n",
      " 68  Ascorbic_acid                        7268 non-null   float64\n",
      " 69  K_Potassium                          7268 non-null   int64  \n",
      " 70  starch                               7268 non-null   float64\n",
      " 71  ARA_fatty_acid                       7268 non-null   float64\n",
      " 72  DHA_fatty_acid                       7268 non-null   float64\n",
      " 73  Nucleotides                          7268 non-null   float64\n",
      " 74  Linoleic_fatty_acid                  7268 non-null   float64\n",
      " 75  Linoleic_fatty_acid.1                7268 non-null   float64\n",
      " 76  selenium                             7268 non-null   float64\n",
      " 77  copper                               7268 non-null   float64\n",
      " 78  Taurine                              7268 non-null   float64\n",
      " 79  Choline                              7268 non-null   float64\n",
      " 80  Inositol                             7268 non-null   float64\n",
      " 81  Lutein                               7268 non-null   float64\n",
      " 82  Alpha_linolenic_acid                 7268 non-null   float64\n",
      " 83  Galactooligosaccharides              7268 non-null   float64\n",
      " 84  chlorine                             7268 non-null   float64\n",
      " 85  Carnitine                            7268 non-null   float64\n",
      " 86  Chloride                             7268 non-null   int64  \n",
      " 87  AA_fatty_acid                        7268 non-null   int64  \n",
      " 88  Vitamin_B3_Nicotinamide_Equilibrium  7268 non-null   float64\n",
      " 89  humidity                             7268 non-null   float64\n",
      " 90  chromium                             7268 non-null   float64\n",
      " 91  Molybdenum                           7268 non-null   float64\n",
      " 92  Unsaturated                          7268 non-null   int64  \n",
      " 93  Acidic_acid                          7268 non-null   float64\n",
      " 94  Linoleic_acid                        7268 non-null   float64\n",
      " 95  DHA                                  7268 non-null   int64  \n",
      " 96  EPA                                  7268 non-null   int64  \n",
      " 97  Chlorophyll                          7268 non-null   int64  \n",
      "dtypes: float64(88), int64(10)\n",
      "memory usage: 5.5+ MB\n"
     ]
    }
   ],
   "source": [
    "#in order to turn all the objects we have to numeric - float or int\n",
    "for col in prod.columns:  \n",
    "    prod[col] = pd.to_numeric(prod[col], errors='coerce')\n",
    "prod = prod.fillna(0)\n",
    "sts_dropped_collumns = np.transpose(prod.loc[:, (prod == 0).all(axis=0)]).index #we wanted to save all the columns we droped, so we could drop them in the test set as well\n",
    "prod = prod.loc[:, (prod != 0).any(axis=0)]\n",
    "prod.info() #in order to see that we scceeded and to have a look at the columns"
   ]
  },
  {
   "cell_type": "markdown",
   "id": "15086e1e",
   "metadata": {},
   "source": [
    "### After a brief look at the columns we have, we pointed out a couple of things that needed to be done:\n",
    "##### Get rid of the unwanted units we have:\n",
    "we want the get rid of all the products that are not measured by 100_g or 1_kg (and delete the rows of these units).\n",
    "afterward, we need to unite the 100_g and 1_kg units (by dividing 1_kg by 10 we'll get the price for 100_g).\n",
    "#### we'll check which columns are left, and with them:\n",
    "##### Unite the columns:\n",
    "- DHA_fatty_acid and DHA \n",
    "- A_vitamin and Vitamin_A_is_worth_retinol \n",
    "- Dietary_fiber and Dietary_fiber.1 \n",
    "- Potassium and K_Potassium (two different names to the same thing)\n",
    "- Vitamin_E_equals_alpha_tocopherol and Vitamin_E. (When referring generally to vitamin E, it is therefore related to the alpha-tocopherol form https://www.wikirefua.org.il/w/index.php/%D7%95%D7%99%D7%98%D7%9E%D7%99%D7%9F_-_Vitamin_-_E )\n",
    "- Niacin, Vitamin_B3_Nicotinamide_Equilibrium, and Vitamin_b3 (they are referring to the same thing: https://en.wikipedia.org/wiki/Niacin)\n",
    "- sodium and Chloride\n",
    "- DHA and EPA with DHA_+_EPA (?)\n",
    "\n",
    "##### Look at features we suspect may have a high correlation:\n",
    "- Vitamin b's group\n",
    "- all the things that contain sugars\n",
    "- Carbohydrate_sugars and Carbohydrate\n",
    "- correlations with energy (energy, which is calories, can come from many different features)\n",
    "- the many kinds of fat\n",
    "- DHA and EPA with DHA_+_EPA (?)"
   ]
  },
  {
   "cell_type": "code",
   "execution_count": 6,
   "id": "15c6572b",
   "metadata": {},
   "outputs": [
    {
     "name": "stdout",
     "output_type": "stream",
     "text": [
      "Index([], dtype='object', name='Product_Name')\n"
     ]
    }
   ],
   "source": [
    "#first, we'll find the products without the wanted price units \n",
    "unwanted_units = prod[(prod['100_g']==0) & (prod['1_kg']==0)].index\n",
    "#moreover, we'll check if there are any products with more than one wanted price units \n",
    "print(prod[(prod['100_g']!=0) & (prod['1_kg']!=0)].index) #as excpected, there aren't products like these, a.k.a - the scraping did it's job well\n",
    "#we want to remove the products without the wanted price units\n",
    "prod = prod.drop(unwanted_units) #dropes products with unwanted units\n",
    "all_dropped_collumns = np.transpose(prod.loc[:, (prod == 0).all(axis=0)]).index #again, we wanted to save all the columns we droped, so we could drop them in the test set as well\n",
    "prod = prod.loc[:, (prod != 0).any(axis=0)] #deletes all columns with all values set to zero, such as columns of units that are not 100_g or 1_kg \n",
    "prod['1_kg'] = prod['1_kg']/10 #transfering the units\n",
    "prod['price_per_100g'] = prod['1_kg'] + prod['100_g']\n",
    "prod = prod.drop(['100_g' ,'1_kg'], axis=1)"
   ]
  },
  {
   "cell_type": "code",
   "execution_count": 7,
   "id": "fe7ced07",
   "metadata": {},
   "outputs": [],
   "source": [
    "#in order to reduce background noise, we decided to drop the columns in which there are less than 20 products with this feature\n",
    "prod = prod.reset_index()\n",
    "arr = np.array([])\n",
    "col_droped = np.array([])\n",
    "for col in prod.columns:\n",
    "    if prod[col].astype(bool).sum(axis=0)<20: #all the features that less than a third precent of the products have\n",
    "        arr = np.append(arr, prod[col].to_numpy().nonzero())\n",
    "        col_droped = np.append(col_droped, col) #saved the columns we droped in order to drop from test set\n",
    "arr = set(arr) #all number of rows without duplicates\n",
    "for i in arr:\n",
    "    prod = prod.drop(i) #droping the products who had these columns for the chance that the nutrition value might have had an integral part in the pricing of the product\n",
    "prod = prod.drop(col_droped, axis=1)\n",
    "prod = prod.loc[:, (prod != 0).any(axis=0)] #deletes all columns with all values set to zero\n",
    "prod = prod.set_index(['Product_Name'])"
   ]
  },
  {
   "cell_type": "code",
   "execution_count": 8,
   "id": "f07bc561",
   "metadata": {},
   "outputs": [
    {
     "name": "stdout",
     "output_type": "stream",
     "text": [
      "Index(['Non-fibrous_fibers', 'wetness', 'ash', 'Sucrose', '1_meter',\n",
      "       '100_meters'],\n",
      "      dtype='object')\n",
      "Index(['1_unit', '100_ml', '1_cm', 'DHA_+_EPA', 'Acetic_acid', 'Unsaturated',\n",
      "       'Acidic_acid', 'Linoleic_acid', 'DHA', 'EPA', 'Chlorophyll'],\n",
      "      dtype='object')\n",
      "['Monounsaturated_fat' 'Polyunsaturated_fat' 'Reduced_sodium' 'Lactose'\n",
      " 'Vitamin_D_Calciprolol' 'caffeine' 'Fat_without_trans' 'Pantothenic_acid'\n",
      " 'Trans_fat' 'Of_which_unsaturated_fat' '6_omega_fatty_acids'\n",
      " 'From_sugars_to_organic_acids' 'Salt' 'Lycopene' 'Soluble_fiber'\n",
      " 'Oleic_fatty_acids' 'K_Potassium' 'starch' 'Linoleic_fatty_acid.1'\n",
      " 'Lutein' 'Galactooligosaccharides' 'Chloride' 'AA_fatty_acid'\n",
      " 'Vitamin_B3_Nicotinamide_Equilibrium' 'humidity' 'chromium' 'Molybdenum']\n"
     ]
    }
   ],
   "source": [
    "print(sts_dropped_collumns) #columns that were droped due to being all zeros at the beginning\n",
    "print(all_dropped_collumns) #columns that were droped due to being all zeros after droping products measured by unwanted units\n",
    "print(col_droped) #columns that were droped due to having less than 20 non-zero values"
   ]
  },
  {
   "cell_type": "markdown",
   "id": "f9e94419",
   "metadata": {},
   "source": [
    "noticed that Chloride DHA, EPA, and DHA_+_EPA columns fell in the filtering we did. Thus, these are the things we wanted to do and the ones we left with:\n",
    "##### Unite the columns:\n",
    "~~- DHA_fatty_acid and DHA~~ \n",
    "- A_vitamin and Vitamin_A_is_worth_retinol\n",
    "- Dietary_fiber and Dietary_fiber.1\n",
    "- Potassium and K_Potassium\n",
    "- Vitamin_E_equals_alpha_tocopherol and Vitamin_E.\n",
    "- Niacin, Vitamin_B3_Nicotinamide_Equilibrium and Vitamin_b3\n",
    "\n",
    "~~- sodium and Chloride~~\n",
    "\n",
    "~~- DHA and EPA with DHA_+_EPA (?)~~\n",
    "\n",
    "##### Look at features we suspect may have a high correlation:\n",
    "- Vitamin b's group\n",
    "- all the things that contain sugars\n",
    "- Carbohydrate_sugars and Carbohydrate\n",
    "- correlations with energy (energy, which is calories, can come from many different features)\n",
    "- the many kinds of fat\n",
    "\n",
    "~~- DHA and EPA with DHA_+_EPA (?)~~\n",
    "\n",
    "Before we continued to work with the data, we wanted to work on the feature in the data set comfortably, so we split the prices from the nutrition values. Then, we created another train and test set based on how many products have values in each column, because logically, the nutrition values we have more can help us predict the price to a wider range of products."
   ]
  },
  {
   "cell_type": "code",
   "execution_count": 9,
   "id": "4c6f0e51",
   "metadata": {},
   "outputs": [],
   "source": [
    "products = prod.drop(\"price_per_100g\", axis=1)\n",
    "prices = prod[\"price_per_100g\"].copy()"
   ]
  },
  {
   "cell_type": "markdown",
   "id": "0bcbe156",
   "metadata": {},
   "source": [
    "## 2. creating a new data set, scaling:"
   ]
  },
  {
   "cell_type": "code",
   "execution_count": 10,
   "id": "efcd5211",
   "metadata": {},
   "outputs": [
    {
     "data": {
      "image/png": "[encoded data removed]",
      "text/plain": [
       "<Figure size 1440x360 with 1 Axes>"
      ]
     },
     "metadata": {},
     "output_type": "display_data"
    }
   ],
   "source": [
    "df_num = []\n",
    "df_name = []\n",
    "for col in products.columns:\n",
    "    df_num.append(int(products[col].astype(bool).sum(axis=0)))\n",
    "    df_name.append(col)\n",
    "df2 = pd.DataFrame([df_name, df_num]).transpose()\n",
    "ax = df2.plot(x_compat=True)\n",
    "ax.xaxis.set_major_locator(ticker.MultipleLocator()) #Set a tick on each integer multiple of a base within the view interval.\n",
    "plta.gcf().set_size_inches(20, 5)\n",
    "plta.show() # to check which features can be given up\n",
    "#it seems that starting from feature number 27, we can give up on all of the features\n",
    "#it makes sense because when we did the web scraping, it added to the keys, the names of the columns, \n",
    "#a name each time it was not already there. therefore, we would expect the common keys to be at the beginning of the columns"
   ]
  },
  {
   "cell_type": "markdown",
   "id": "401bbd3e",
   "metadata": {},
   "source": [
    "we can see from the graph that the mass of products we have with more than 1000 non-zero values is between columns 2 to 26. Based on that, we created a new data set of only these features and the price columns. (the reason we decided not to take specific columns is to prevent doing overfitting)\n",
    "\n",
    "In the end, when we tried to run the models we decided what kind of filtering is the most worthy, and which features are better for predictions (what feature selection we should do)."
   ]
  },
  {
   "cell_type": "code",
   "execution_count": 11,
   "id": "17593f2b",
   "metadata": {
    "scrolled": true
   },
   "outputs": [],
   "source": [
    "products2 = products.iloc[:,2:26] #we created the second dataset we wanted. We put it aside for a while.\n",
    "prices2 = prices.copy()"
   ]
  },
  {
   "cell_type": "markdown",
   "id": "b33cd9d4",
   "metadata": {},
   "source": [
    "## 3.Analyzing and visualizing the first data set:"
   ]
  },
  {
   "cell_type": "markdown",
   "id": "06a2b636",
   "metadata": {},
   "source": [
    "### Uniting the desired columns:"
   ]
  },
  {
   "cell_type": "code",
   "execution_count": 12,
   "id": "1d96fb68",
   "metadata": {},
   "outputs": [],
   "source": [
    "def merge_two_columns(col1, col2, dataframe, index_col):\n",
    "    if col1 in dataframe.columns and col2 in dataframe.columns: #checks if both columns exist in the data frame\n",
    "        dataframe = dataframe.reset_index()\n",
    "        row = 0\n",
    "        for prod in dataframe[col1]: #running on the values in the column\n",
    "            if (prod==0):\n",
    "                if (dataframe.at[row , col2]!=0): \n",
    "                    dataframe.at[row, col1] =  dataframe.at[row ,col2]  \n",
    "            row = row+1\n",
    "        dataframe = dataframe.drop([col2], axis = 1)\n",
    "        dataframe = dataframe.set_index(index_col, drop=True)\n",
    "        return dataframe\n",
    "    else:\n",
    "        return dataframe"
   ]
  },
  {
   "cell_type": "code",
   "execution_count": 13,
   "id": "ffdcb824",
   "metadata": {},
   "outputs": [],
   "source": [
    "#we united the columns we set as a goal to unite in the beginning\n",
    "products = merge_two_columns('A_vitamin', 'Vitamin_A_is_worth_retinol', products, 'Product_Name')\n",
    "products = merge_two_columns('Dietary_fiber', 'Dietary_fiber.1', products, 'Product_Name')\n",
    "products = merge_two_columns('potassium', 'K_Potassium', products, 'Product_Name')\n",
    "products = merge_two_columns('Vitamin_E.', 'Vitamin_E_equals_alpha_tocopherol', products, 'Product_Name')\n",
    "products = merge_two_columns('Vitamin_D.', 'Vitamin_D_Calciprolol', products, 'Product_Name')\n",
    "products = merge_two_columns('Vitamin_B3', 'Niacin', products, 'Product_Name')\n",
    "products = merge_two_columns('Vitamin_B3', 'Vitamin_B3_Nicotinamide_Equilibrium', products, 'Product_Name')\n",
    "products = merge_two_columns('Vitamin_B3', 'Nicotinamide', products, 'Product_Name')"
   ]
  },
  {
   "cell_type": "markdown",
   "id": "8db4d3a9",
   "metadata": {},
   "source": [
    "### Checking the correlations:"
   ]
  },
  {
   "cell_type": "markdown",
   "id": "e9a9365f",
   "metadata": {},
   "source": [
    "###### Checking the correlation between the Vitamin b's group:\n",
    "we found on wikirefua that Folic acid = Vitamin B9, Niacin = Vitamin B3, Biotin = Vitamin B7 https://www.wikirefua.org.il/w/index.php?title=%D7%95%D7%99%D7%98%D7%9E%D7%99%D7%9F_B\n",
    "It's written as well, that once, all the 8 types of Vitamin B(1, 2, 3, 5, 6, 7, 9, 12) were considered as the same vitamin - vitamin B.\n",
    "\n",
    "In time, humanity found that they are different and each one has other functions. the reason why they all were considered the same Vitamin is that they are often appear together in the same types of food. \n",
    "\n",
    "Hence, we'll try to find a correlation between the different types of vitamin B, to unite them all under one column - the Vitamin B group."
   ]
  },
  {
   "cell_type": "code",
   "execution_count": 14,
   "id": "274df8d1",
   "metadata": {},
   "outputs": [
    {
     "data": {
      "text/plain": [
       "<AxesSubplot:>"
      ]
     },
     "execution_count": 14,
     "metadata": {},
     "output_type": "execute_result"
    },
    {
     "data": {
      "image/png": "[encoded data removed]",
      "text/plain": [
       "<Figure size 576x396 with 2 Axes>"
      ]
     },
     "metadata": {},
     "output_type": "display_data"
    }
   ],
   "source": [
    "Bs = ['Vitamin_B1', 'Vitamin_B2', 'Vitamin_B3', 'Vitamin_B5', 'Vitamin_B6',  'Biotin', 'Folic_acid', 'Vitamin_B12']\n",
    "vitamin_B = products.loc[:,Bs]\n",
    "corrV = vitamin_B.corr()\n",
    "sns.heatmap(corrV, annot=True)"
   ]
  },
  {
   "cell_type": "markdown",
   "id": "c9a14b5f",
   "metadata": {},
   "source": [
    "From the matrix, we concluded that the column we might want to take to represent the Vitamin B group is either Vitamin_B1, Vitamin_B3, Vitamin_B6, or Vitamin_B9 (Folic_acid). \n",
    "\n",
    "We chose them by the number of correlations that are about>=0.8 (we didn't consider Vitamin_B2 because as we can see, the correlation between Vitamin_B1 and Vitamin_B2 is 1).\n",
    "\n",
    "Now, we'll choose which one of the columns it will be by these criteria:\n",
    "- the one with the higher correlations\n",
    "- the one with the least lower correlations\n",
    "- the one with the biggest correlation with the column we want to predict - price_per_100g"
   ]
  },
  {
   "cell_type": "code",
   "execution_count": 15,
   "id": "373a2d0f",
   "metadata": {},
   "outputs": [
    {
     "name": "stdout",
     "output_type": "stream",
     "text": [
      "Vitamin_B1 : number of correlations that are greater than 0.8:  3\n",
      "Vitamin_B1 : number of correlations that are below or equal 0.2:  2\n",
      "correlation between price_per_100g and  Vitamin_B1 :  0.012531075817514404\n",
      "Vitamin_B6 : number of correlations that are greater than 0.8:  1\n",
      "Vitamin_B6 : number of correlations that are below or equal 0.2:  0\n",
      "correlation between price_per_100g and  Vitamin_B6 :  0.01890118527237466\n",
      "Folic_acid : number of correlations that are greater than 0.8:  3\n",
      "Folic_acid : number of correlations that are below or equal 0.2:  2\n",
      "correlation between price_per_100g and  Folic_acid :  0.015009713781120017\n",
      "Vitamin_B3 : number of correlations that are greater than 0.8:  1\n",
      "Vitamin_B3 : number of correlations that are below or equal 0.2:  0\n",
      "correlation between price_per_100g and  Vitamin_B3 :  0.015422283447490947\n"
     ]
    }
   ],
   "source": [
    "might_be_rep = ['Vitamin_B1', 'Vitamin_B6', 'Folic_acid', 'Vitamin_B3']\n",
    "for rep in might_be_rep:\n",
    "    column_1 = prices\n",
    "    column_2 = products[rep]\n",
    "    correlation = column_1.corr(column_2)\n",
    "    print(rep, \": number of correlations that are greater than 0.8: \", (corrV[rep].sort_values(ascending=False)>0.8).sum())\n",
    "    print(rep, \": number of correlations that are below or equal 0.2: \", (corrV[rep].sort_values(ascending=False)<=0.2).sum())\n",
    "    print(\"correlation between price_per_100g and \",rep,\": \", correlation)"
   ]
  },
  {
   "cell_type": "markdown",
   "id": "5a4f5a38",
   "metadata": {},
   "source": [
    "By the two first criteria we have put first, it seems that the columns we should take as a representative for the Vitamin B group are the column of Vitamin_B6 - it has the biggest number of correlations that are greater than 0.8 (which is 4), and it has the smallest number of correlations that are below or equal 0.2 (which is 1). It has, as well, the biggest correlation with price_per_100g.\n",
    "\n",
    "we tried as well a different approach - instead of choosing one column to be the representative of the vitamin B group, we tried to merge between the different Vitamin Bs. we gave more significance to Vitamin_B6 and the ones that were designated to be the representatives by this order: first Vitamin_B6, then Vitamin_B9 (Folic_acid) (who has the best correlation with the price per 100g, and the smallest number of correlations that are below or equal 0.2 as well), After Vitamin_B1, and then Vitamin_B3, the last of the might_be_rep. Then there was be Vitamin_B12, which has the same number of greater than 0.8 correlations as Vitamin_B5, but fewer correlations that are below or equal to 0.2. And last but not least were Vitamin_B5 and Biotin, because we can see from the graph that Vitamin_B5 has the best higher correlationsand the Biotin the seconds.\n",
    "\n",
    "we tried different combinations of the code that appears in the next window, but it seemed that no matter what we did, the correlation between the column we tried to create to the price_per_100g stayed the same.\n",
    "\n",
    "In the end, we decided to stick with the Vitamin_B6 as the representer of this group, except for Vitamin_B5 and Biotin who had lower correlations with the rest of the Vitamin Bs' group, so we wanted to look further into them."
   ]
  },
  {
   "cell_type": "code",
   "execution_count": 16,
   "id": "3aef0896",
   "metadata": {},
   "outputs": [],
   "source": [
    "products['Partof_vitaminB'] = products['Vitamin_B6']\n",
    "products = products.drop(['Vitamin_B6','Vitamin_B1','Vitamin_B2','Vitamin_B12','Folic_acid','Vitamin_B3'], axis=1)"
   ]
  },
  {
   "cell_type": "code",
   "execution_count": 17,
   "id": "a3f8d009",
   "metadata": {},
   "outputs": [
    {
     "data": {
      "text/plain": [
       "Vitamin_B5              1.000000\n",
       "Biotin                  0.418366\n",
       "Partof_vitaminB         0.410156\n",
       "Vitamin_E.              0.314521\n",
       "Inositol                0.276577\n",
       "Alpha_linolenic_acid    0.275300\n",
       "Choline                 0.268676\n",
       "copper                  0.259866\n",
       "iodine                  0.219451\n",
       "Vitamin_K.              0.219172\n",
       "Name: Vitamin_B5, dtype: float64"
      ]
     },
     "execution_count": 17,
     "metadata": {},
     "output_type": "execute_result"
    }
   ],
   "source": [
    "corr_matrix5 = products.corr()\n",
    "corr_matrix5['Vitamin_B5'].sort_values(ascending=False).head(10)\n",
    "#the only connection found - between copper and b5: the need for vitamin B5 is reduced in a copper-deficient(https://www.traceelements.com/Docs/The%20Nutritional%20Relationships%20of%20Copper.pdf)"
   ]
  },
  {
   "cell_type": "code",
   "execution_count": 18,
   "id": "98a7ed44",
   "metadata": {},
   "outputs": [
    {
     "data": {
      "text/plain": [
       "Biotin                  1.000000\n",
       "Vitamin_B5              0.418366\n",
       "Vitamin_E.              0.396381\n",
       "Partof_vitaminB         0.311278\n",
       "Vitamin_C               0.256539\n",
       "Alpha_linolenic_acid    0.201720\n",
       "Choline                 0.199558\n",
       "Inositol                0.199430\n",
       "Ascorbic_acid           0.197212\n",
       "copper                  0.192290\n",
       "Name: Biotin, dtype: float64"
      ]
     },
     "execution_count": 18,
     "metadata": {},
     "output_type": "execute_result"
    }
   ],
   "source": [
    "corr_matrix7 = products.corr()\n",
    "corr_matrix7['Biotin'].sort_values(ascending=False).head(10)\n",
    "#The only connection found - between biotin and vitamin e is: both told to help with looks of skin and hair(https://www.everydayhealth.com/pictures/supplements-skin-hair/) "
   ]
  },
  {
   "cell_type": "markdown",
   "id": "b7587bca",
   "metadata": {},
   "source": [
    "As we saw, the highest correlation Vitamin_B5 has is with Biotin, and Biotin's highest correlation is with Vitamin E. We couldn't find a reason for that connection between them, except for the fact that They are water-soluble, which means that the body can't store them. (https://medlineplus.gov/ency/article/002410.htm)\n",
    "\n",
    "Furthermore, because we did find a representative of the majority of the Vitamin B group, we decided we wanted to look for a correlation within all the vitamin groups."
   ]
  },
  {
   "cell_type": "code",
   "execution_count": 19,
   "id": "fcac826e",
   "metadata": {},
   "outputs": [
    {
     "data": {
      "text/plain": [
       "<AxesSubplot:>"
      ]
     },
     "execution_count": 19,
     "metadata": {},
     "output_type": "execute_result"
    },
    {
     "data": {
      "image/png": "[encoded data removed]",
      "text/plain": [
       "<Figure size 576x396 with 2 Axes>"
      ]
     },
     "metadata": {},
     "output_type": "display_data"
    }
   ],
   "source": [
    "vitamins_lst=['Vitamin_C','Vitamin_K.','Vitamin_E.','A_vitamin','Vitamin_D.' ,'Partof_vitaminB', 'Biotin', 'Vitamin_B5']\n",
    "vitaminS = products.loc[:,vitamins_lst]\n",
    "corrvl = vitaminS.corr()\n",
    "sns.heatmap(corrvl, annot=True)"
   ]
  },
  {
   "cell_type": "markdown",
   "id": "6c143fb6",
   "metadata": {},
   "source": [
    "There isn't a particularly high correlation. There is a weak connection between a couple of them, but we can attribute that to the fact that a lot of the times vitamin appears together in the same kinds of foods (such as fruits)."
   ]
  },
  {
   "cell_type": "markdown",
   "id": "da37fe55",
   "metadata": {},
   "source": [
    "###### Checking correlations between all the things that contain sugars (and Carbohydrate_sugars and Carbohydrate):"
   ]
  },
  {
   "cell_type": "code",
   "execution_count": 20,
   "id": "a7eb2d6d",
   "metadata": {
    "scrolled": false
   },
   "outputs": [
    {
     "data": {
      "text/plain": [
       "<AxesSubplot:>"
      ]
     },
     "execution_count": 20,
     "metadata": {},
     "output_type": "execute_result"
    },
    {
     "data": {
      "image/png": "[encoded data removed]",
      "text/plain": [
       "<Figure size 576x396 with 2 Axes>"
      ]
     },
     "metadata": {},
     "output_type": "display_data"
    }
   ],
   "source": [
    "corr_matrix = products.corr()\n",
    "Sm = ['Teaspoons_of_sugar', 'Carbohydrate_sugars', 'Of_which_added_sugar', 'Sugars']\n",
    "Sugars_matix = products.loc[:,Sm]\n",
    "corrS = Sugars_matix.corr()\n",
    "sns.heatmap(corrS,annot=True)"
   ]
  },
  {
   "cell_type": "markdown",
   "id": "714f8e0e",
   "metadata": {},
   "source": [
    "From the graph, we saw that the only strong correlation there is between Teaspoons_of_sugar and Carbohydrate_sugars, which is about 0.8.\n",
    "\n",
    "The correlation between \"Teaspoons of sugar\" and \"Carbohydrate sugars\" is high, because as we found at https://www.camoni.co.il/411804/559434, a nutritionist named Marina Broshi explained that Teaspoons of sugar = Carbohydrate sugars/4. \n",
    "\n",
    "Then, we checked the correlation between Teaspoons_of_sugar, Carbohydrate_sugars, and price_per_100g (to decide on which of the two columns we should give up), but before the decision to drop the Carbohydrate sugars column, we checked as well the correlation between Carbohydrates and Carbohydrate_sugars, as we wanted before."
   ]
  },
  {
   "cell_type": "code",
   "execution_count": 21,
   "id": "61bd1bd9",
   "metadata": {},
   "outputs": [
    {
     "name": "stdout",
     "output_type": "stream",
     "text": [
      "correlation between Carbohydrates and Carbohydrate_sugars  0.4499130505845524\n"
     ]
    }
   ],
   "source": [
    "column_1 = products[\"Carbohydrate_sugars\"]\n",
    "column_2 = products[\"Carbohydrates\"]\n",
    "correlation = column_1.corr(column_2)\n",
    "print(\"correlation between Carbohydrates and Carbohydrate_sugars \", correlation)"
   ]
  },
  {
   "cell_type": "markdown",
   "id": "8e35fccb",
   "metadata": {},
   "source": [
    "The correlation between Carbohydrates and Carbohydrate_sugars is lower than the one between Carbohydrate_sugars and Teaspoons_of_sugar (where there is an exact formula to calculate the connection). \n",
    "\n",
    "Due to that, we decided to drop the Carbohydrate sugars column."
   ]
  },
  {
   "cell_type": "code",
   "execution_count": 22,
   "id": "9f315158",
   "metadata": {},
   "outputs": [],
   "source": [
    "products = merge_two_columns('Carbohydrate_sugars', 'Teaspoons_of_sugar', products, 'Product_Name')"
   ]
  },
  {
   "cell_type": "markdown",
   "id": "77305dca",
   "metadata": {},
   "source": [
    "###### Checking correlations between energy and the rest of the nutrition values:"
   ]
  },
  {
   "cell_type": "code",
   "execution_count": 23,
   "id": "64a12352",
   "metadata": {
    "scrolled": true
   },
   "outputs": [
    {
     "name": "stdout",
     "output_type": "stream",
     "text": [
      "energy                    1.000000\n",
      "Fats                      0.754608\n",
      "Carbohydrates             0.433070\n",
      "Carbohydrate_sugars       0.356064\n",
      "Dietary_fiber             0.216757\n",
      "iron                      0.144447\n",
      "Proteins                  0.120627\n",
      "Cholesterol               0.096282\n",
      "Of_which_saturated_fat    0.086083\n",
      "Trans_fatty_acids         0.084366\n",
      "Name: energy, dtype: float64\n"
     ]
    }
   ],
   "source": [
    "corr_matrix = products.corr()\n",
    "corr_matrix[\"energy\"].sort_values(ascending=False)\n",
    "print(corr_matrix[\"energy\"].sort_values(ascending=False).head(10))"
   ]
  },
  {
   "cell_type": "markdown",
   "id": "0e1b80d1",
   "metadata": {},
   "source": [
    "The strong correlation between \"energy\" and \"Fats\" is high, because as we found at Wikipedia, https://he.wikipedia.org/wiki/%D7%A7%D7%9C%D7%95%D7%A8%D7%99%D7%94, energy, which is Calories can be calculated by: 1g of Fats=1g of energy*9 ."
   ]
  },
  {
   "cell_type": "code",
   "execution_count": 24,
   "id": "4b5493a1",
   "metadata": {},
   "outputs": [
    {
     "name": "stdout",
     "output_type": "stream",
     "text": [
      "correlation with energy  0.027415116148852624\n",
      "correlation with Fats  0.07408246669143856\n"
     ]
    }
   ],
   "source": [
    "column_1 = products[\"energy\"]\n",
    "column_2 = prices\n",
    "correlation = column_1.corr(column_2)\n",
    "print(\"correlation with energy \", correlation)\n",
    "column_1 = products[\"Fats\"]\n",
    "column_2 = prices\n",
    "correlation = column_1.corr(column_2)\n",
    "print(\"correlation with Fats \", correlation)"
   ]
  },
  {
   "cell_type": "markdown",
   "id": "6f0782a0",
   "metadata": {},
   "source": [
    "The correlation between Fats and the price is higher than The correlation between energy and the price. Thus, we decided to merge the energy column into the Fats column."
   ]
  },
  {
   "cell_type": "code",
   "execution_count": 25,
   "id": "3add21ce",
   "metadata": {},
   "outputs": [],
   "source": [
    "products = merge_two_columns('Fats', 'energy', products, 'Product_Name')"
   ]
  },
  {
   "cell_type": "markdown",
   "id": "16c17e7e",
   "metadata": {},
   "source": [
    "###### Checking correlations between the many kinds of fat: \n",
    "(we'll just point out that Linoleic_fatty_acid and Alpha_Linolenic_Acid are not the same fatty acid. In their compound, Linoleic_fatty_acid has 2 more hydrogens than Alpha_Linolenic_Acid)\n",
    "\n",
    "Alpha_Linolenic_Acid(ALA)'s compound: C18H30O2 (https://en.wikipedia.org/wiki/Alpha-Linolenic_acid)\n",
    "\n",
    "Linoleic_fatty_acid's compound: C18H32O2 (https://en.wikipedia.org/wiki/Linoleic_acid)"
   ]
  },
  {
   "cell_type": "code",
   "execution_count": 26,
   "id": "a6f2d096",
   "metadata": {},
   "outputs": [
    {
     "data": {
      "image/png": "[encoded data removed]",
      "text/plain": [
       "<Figure size 864x864 with 2 Axes>"
      ]
     },
     "metadata": {},
     "output_type": "display_data"
    }
   ],
   "source": [
    "Ft = ['Fats','Of_which_saturated_fat','3_omega_fatty_acids','Saturated_fatty_acids'\n",
    "             ,'ARA_fatty_acid', 'DHA_fatty_acid','Linoleic_fatty_acid','Alpha_linolenic_acid']\n",
    "Fats_list = products.loc[:,Ft]\n",
    "cmap = sns.diverging_palette(30, 230, 90, 20, as_cmap=True)\n",
    "fig, ax = plt.subplots(figsize=(12,12))\n",
    "sns.heatmap(Fats_list.corr(),annot=True, cmap=cmap)\n",
    "sns.set(font_scale=1)"
   ]
  },
  {
   "cell_type": "markdown",
   "id": "2ff4a832",
   "metadata": {},
   "source": [
    "we can see from the graph that there is an area with a high correlation between three features - ARA_fatty_acid, DHA_fatty_acid, and Linoleic_fatty_acid. The higher correlations are with ARA_fatty_acid so we decided to dig further into the origins of ARA_fatty_acid. \n",
    "\n",
    "we found out that Linoleic acid, ARA_fatty_acid are subsets of 6_omega_fatty_acids https://en.wikipedia.org/wiki/Omega-6_fatty_acid\n",
    "\n",
    "We decided to unite these columns, but not before we checked does some of the fats we have are subsets of 3_omega_fatty_acids. we discovered that DHA_fatty_acid together with ALA (which is Alpha_Linolenic_Acid) are subsets of 3_omega_fatty_acids.https://en.wikipedia.org/wiki/Omega-3_fatty_acid\n",
    "\n",
    "Also, we found that there is a connection between linoleic acids and oleic acids."
   ]
  },
  {
   "cell_type": "code",
   "execution_count": 27,
   "id": "a68768e3",
   "metadata": {},
   "outputs": [],
   "source": [
    "products['6_omega_fatty_acids'] = products['ARA_fatty_acid']\n",
    "products = merge_two_columns('6_omega_fatty_acids', 'ARA_fatty_acid', products, 'Product_Name')\n",
    "products = merge_two_columns('6_omega_fatty_acids', 'Linoleic_fatty_acid', products, 'Product_Name')\n",
    "products = merge_two_columns('3_omega_fatty_acids', 'DHA_fatty_acid', products, 'Product_Name')\n",
    "products = merge_two_columns('3_omega_fatty_acids', 'Alpha_linolenic_acid', products, 'Product_Name')"
   ]
  },
  {
   "cell_type": "markdown",
   "id": "1cd54d01",
   "metadata": {},
   "source": [
    "After that, we wanted to check the correlation matrix of all the features that have been left, to see if there's anything else worth checking(a.k.a merging or dropping)."
   ]
  },
  {
   "cell_type": "code",
   "execution_count": 28,
   "id": "6a30752e",
   "metadata": {},
   "outputs": [
    {
     "data": {
      "text/plain": [
       "<AxesSubplot:>"
      ]
     },
     "execution_count": 28,
     "metadata": {},
     "output_type": "execute_result"
    },
    {
     "data": {
      "image/png": "[encoded data removed]",
      "text/plain": [
       "<Figure size 576x396 with 2 Axes>"
      ]
     },
     "metadata": {},
     "output_type": "display_data"
    }
   ],
   "source": [
    "corr_matrix = products.corr()\n",
    "sns.heatmap(corr_matrix) "
   ]
  },
  {
   "cell_type": "markdown",
   "id": "4352f359",
   "metadata": {},
   "source": [
    "We noticed that Nucleotides has a couple of high correlations, so we decided to check that out."
   ]
  },
  {
   "cell_type": "code",
   "execution_count": 29,
   "id": "2fd9e768",
   "metadata": {},
   "outputs": [
    {
     "name": "stdout",
     "output_type": "stream",
     "text": [
      "Nucleotides                       1.000000\n",
      "Taurine                           0.997463\n",
      "selenium                          0.995566\n",
      "chlorine                          0.994288\n",
      "A_vitamin                         0.833794\n",
      "Carnitine                         0.739932\n",
      "Inositol                          0.419211\n",
      "copper                            0.414246\n",
      "phosphorus                        0.394302\n",
      "potassium                         0.343315\n",
      "Choline                           0.342100\n",
      "iodine                            0.331098\n",
      "Vitamin_K.                        0.323811\n",
      "Vitamin_E.                        0.301256\n",
      "From_the_carbohydrates_lactose    0.277454\n",
      "Name: Nucleotides, dtype: float64\n"
     ]
    }
   ],
   "source": [
    "print(corr_matrix[\"Nucleotides\"].sort_values(ascending=False).head(15))"
   ]
  },
  {
   "cell_type": "markdown",
   "id": "2fba7bf0",
   "metadata": {},
   "source": [
    "We found that the high correlation between Nucleotides, Choline, and Taurine can be explained by the fact that they are all are very popular in baby food (https://www.cfs.gov.hk/english/multimedia/multimedia_pub/multimedia_pub_fsf_81_02.html), so we decided to merge these three nutrition values into one column.\n",
    "\n",
    "other than that we weren't able to find any more explanations for the high correlations, but we did find interesting connections between a couple of the nutrition values, attached for your reference:\n",
    "\n",
    "(found a connection between taurine on the toxicity of vitamin A in rats: https://www.sciencedirect.com/science/article/abs/pii/S0308814607005420\n",
    "\n",
    "found a comparison between chronic taurine and vitamin E plus selenium supplementations: https://pubmed.ncbi.nlm.nih.gov/12688428/\n",
    "\n",
    "found rate studies of the destruction of polyunsaturated fatty acids in vitro by chlorine-based disinfectants: https://pubmed.ncbi.nlm.nih.gov/1504266/\n",
    "\n",
    "we have consulted with a chimist but the only big connection was between the molecular structure of Vitamin_A and 6_omega_fatty_acids and the fact that they are both dissolved in fat / both fatty)."
   ]
  },
  {
   "cell_type": "code",
   "execution_count": 30,
   "id": "90ba7711",
   "metadata": {},
   "outputs": [],
   "source": [
    "products['have_to_do_with_milk'] = products['Nucleotides'] \n",
    "products = merge_two_columns('have_to_do_with_milk', 'Nucleotides', products, 'Product_Name')\n",
    "products = merge_two_columns('have_to_do_with_milk', 'Choline', products, 'Product_Name')\n",
    "products = merge_two_columns('have_to_do_with_milk', 'Taurine', products, 'Product_Name')"
   ]
  },
  {
   "cell_type": "markdown",
   "id": "2c243e74",
   "metadata": {},
   "source": [
    "For the last cleaning, before going into testing models, we wanted to search if there are columns we can merge in the second data set that we have already merged in the first one."
   ]
  },
  {
   "cell_type": "code",
   "execution_count": 31,
   "id": "9b56f6cc",
   "metadata": {},
   "outputs": [
    {
     "data": {
      "text/plain": [
       "Index(['Dietary_fiber', 'Folic_acid', 'energy', 'Proteins', 'Carbohydrates',\n",
       "       'Fats', 'sodium', 'Vitamin_B3', 'potassium', 'Vitamin_C', 'iron',\n",
       "       'Vitamin_B2', 'Vitamin_K.', 'Vitamin_E.', 'Magnesium',\n",
       "       'Carbohydrate_sugars', 'A_vitamin', 'Dietary_fiber.1', 'zinc',\n",
       "       'Of_which_added_sugar', 'Of_which_saturated_fat', 'Trans_fatty_acids',\n",
       "       'Teaspoons_of_sugar', 'calcium'],\n",
       "      dtype='object')"
      ]
     },
     "execution_count": 31,
     "metadata": {},
     "output_type": "execute_result"
    }
   ],
   "source": [
    "products2.columns"
   ]
  },
  {
   "cell_type": "markdown",
   "id": "7932384e",
   "metadata": {},
   "source": [
    "There was indeed a few merges we have already done in the first data set, so we did them as well on the second."
   ]
  },
  {
   "cell_type": "code",
   "execution_count": 32,
   "id": "4b706535",
   "metadata": {},
   "outputs": [],
   "source": [
    "products2 = merge_two_columns('Dietary_fiber', 'Dietary_fiber.1', products2, 'Product_Name')\n",
    "products2 = merge_two_columns('Teaspoons_of_sugar', 'Carbohydrate_sugars', products2, 'Product_Name')\n",
    "products2 = merge_two_columns('Fats', 'energy', products2, 'Product_Name')"
   ]
  },
  {
   "cell_type": "markdown",
   "id": "a43d64fa",
   "metadata": {},
   "source": [
    "## 4. Choosing a metric method and checking habits of dummy-model: "
   ]
  },
  {
   "cell_type": "markdown",
   "id": "ee0d847a",
   "metadata": {},
   "source": [
    "After we accomplished all of our goals from the beginning and by that prepared the data, we wanted to choose a performance measure. for a regression project, like ours there are a few performance measures.\n",
    "\n",
    "\n",
    "we decided to measure our project by RMSE.\n",
    "\n",
    "RMSE means- is the square root of the mean of the square of all of the errors.\n",
    "\n",
    "we decided to choose RMSE because it is considered an excellent general-purpose error metric for numerical predictions."
   ]
  },
  {
   "cell_type": "markdown",
   "id": "59d4599c",
   "metadata": {},
   "source": [
    "what we did next was to create a function that is functioning as a pipeline (doing a series of orders by order), to prepare new data coming.\n",
    "Then we checked the dummy regressor score."
   ]
  },
  {
   "cell_type": "code",
   "execution_count": 33,
   "id": "919d4416",
   "metadata": {},
   "outputs": [],
   "source": [
    "def data_ready_version_1(data): \n",
    "    dataw = data.copy()\n",
    "    dataw.replace('(^\\s+|\\s+$)', '', regex=True, inplace=True)\n",
    "    dataw = dataw.set_index('code')\n",
    "    dataw = dataw.drop_duplicates()\n",
    "    dataw = dataw.set_index('Product_Name')\n",
    "    \n",
    "    columns_need_to_drop = np.array([])\n",
    "    columns_need_to_drop = np.append(columns_need_to_drop, all_dropped_collumns)\n",
    "    columns_need_to_drop = np.append(columns_need_to_drop, sts_dropped_collumns)\n",
    "    columns_need_to_drop = np.append(columns_need_to_drop, col_droped)\n",
    "    columns_need_to_drop = set(columns_need_to_drop)\n",
    "    \n",
    "    \n",
    "    dataw = dataw.drop(columns_need_to_drop, axis=1)\n",
    "    \n",
    "    \n",
    "    for col in dataw.columns:  \n",
    "        dataw[col] = pd.to_numeric(dataw[col], errors='coerce')\n",
    "    dataw = dataw.fillna(0)\n",
    "\n",
    "    unwanted_units = dataw[(dataw['100_g']==0) & (dataw['1_kg']==0)].index \n",
    "    dataw = dataw.drop(unwanted_units)\n",
    "    dataw['1_kg'] = dataw['1_kg']/10\n",
    "    dataw['price_per_100g'] = dataw['1_kg'] + dataw['100_g']\n",
    "    dataw = dataw.drop(['100_g' ,'1_kg'], axis=1)\n",
    "    \n",
    "    dataw_products = dataw.drop(\"price_per_100g\", axis=1) \n",
    "    dataw_prices = dataw[\"price_per_100g\"].copy()\n",
    "    \n",
    "    dataw_products = merge_two_columns('A_vitamin', 'Vitamin_A_is_worth_retinol', dataw_products, 'Product_Name')\n",
    "    dataw_products = merge_two_columns('Dietary_fiber', 'Dietary_fiber.1', dataw_products, 'Product_Name')\n",
    "    dataw_products = merge_two_columns('potassium', 'K_Potassium', dataw_products, 'Product_Name')\n",
    "    dataw_products = merge_two_columns('Vitamin_E.', 'Vitamin_E_equals_alpha_tocopherol', dataw_products, 'Product_Name')\n",
    "    dataw_products = merge_two_columns('Vitamin_D.', 'Vitamin_D_Calciprolol', dataw_products, 'Product_Name')\n",
    "    dataw_products = merge_two_columns('Vitamin_B3', 'Niacin', dataw_products, 'Product_Name')\n",
    "    dataw_products = merge_two_columns('Vitamin_B3', 'Vitamin_B3_Nicotinamide_Equilibrium', dataw_products, 'Product_Name')\n",
    "    dataw_products = merge_two_columns('Vitamin_B3', 'Nicotinamide', dataw_products, 'Product_Name')\n",
    "    \n",
    "    dataw_products['Partof_vitaminB'] = dataw_products['Vitamin_B6']\n",
    "    dataw_products = dataw_products.drop(['Vitamin_B2', 'Vitamin_B6','Folic_acid','Vitamin_B1','Vitamin_B12','Vitamin_B3'], axis=1)\n",
    "    dataw_products = merge_two_columns('Teaspoons_of_sugar', 'Carbohydrate_sugars', dataw_products, 'Product_Name')\n",
    "    dataw_products = merge_two_columns('Fats', 'energy', dataw_products, 'Product_Name')\n",
    "    dataw_products['6_omega_fatty_acids'] = dataw_products['ARA_fatty_acid']\n",
    "    dataw_products = merge_two_columns('6_omega_fatty_acids', 'ARA_fatty_acid', dataw_products, 'Product_Name')\n",
    "    dataw_products = merge_two_columns('6_omega_fatty_acids', 'Linoleic_fatty_acid', dataw_products, 'Product_Name')\n",
    "    dataw_products = merge_two_columns('3_omega_fatty_acids', 'DHA_fatty_acid', dataw_products, 'Product_Name')\n",
    "    dataw_products = merge_two_columns('3_omega_fatty_acids', 'Alpha_linolenic_acid', dataw_products, 'Product_Name')\n",
    "    dataw_products['have_to_do_with_milk'] = dataw_products['Nucleotides'] \n",
    "    dataw_products = merge_two_columns('have_to_do_with_milk', 'Nucleotides', dataw_products, 'Product_Name')\n",
    "    dataw_products = merge_two_columns('have_to_do_with_milk', 'Choline', dataw_products, 'Product_Name')\n",
    "    dataw_products = merge_two_columns('have_to_do_with_milk', 'Taurine', dataw_products, 'Product_Name')\n",
    "    \n",
    "    return dataw_products, dataw_prices"
   ]
  },
  {
   "cell_type": "code",
   "execution_count": 34,
   "id": "aa227eb9",
   "metadata": {},
   "outputs": [],
   "source": [
    "def data_ready_version_2(data): \n",
    "    dataw = data.copy()\n",
    "    dataw.replace('(^\\s+|\\s+$)', '', regex=True, inplace=True)\n",
    "    dataw = dataw.set_index('code')\n",
    "    dataw = dataw.drop_duplicates()\n",
    "    dataw = dataw.set_index('Product_Name')\n",
    "    \n",
    "    \n",
    "    columns_need_to_drop = np.array([])\n",
    "    columns_need_to_drop = np.append(columns_need_to_drop, all_dropped_collumns)\n",
    "    columns_need_to_drop = np.append(columns_need_to_drop, sts_dropped_collumns)\n",
    "    columns_need_to_drop = np.append(columns_need_to_drop, col_droped)\n",
    "    columns_need_to_drop = set(columns_need_to_drop)\n",
    "    \n",
    "    \n",
    "    dataw = dataw.drop(columns_need_to_drop, axis=1)\n",
    "    \n",
    "    \n",
    "    for col in dataw.columns:  \n",
    "        dataw[col] = pd.to_numeric(dataw[col], errors='coerce')\n",
    "    dataw = dataw.fillna(0)\n",
    "\n",
    "    \n",
    "    \n",
    "    unwanted_units = dataw[(dataw['100_g']==0) & (dataw['1_kg']==0)].index \n",
    "    dataw = dataw.drop(unwanted_units)\n",
    "    dataw['1_kg'] = dataw['1_kg']/10\n",
    "    dataw['price_per_100g'] = dataw['1_kg'] + dataw['100_g']\n",
    "    dataw = dataw.drop(['100_g' ,'1_kg'], axis=1)\n",
    "    \n",
    "    \n",
    "    dataw_products = dataw.drop(\"price_per_100g\", axis=1).iloc[:,2:26] \n",
    "    dataw_prices = dataw[\"price_per_100g\"].copy()\n",
    "    \n",
    "    dataw_products = merge_two_columns('Dietary_fiber', 'Dietary_fiber.1', dataw_products, 'Product_Name')\n",
    "    dataw_products = merge_two_columns('Teaspoons_of_sugar', 'Carbohydrate_sugars', dataw_products, 'Product_Name')\n",
    "    dataw_products = merge_two_columns('Fats', 'energy', dataw_products, 'Product_Name')\n",
    "    \n",
    "    return dataw_products, dataw_prices"
   ]
  },
  {
   "cell_type": "code",
   "execution_count": 35,
   "id": "d6f94405",
   "metadata": {},
   "outputs": [],
   "source": [
    "def RMSE(real, prediction):\n",
    "    return np.sqrt(MSE(real, prediction))"
   ]
  },
  {
   "cell_type": "code",
   "execution_count": 36,
   "id": "2383c2d8",
   "metadata": {},
   "outputs": [],
   "source": [
    "test_set_prod1, test_set_prices1 = data_ready_version_1(test_set)"
   ]
  },
  {
   "cell_type": "code",
   "execution_count": 37,
   "id": "6752287a",
   "metadata": {},
   "outputs": [],
   "source": [
    "test_set_prod2, test_set_prices2 = data_ready_version_2(test_set)"
   ]
  },
  {
   "cell_type": "code",
   "execution_count": 38,
   "id": "1fd9f493",
   "metadata": {},
   "outputs": [
    {
     "name": "stdout",
     "output_type": "stream",
     "text": [
      "Dummy Regressor mean squared error of 6.62\n"
     ]
    }
   ],
   "source": [
    "dummy_regr = DummyRegressor(strategy=\"mean\")\n",
    "dummy_regr.fit(products, prices)\n",
    "predictdum1 = dummy_regr.predict(test_set_prod1)\n",
    "mser = RMSE(test_set_prices1, predictdum1)\n",
    "print( \"Dummy Regressor mean squared error of \" + str(mser)[:4])"
   ]
  },
  {
   "cell_type": "code",
   "execution_count": 39,
   "id": "41f69e12",
   "metadata": {},
   "outputs": [
    {
     "name": "stdout",
     "output_type": "stream",
     "text": [
      "Dummy Regressor mean squared error of 6.62\n"
     ]
    }
   ],
   "source": [
    "dummy_regr = DummyRegressor(strategy=\"mean\")\n",
    "dummy_regr.fit(products2, prices2)\n",
    "predictdum2 = dummy_regr.predict(test_set_prod2)\n",
    "mser = RMSE(test_set_prices2, predictdum2)\n",
    "print( \"Dummy Regressor mean squared error of \" + str(mser)[:4])"
   ]
  },
  {
   "cell_type": "markdown",
   "id": "642be00d",
   "metadata": {},
   "source": [
    "## 5. Sampling models (and checking with cross validation):"
   ]
  },
  {
   "cell_type": "markdown",
   "id": "1e46797b",
   "metadata": {},
   "source": [
    "For each model we tried to find every parameter's importance by Feature Importance and by tried to fine-tune our models: (source - https://machinelearningmastery.com/calculate-feature-importance-with-python/)"
   ]
  },
  {
   "cell_type": "markdown",
   "id": "f8cb6f00",
   "metadata": {},
   "source": [
    "## A. Linear regression"
   ]
  },
  {
   "cell_type": "markdown",
   "id": "b92a6eaf",
   "metadata": {},
   "source": [
    "Linear regression is a model that tries to find a linear connection between all the features that has been given to it."
   ]
  },
  {
   "cell_type": "code",
   "execution_count": 40,
   "id": "7d9b215c",
   "metadata": {},
   "outputs": [
    {
     "name": "stdout",
     "output_type": "stream",
     "text": [
      "10.441611894477829\n",
      "310.0917302263486\n"
     ]
    }
   ],
   "source": [
    "kf = KFold(n_splits=10, random_state=42, shuffle=True)\n",
    "\n",
    "lin_reg = LinearRegression()\n",
    "predict1 = cross_val_predict(lin_reg, products, prices, cv=kf)\n",
    "rmse_linreg1 = RMSE(prices, predict1)\n",
    "print(rmse_linreg1)\n",
    "\n",
    "predict2 = cross_val_predict(lin_reg, products2, prices2, cv=kf)\n",
    "rmse_linreg2 = RMSE(prices2, predict2)\n",
    "print(rmse_linreg2)"
   ]
  },
  {
   "cell_type": "markdown",
   "id": "e7147e8c",
   "metadata": {},
   "source": [
    "we noticed that the score of the second version of the data set in the linear regression does not make sense. We looked through the values that the model gives to each product and found an outlier. After removing it, another outlier popped up. We couldn't explain the appearance of the outliers except for the fact that linear regression is not suitable for the task (even for the first data set, its score is worse than the dummy model's score)."
   ]
  },
  {
   "cell_type": "code",
   "execution_count": 41,
   "id": "ddb69150",
   "metadata": {},
   "outputs": [
    {
     "name": "stdout",
     "output_type": "stream",
     "text": [
      "Feature: 0, Score: 0.07259\n",
      "Feature: 1, Score: 0.00044\n",
      "Feature: 2, Score: -0.03431\n",
      "Feature: 3, Score: -0.00043\n",
      "Feature: 4, Score: 0.00007\n",
      "Feature: 5, Score: -0.00362\n",
      "Feature: 6, Score: -0.05660\n",
      "Feature: 7, Score: -0.06485\n",
      "Feature: 8, Score: -0.13292\n",
      "Feature: 9, Score: 0.55664\n",
      "Feature: 10, Score: 0.00036\n",
      "Feature: 11, Score: 0.05484\n",
      "Feature: 12, Score: -0.00147\n",
      "Feature: 13, Score: -0.01274\n",
      "Feature: 14, Score: -0.06679\n",
      "Feature: 15, Score: 0.00049\n",
      "Feature: 16, Score: 0.08635\n",
      "Feature: 17, Score: 0.00042\n",
      "Feature: 18, Score: 0.00748\n",
      "Feature: 19, Score: -0.11737\n",
      "Feature: 20, Score: 0.14963\n",
      "Feature: 21, Score: -0.04916\n",
      "Feature: 22, Score: -0.04974\n",
      "Feature: 23, Score: 0.07271\n",
      "Feature: 24, Score: 0.00098\n",
      "Feature: 25, Score: 0.28987\n",
      "Feature: 26, Score: 0.06170\n",
      "Feature: 27, Score: -0.01540\n",
      "Feature: 28, Score: -0.14615\n",
      "Feature: 29, Score: -0.01089\n",
      "Feature: 30, Score: -0.00026\n",
      "Feature: 31, Score: -0.01071\n",
      "Feature: 32, Score: -0.00531\n",
      "Feature: 33, Score: -0.27276\n",
      "Feature: 34, Score: -0.05831\n",
      "Feature: 35, Score: 0.84152\n",
      "Feature: 36, Score: 0.04308\n",
      "Feature: 37, Score: 0.03577\n",
      "Feature: 38, Score: 1.12218\n",
      "Feature: 39, Score: -0.00436\n",
      "Feature: 40, Score: -0.33778\n"
     ]
    },
    {
     "data": {
      "image/png": "[encoded data removed]",
      "text/plain": [
       "<Figure size 576x396 with 1 Axes>"
      ]
     },
     "metadata": {},
     "output_type": "display_data"
    },
    {
     "name": "stdout",
     "output_type": "stream",
     "text": [
      "Feature: 9, Score: 0.55664\n",
      "Feature: 35, Score: 0.84152\n",
      "Feature: 38, Score: 1.12218\n",
      "Feature: 40, Score: -0.33778\n"
     ]
    }
   ],
   "source": [
    "from matplotlib import pyplot\n",
    "model = LinearRegression()\n",
    "model.fit(products, prices)\n",
    "# get importance\n",
    "importance = model.coef_\n",
    "# summarize feature importance\n",
    "for i,v in enumerate(importance):\n",
    "\tprint('Feature: %0d, Score: %.5f' % (i,v))\n",
    "# plot feature importance\n",
    "pyplot.bar([x for x in range(len(importance))], importance)\n",
    "pyplot.show()\n",
    "\n",
    "listm =[]\n",
    "for i,v in enumerate(importance):\n",
    "    if abs(v)>0.3:\n",
    "        print('Feature: %0d, Score: %.5f' % (i,v))\n",
    "        listm.append(i)"
   ]
  },
  {
   "cell_type": "code",
   "execution_count": 42,
   "id": "7023dea7",
   "metadata": {},
   "outputs": [
    {
     "name": "stdout",
     "output_type": "stream",
     "text": [
      "10.47714983197796\n"
     ]
    }
   ],
   "source": [
    "productsv = products.iloc[:,listm]\n",
    "predict = cross_val_predict(lin_reg, productsv, prices, cv=kf)\n",
    "rmse_linreg1_v2 = RMSE(prices, predict)\n",
    "print(rmse_linreg1_v2)"
   ]
  },
  {
   "cell_type": "code",
   "execution_count": 43,
   "id": "a40e1850",
   "metadata": {},
   "outputs": [
    {
     "name": "stdout",
     "output_type": "stream",
     "text": [
      "Feature: 0, Score: 0.04076\n",
      "Feature: 1, Score: 0.01286\n",
      "Feature: 2, Score: -0.00421\n",
      "Feature: 3, Score: -0.01322\n",
      "Feature: 4, Score: 0.00242\n",
      "Feature: 5, Score: 0.00003\n",
      "Feature: 6, Score: -0.29116\n",
      "Feature: 7, Score: -0.00383\n",
      "Feature: 8, Score: -0.05389\n",
      "Feature: 9, Score: -0.09828\n",
      "Feature: 10, Score: -0.00518\n",
      "Feature: 11, Score: 0.01906\n",
      "Feature: 12, Score: 0.23331\n",
      "Feature: 13, Score: 0.00021\n",
      "Feature: 14, Score: 0.00438\n",
      "Feature: 15, Score: -0.01437\n",
      "Feature: 16, Score: -0.06855\n",
      "Feature: 17, Score: 0.00061\n",
      "Feature: 18, Score: 0.17162\n",
      "Feature: 19, Score: 0.02171\n",
      "Feature: 20, Score: 0.00098\n"
     ]
    },
    {
     "data": {
      "image/png": "[encoded data removed]",
      "text/plain": [
       "<Figure size 576x396 with 1 Axes>"
      ]
     },
     "metadata": {},
     "output_type": "display_data"
    },
    {
     "name": "stdout",
     "output_type": "stream",
     "text": [
      "Feature: 0, Score: 0.04076\n",
      "Feature: 1, Score: 0.01286\n",
      "Feature: 3, Score: -0.01322\n",
      "Feature: 6, Score: -0.29116\n",
      "Feature: 8, Score: -0.05389\n",
      "Feature: 9, Score: -0.09828\n",
      "Feature: 10, Score: -0.00518\n",
      "Feature: 11, Score: 0.01906\n",
      "Feature: 12, Score: 0.23331\n",
      "Feature: 15, Score: -0.01437\n",
      "Feature: 16, Score: -0.06855\n",
      "Feature: 18, Score: 0.17162\n",
      "Feature: 19, Score: 0.02171\n"
     ]
    }
   ],
   "source": [
    "from matplotlib import pyplot\n",
    "model = LinearRegression()\n",
    "model.fit(products2, prices2)\n",
    "# get importance\n",
    "importance = model.coef_\n",
    "# summarize feature importance\n",
    "for i,v in enumerate(importance):\n",
    "\tprint('Feature: %0d, Score: %.5f' % (i,v))\n",
    "# plot feature importance\n",
    "pyplot.bar([x for x in range(len(importance))], importance)\n",
    "pyplot.show()\n",
    "\n",
    "listm2 =[]\n",
    "for i,v in enumerate(importance):\n",
    "    if abs(v)>0.005:\n",
    "        print('Feature: %0d, Score: %.5f' % (i,v))\n",
    "        listm.append(i)"
   ]
  },
  {
   "cell_type": "code",
   "execution_count": 44,
   "id": "286061f6",
   "metadata": {},
   "outputs": [
    {
     "name": "stdout",
     "output_type": "stream",
     "text": [
      "10.48037411251415\n"
     ]
    }
   ],
   "source": [
    "productsv2 = products.iloc[:,listm]\n",
    "predict2 = cross_val_predict(lin_reg, productsv2, prices2, cv=kf)\n",
    "rmse_linreg2_v2 = RMSE(prices, predict2)\n",
    "print(rmse_linreg2_v2)"
   ]
  },
  {
   "cell_type": "markdown",
   "id": "560313fc",
   "metadata": {},
   "source": [
    "Although feature selection did help with improving the scores of both models, their scores were still not good, so we tried other models."
   ]
  },
  {
   "cell_type": "markdown",
   "id": "97b45b36",
   "metadata": {},
   "source": [
    "## B. Decision tree regressor"
   ]
  },
  {
   "cell_type": "markdown",
   "id": "cbbdf486",
   "metadata": {},
   "source": [
    "Decision tree regressor is a model that creates a binary tree based on a threshold and a feature that creates an optimal tree."
   ]
  },
  {
   "cell_type": "code",
   "execution_count": 45,
   "id": "d08bce24",
   "metadata": {},
   "outputs": [
    {
     "name": "stdout",
     "output_type": "stream",
     "text": [
      "11.90370634033807\n",
      "7.352132395613852\n"
     ]
    }
   ],
   "source": [
    "tree_reg = DecisionTreeRegressor()\n",
    "\n",
    "predicttree1 = cross_val_predict(tree_reg, products, prices, cv=kf)\n",
    "treereg_score1 = RMSE(prices, predicttree1)\n",
    "print(treereg_score1)\n",
    "\n",
    "predicttree2 = cross_val_predict(tree_reg, products2, prices2, cv=kf)\n",
    "treereg_score2 = RMSE(prices2, predicttree2)\n",
    "print(treereg_score2)"
   ]
  },
  {
   "cell_type": "code",
   "execution_count": 46,
   "id": "e59b76c1",
   "metadata": {},
   "outputs": [
    {
     "name": "stdout",
     "output_type": "stream",
     "text": [
      "Feature: 0, Score: 0.02193\n",
      "Feature: 1, Score: 0.03569\n",
      "Feature: 2, Score: 0.03481\n",
      "Feature: 3, Score: 0.11151\n",
      "Feature: 4, Score: 0.43753\n",
      "Feature: 5, Score: 0.00007\n",
      "Feature: 6, Score: 0.00001\n",
      "Feature: 7, Score: 0.00187\n",
      "Feature: 8, Score: 0.00000\n",
      "Feature: 9, Score: 0.00287\n",
      "Feature: 10, Score: 0.00039\n",
      "Feature: 11, Score: 0.02828\n",
      "Feature: 12, Score: 0.00012\n",
      "Feature: 13, Score: 0.00000\n",
      "Feature: 14, Score: 0.00181\n",
      "Feature: 15, Score: 0.27668\n",
      "Feature: 16, Score: 0.00176\n",
      "Feature: 17, Score: 0.00477\n",
      "Feature: 18, Score: 0.00716\n",
      "Feature: 19, Score: 0.00042\n",
      "Feature: 20, Score: 0.02242\n",
      "Feature: 21, Score: 0.00000\n",
      "Feature: 22, Score: 0.00006\n",
      "Feature: 23, Score: 0.00016\n",
      "Feature: 24, Score: 0.00001\n",
      "Feature: 25, Score: 0.00035\n",
      "Feature: 26, Score: 0.00017\n",
      "Feature: 27, Score: 0.00026\n",
      "Feature: 28, Score: 0.00003\n",
      "Feature: 29, Score: 0.00027\n",
      "Feature: 30, Score: 0.00000\n",
      "Feature: 31, Score: 0.00000\n",
      "Feature: 32, Score: 0.00020\n",
      "Feature: 33, Score: 0.00000\n",
      "Feature: 34, Score: 0.00066\n",
      "Feature: 35, Score: 0.00000\n",
      "Feature: 36, Score: 0.00000\n",
      "Feature: 37, Score: 0.00007\n",
      "Feature: 38, Score: 0.00763\n",
      "Feature: 39, Score: 0.00000\n",
      "Feature: 40, Score: 0.00000\n"
     ]
    },
    {
     "data": {
      "image/png": "[encoded data removed]",
      "text/plain": [
       "<Figure size 576x396 with 1 Axes>"
      ]
     },
     "metadata": {},
     "output_type": "display_data"
    },
    {
     "name": "stdout",
     "output_type": "stream",
     "text": [
      "Feature: 0, Score: 0.02193\n",
      "Feature: 1, Score: 0.03569\n",
      "Feature: 2, Score: 0.03481\n",
      "Feature: 3, Score: 0.11151\n",
      "Feature: 4, Score: 0.43753\n",
      "Feature: 11, Score: 0.02828\n",
      "Feature: 15, Score: 0.27668\n",
      "Feature: 18, Score: 0.00716\n",
      "Feature: 20, Score: 0.02242\n",
      "Feature: 38, Score: 0.00763\n"
     ]
    }
   ],
   "source": [
    "from matplotlib import pyplot\n",
    "model = DecisionTreeRegressor()\n",
    "model.fit(products, prices)\n",
    "importance = model.feature_importances_\n",
    "for i,v in enumerate(importance):\n",
    "\tprint('Feature: %0d, Score: %.5f' % (i,v))\n",
    "# plot feature importance\n",
    "pyplot.bar([x for x in range(len(importance))], importance)\n",
    "pyplot.show()\n",
    "listi = []\n",
    "for i,v in enumerate(importance):\n",
    "    if v>0.005:\n",
    "        print('Feature: %0d, Score: %.5f' % (i,v))\n",
    "        listi.append(i)"
   ]
  },
  {
   "cell_type": "code",
   "execution_count": 47,
   "id": "b86264dd",
   "metadata": {},
   "outputs": [
    {
     "name": "stdout",
     "output_type": "stream",
     "text": [
      "7.552595259300384\n"
     ]
    }
   ],
   "source": [
    "products_3 = products.iloc[:,listi]\n",
    "tree_reg = DecisionTreeRegressor()\n",
    "\n",
    "predicttree1 = cross_val_predict(tree_reg, products_3, prices, cv=kf)\n",
    "treereg_score1_v2 = RMSE(prices, predicttree1)\n",
    "print(treereg_score1_v2)"
   ]
  },
  {
   "cell_type": "code",
   "execution_count": 48,
   "id": "cc17dc6d",
   "metadata": {},
   "outputs": [
    {
     "name": "stdout",
     "output_type": "stream",
     "text": [
      "Feature: 0, Score: 0.02758\n",
      "Feature: 1, Score: 0.00272\n",
      "Feature: 2, Score: 0.03448\n",
      "Feature: 3, Score: 0.03581\n",
      "Feature: 4, Score: 0.08961\n",
      "Feature: 5, Score: 0.44748\n",
      "Feature: 6, Score: 0.00014\n",
      "Feature: 7, Score: 0.00005\n",
      "Feature: 8, Score: 0.00140\n",
      "Feature: 9, Score: 0.00218\n",
      "Feature: 10, Score: 0.00621\n",
      "Feature: 11, Score: 0.00000\n",
      "Feature: 12, Score: 0.00033\n",
      "Feature: 13, Score: 0.00002\n",
      "Feature: 14, Score: 0.00085\n",
      "Feature: 15, Score: 0.00015\n",
      "Feature: 16, Score: 0.00094\n",
      "Feature: 17, Score: 0.03895\n",
      "Feature: 18, Score: 0.00200\n",
      "Feature: 19, Score: 0.30452\n",
      "Feature: 20, Score: 0.00457\n"
     ]
    },
    {
     "data": {
      "image/png": "[encoded data removed]",
      "text/plain": [
       "<Figure size 576x396 with 1 Axes>"
      ]
     },
     "metadata": {},
     "output_type": "display_data"
    },
    {
     "name": "stdout",
     "output_type": "stream",
     "text": [
      "Feature: 4, Score: 0.08961\n",
      "Feature: 5, Score: 0.44748\n",
      "Feature: 19, Score: 0.30452\n"
     ]
    }
   ],
   "source": [
    "from matplotlib import pyplot\n",
    "model = DecisionTreeRegressor()\n",
    "model.fit(products2, prices2)\n",
    "importance = model.feature_importances_\n",
    "for i,v in enumerate(importance):\n",
    "\tprint('Feature: %0d, Score: %.5f' % (i,v))\n",
    "# plot feature importance\n",
    "pyplot.bar([x for x in range(len(importance))], importance)\n",
    "pyplot.show()\n",
    "listi2 = []\n",
    "for i,v in enumerate(importance):\n",
    "    if v>0.05:\n",
    "        print('Feature: %0d, Score: %.5f' % (i,v))\n",
    "        listi2.append(i)"
   ]
  },
  {
   "cell_type": "code",
   "execution_count": 49,
   "id": "13eb050a",
   "metadata": {
    "scrolled": true
   },
   "outputs": [
    {
     "name": "stdout",
     "output_type": "stream",
     "text": [
      "8.862371481453774\n"
     ]
    }
   ],
   "source": [
    "products2_3 = products.iloc[:,listi2]\n",
    "tree_reg = DecisionTreeRegressor()\n",
    "\n",
    "predicttree2 = cross_val_predict(tree_reg, products2_3, prices2, cv=kf)\n",
    "treereg_score2_v2 = RMSE(prices2, predicttree2)\n",
    "print(treereg_score2_v2)"
   ]
  },
  {
   "cell_type": "markdown",
   "id": "c505168f",
   "metadata": {},
   "source": [
    "On this model, the scores were a bit better, but we wanted to try and make the model even better!"
   ]
  },
  {
   "cell_type": "markdown",
   "id": "72fc5cf6",
   "metadata": {},
   "source": [
    "## C. Random forest regressor"
   ]
  },
  {
   "cell_type": "markdown",
   "id": "f1d58eb8",
   "metadata": {},
   "source": [
    "Random forest regressor is a model that creates a couple of binary trees, trying with the data set that has been given a random few of them and chooses the one that performed best."
   ]
  },
  {
   "cell_type": "code",
   "execution_count": 50,
   "id": "d6f35e82",
   "metadata": {},
   "outputs": [
    {
     "name": "stdout",
     "output_type": "stream",
     "text": [
      "7.634510027467888\n",
      "7.530299935692334\n"
     ]
    }
   ],
   "source": [
    "random_for = RandomForestRegressor()\n",
    "\n",
    "prodicrfor1 = cross_val_predict(random_for, products, prices, cv=kf)\n",
    "rmsefor1 = RMSE(prices, prodicrfor1)\n",
    "print(rmsefor1)\n",
    "\n",
    "random_for = RandomForestRegressor()\n",
    "prodicrfor2 = cross_val_predict(random_for, products2, prices2, cv=kf)\n",
    "rmsefor2 = RMSE(prices, prodicrfor2)\n",
    "print(rmsefor2)"
   ]
  },
  {
   "cell_type": "code",
   "execution_count": 51,
   "id": "36c73a26",
   "metadata": {
    "scrolled": true
   },
   "outputs": [
    {
     "name": "stdout",
     "output_type": "stream",
     "text": [
      "Feature: 0, Score: 0.06213\n",
      "Feature: 1, Score: 0.06177\n",
      "Feature: 2, Score: 0.07056\n",
      "Feature: 3, Score: 0.13572\n",
      "Feature: 4, Score: 0.44537\n",
      "Feature: 5, Score: 0.00032\n",
      "Feature: 6, Score: 0.00038\n",
      "Feature: 7, Score: 0.00330\n",
      "Feature: 8, Score: 0.00006\n",
      "Feature: 9, Score: 0.00448\n",
      "Feature: 10, Score: 0.00053\n",
      "Feature: 11, Score: 0.08715\n",
      "Feature: 12, Score: 0.00036\n",
      "Feature: 13, Score: 0.00031\n",
      "Feature: 14, Score: 0.00135\n",
      "Feature: 15, Score: 0.07321\n",
      "Feature: 16, Score: 0.00205\n",
      "Feature: 17, Score: 0.00489\n",
      "Feature: 18, Score: 0.00984\n",
      "Feature: 19, Score: 0.00025\n",
      "Feature: 20, Score: 0.03019\n",
      "Feature: 21, Score: 0.00005\n",
      "Feature: 22, Score: 0.00002\n",
      "Feature: 23, Score: 0.00017\n",
      "Feature: 24, Score: 0.00009\n",
      "Feature: 25, Score: 0.00018\n",
      "Feature: 26, Score: 0.00008\n",
      "Feature: 27, Score: 0.00028\n",
      "Feature: 28, Score: 0.00016\n",
      "Feature: 29, Score: 0.00023\n",
      "Feature: 30, Score: 0.00016\n",
      "Feature: 31, Score: 0.00003\n",
      "Feature: 32, Score: 0.00299\n",
      "Feature: 33, Score: 0.00001\n",
      "Feature: 34, Score: 0.00000\n",
      "Feature: 35, Score: 0.00002\n",
      "Feature: 36, Score: 0.00002\n",
      "Feature: 37, Score: 0.00003\n",
      "Feature: 38, Score: 0.00124\n",
      "Feature: 39, Score: 0.00002\n",
      "Feature: 40, Score: 0.00002\n"
     ]
    },
    {
     "data": {
      "image/png": "[encoded data removed]",
      "text/plain": [
       "<Figure size 576x396 with 1 Axes>"
      ]
     },
     "metadata": {},
     "output_type": "display_data"
    },
    {
     "name": "stdout",
     "output_type": "stream",
     "text": [
      "Feature: 0, Score: 0.06213\n",
      "Feature: 1, Score: 0.06177\n",
      "Feature: 2, Score: 0.07056\n",
      "Feature: 3, Score: 0.13572\n",
      "Feature: 4, Score: 0.44537\n",
      "Feature: 11, Score: 0.08715\n",
      "Feature: 15, Score: 0.07321\n",
      "Feature: 18, Score: 0.00984\n",
      "Feature: 20, Score: 0.03019\n"
     ]
    }
   ],
   "source": [
    "from matplotlib import pyplot\n",
    "random_for = RandomForestRegressor()\n",
    "random_for.fit(products, prices)\n",
    "importance = random_for.feature_importances_\n",
    "for i,v in enumerate(importance):\n",
    "\tprint('Feature: %0d, Score: %.5f' % (i,v))\n",
    "# plot feature importance\n",
    "pyplot.bar([x for x in range(len(importance))], importance)\n",
    "pyplot.show()\n",
    "listo = []\n",
    "for i,v in enumerate(importance):\n",
    "    if v>0.009:\n",
    "        print('Feature: %0d, Score: %.5f' % (i,v))\n",
    "        listo.append(i)"
   ]
  },
  {
   "cell_type": "code",
   "execution_count": 52,
   "id": "dd341bb2",
   "metadata": {},
   "outputs": [
    {
     "name": "stdout",
     "output_type": "stream",
     "text": [
      "7.652079468417092\n"
     ]
    }
   ],
   "source": [
    "products_2 = products.iloc[:,listo]\n",
    "\n",
    "random_for = RandomForestRegressor()\n",
    "prodicrfor = cross_val_predict(random_for, products_2, prices, cv=kf)\n",
    "rmsefor1_v2 = RMSE(prices, prodicrfor)\n",
    "print(rmsefor1_v2)"
   ]
  },
  {
   "cell_type": "code",
   "execution_count": 53,
   "id": "b59e6197",
   "metadata": {},
   "outputs": [
    {
     "name": "stdout",
     "output_type": "stream",
     "text": [
      "Feature: 0, Score: 0.05660\n",
      "Feature: 1, Score: 0.00320\n",
      "Feature: 2, Score: 0.09550\n",
      "Feature: 3, Score: 0.06510\n",
      "Feature: 4, Score: 0.14526\n",
      "Feature: 5, Score: 0.43119\n",
      "Feature: 6, Score: 0.00020\n",
      "Feature: 7, Score: 0.00028\n",
      "Feature: 8, Score: 0.00052\n",
      "Feature: 9, Score: 0.00275\n",
      "Feature: 10, Score: 0.00521\n",
      "Feature: 11, Score: 0.00006\n",
      "Feature: 12, Score: 0.00041\n",
      "Feature: 13, Score: 0.00073\n",
      "Feature: 14, Score: 0.00022\n",
      "Feature: 15, Score: 0.00024\n",
      "Feature: 16, Score: 0.00130\n",
      "Feature: 17, Score: 0.08641\n",
      "Feature: 18, Score: 0.00300\n",
      "Feature: 19, Score: 0.09767\n",
      "Feature: 20, Score: 0.00415\n"
     ]
    },
    {
     "data": {
      "image/png": "[encoded data removed]",
      "text/plain": [
       "<Figure size 576x396 with 1 Axes>"
      ]
     },
     "metadata": {},
     "output_type": "display_data"
    },
    {
     "name": "stdout",
     "output_type": "stream",
     "text": [
      "Feature: 0, Score: 0.05660\n",
      "Feature: 2, Score: 0.09550\n",
      "Feature: 3, Score: 0.06510\n",
      "Feature: 4, Score: 0.14526\n",
      "Feature: 5, Score: 0.43119\n",
      "Feature: 10, Score: 0.00521\n",
      "Feature: 17, Score: 0.08641\n",
      "Feature: 19, Score: 0.09767\n"
     ]
    }
   ],
   "source": [
    "from matplotlib import pyplot\n",
    "random_for = RandomForestRegressor()\n",
    "random_for.fit(products2, prices2)\n",
    "importance = random_for.feature_importances_\n",
    "for i,v in enumerate(importance):\n",
    "\tprint('Feature: %0d, Score: %.5f' % (i,v))\n",
    "# plot feature importance\n",
    "pyplot.bar([x for x in range(len(importance))], importance)\n",
    "pyplot.show()\n",
    "listo2 = []\n",
    "for i,v in enumerate(importance):\n",
    "    if v>0.005:\n",
    "        print('Feature: %0d, Score: %.5f' % (i,v))\n",
    "        listo2.append(i)"
   ]
  },
  {
   "cell_type": "code",
   "execution_count": 54,
   "id": "f2b8cbef",
   "metadata": {},
   "outputs": [
    {
     "name": "stdout",
     "output_type": "stream",
     "text": [
      "7.5117091294461265\n"
     ]
    }
   ],
   "source": [
    "products2_2 = products.iloc[:,listo2]\n",
    "\n",
    "random_for = RandomForestRegressor()\n",
    "prodicrfor2 = cross_val_predict(random_for, products2_2, prices2, cv=kf)\n",
    "rmsefor2_v2 = RMSE(prices2, prodicrfor2)\n",
    "print(rmsefor2_v2)"
   ]
  },
  {
   "cell_type": "markdown",
   "id": "c33e7677",
   "metadata": {},
   "source": [
    "## 6. Comparing models scores and choosing the final model:"
   ]
  },
  {
   "cell_type": "code",
   "execution_count": 55,
   "id": "45953722",
   "metadata": {},
   "outputs": [
    {
     "name": "stdout",
     "output_type": "stream",
     "text": [
      "Before Feature Importance, Linear regression mean squared error is:\n",
      "\n",
      "Data set 1:  10.441611894477829 , Data set 2:  310.0917302263486\n",
      "\n",
      "\n",
      "After Feature Importance, Linear regression mean squared error is:\n",
      "\n",
      "Data set 1:  10.47714983197796 , Data set 2:  10.48037411251415\n"
     ]
    }
   ],
   "source": [
    "print(\"Before Feature Importance, Linear regression mean squared error is:\")\n",
    "print()\n",
    "print(\"Data set 1: \", rmse_linreg1, \", Data set 2: \", rmse_linreg2)\n",
    "print('\\n')\n",
    "print(\"After Feature Importance, Linear regression mean squared error is:\")\n",
    "print()\n",
    "print(\"Data set 1: \", rmse_linreg1_v2, \", Data set 2: \", rmse_linreg2_v2)"
   ]
  },
  {
   "cell_type": "code",
   "execution_count": 56,
   "id": "7abd79bc",
   "metadata": {},
   "outputs": [
    {
     "name": "stdout",
     "output_type": "stream",
     "text": [
      "Before Feature Importance, Decision tree regressor mean squared error is:\n",
      "\n",
      "Data set 1:  11.90370634033807 , Data set 2:  7.352132395613852\n",
      "\n",
      "\n",
      "After Feature Importance, Decision tree regressor mean squared error is:\n",
      "\n",
      "Data set 1:  7.552595259300384 , Data set 2:  8.862371481453774\n"
     ]
    }
   ],
   "source": [
    "print(\"Before Feature Importance, Decision tree regressor mean squared error is:\")\n",
    "print()\n",
    "print(\"Data set 1: \", treereg_score1, \", Data set 2: \", treereg_score2)\n",
    "print('\\n')\n",
    "print(\"After Feature Importance, Decision tree regressor mean squared error is:\")\n",
    "print()\n",
    "print(\"Data set 1: \", treereg_score1_v2, \", Data set 2: \", treereg_score2_v2)"
   ]
  },
  {
   "cell_type": "code",
   "execution_count": 57,
   "id": "9b5dc980",
   "metadata": {},
   "outputs": [
    {
     "name": "stdout",
     "output_type": "stream",
     "text": [
      "Before Feature Importance, Random forest regressor mean squared error is:\n",
      "\n",
      "Data set 1:  7.634510027467888 , Data set 2:  7.530299935692334\n",
      "\n",
      "\n",
      "After Feature Importance, Random forest regressor mean squared error is:\n",
      "\n",
      "Data set 1:  7.652079468417092 , Data set 2:  7.5117091294461265\n"
     ]
    }
   ],
   "source": [
    "print(\"Before Feature Importance, Random forest regressor mean squared error is:\")\n",
    "print()\n",
    "print(\"Data set 1: \", rmsefor1, \", Data set 2: \", rmsefor2)\n",
    "print('\\n')\n",
    "print(\"After Feature Importance, Random forest regressor mean squared error is:\")\n",
    "print()\n",
    "print(\"Data set 1: \", rmsefor1_v2, \", Data set 2: \", rmsefor2_v2)"
   ]
  },
  {
   "cell_type": "code",
   "execution_count": 58,
   "id": "94eb13c2",
   "metadata": {},
   "outputs": [
    {
     "name": "stdout",
     "output_type": "stream",
     "text": [
      "Dummy regressor mean squared error is: 6.62\n"
     ]
    }
   ],
   "source": [
    "print(\"Dummy regressor mean squared error is:\", str(mser)[:4])"
   ]
  },
  {
   "cell_type": "markdown",
   "id": "3c0af597",
   "metadata": {},
   "source": [
    "From the comparison above we can conclude that our best model is Random Forest regressor with the second version of data set number 1 (each time we ran the project, the difference between the mistakes of version 1 and 2 of the first data set were close to each other, although every time another one of them was with a bigger mistake, due to the nature of the model).\n",
    "Because the errors are close to each other, we will prefer the version of the model with fewer features."
   ]
  },
  {
   "cell_type": "code",
   "execution_count": 59,
   "id": "979b39ee",
   "metadata": {},
   "outputs": [],
   "source": [
    "def final_data_preperation(data): \n",
    "    dataw = data.copy()\n",
    "    dataw.replace('(^\\s+|\\s+$)', '', regex=True, inplace=True)\n",
    "    dataw = dataw.set_index('code')\n",
    "    dataw = dataw.drop_duplicates()\n",
    "    dataw = dataw.set_index('Product_Name')\n",
    "    \n",
    "    dataw = dataw.drop_duplicates()\n",
    "    \n",
    "    columns_need_to_drop = np.array([])\n",
    "    columns_need_to_drop = np.append(columns_need_to_drop, all_dropped_collumns)\n",
    "    columns_need_to_drop = np.append(columns_need_to_drop, sts_dropped_collumns)\n",
    "    columns_need_to_drop = np.append(columns_need_to_drop, col_droped)\n",
    "    columns_need_to_drop = set(columns_need_to_drop)\n",
    "    \n",
    "    \n",
    "    dataw = dataw.drop(columns_need_to_drop, axis=1)\n",
    "    \n",
    "    \n",
    "    for col in dataw.columns:  \n",
    "        dataw[col] = pd.to_numeric(dataw[col], errors='coerce')\n",
    "    dataw = dataw.fillna(0)\n",
    "\n",
    "    unwanted_units = dataw[(dataw['100_g']==0) & (dataw['1_kg']==0)].index \n",
    "    dataw = dataw.drop(unwanted_units)\n",
    "    dataw['1_kg'] = dataw['1_kg']/10\n",
    "    dataw['price_per_100g'] = dataw['1_kg'] + dataw['100_g']\n",
    "    dataw = dataw.drop(['100_g' ,'1_kg'], axis=1)\n",
    "    \n",
    "    dataw_products= dataw.drop(\"price_per_100g\", axis=1) \n",
    "    dataw_prices = dataw[\"price_per_100g\"].copy()\n",
    "    \n",
    "    dataw_products = merge_two_columns('A_vitamin', 'Vitamin_A_is_worth_retinol', dataw_products, 'Product_Name')\n",
    "    dataw_products = merge_two_columns('Dietary_fiber', 'Dietary_fiber.1', dataw_products, 'Product_Name')\n",
    "    dataw_products = merge_two_columns('potassium', 'K_Potassium', dataw_products, 'Product_Name')\n",
    "    dataw_products = merge_two_columns('Vitamin_E.', 'Vitamin_E_equals_alpha_tocopherol', dataw_products, 'Product_Name')\n",
    "    dataw_products = merge_two_columns('Vitamin_D.', 'Vitamin_D_Calciprolol', dataw_products, 'Product_Name')\n",
    "    dataw_products = merge_two_columns('Vitamin_B3', 'Niacin', dataw_products, 'Product_Name')\n",
    "    dataw_products = merge_two_columns('Vitamin_B3', 'Vitamin_B3_Nicotinamide_Equilibrium', dataw_products, 'Product_Name')\n",
    "    dataw_products = merge_two_columns('Vitamin_B3', 'Nicotinamide', dataw_products, 'Product_Name')\n",
    "    \n",
    "    dataw_products['Partof_vitaminB'] = dataw_products['Vitamin_B6']\n",
    "    dataw_products = dataw_products.drop(['Vitamin_B2', 'Vitamin_B6','Folic_acid','Vitamin_B1','Vitamin_B12','Vitamin_B3'], axis=1)\n",
    "    dataw_products = merge_two_columns('Teaspoons_of_sugar', 'Carbohydrate_sugars', dataw_products, 'Product_Name')\n",
    "    dataw_products = merge_two_columns('Fats', 'energy', dataw_products, 'Product_Name')\n",
    "    dataw_products['6_omega_fatty_acids'] = dataw_products['ARA_fatty_acid']\n",
    "    dataw_products = merge_two_columns('6_omega_fatty_acids', 'ARA_fatty_acid', dataw_products, 'Product_Name')\n",
    "    dataw_products = merge_two_columns('6_omega_fatty_acids', 'Linoleic_fatty_acid', dataw_products, 'Product_Name')\n",
    "    dataw_products = merge_two_columns('3_omega_fatty_acids', 'DHA_fatty_acid', dataw_products, 'Product_Name')\n",
    "    dataw_products = merge_two_columns('3_omega_fatty_acids', 'Alpha_linolenic_acid', dataw_products, 'Product_Name')\n",
    "    dataw_products['have_to_do_with_milk'] = dataw_products['Nucleotides'] #found that Nucleotides, choline and taurine are all in babys' milk frmula\n",
    "    dataw_products = merge_two_columns('have_to_do_with_milk', 'Nucleotides', dataw_products, 'Product_Name')\n",
    "    dataw_products = merge_two_columns('have_to_do_with_milk', 'Choline', dataw_products, 'Product_Name')\n",
    "    dataw_products = merge_two_columns('have_to_do_with_milk', 'Taurine', dataw_products, 'Product_Name')\n",
    "    \n",
    "    listow = listo\n",
    "    dataw_products = dataw_products.iloc[:,listow]\n",
    "    \n",
    "    return dataw_products, dataw_prices"
   ]
  },
  {
   "cell_type": "code",
   "execution_count": 60,
   "id": "e0bbb0a1",
   "metadata": {},
   "outputs": [],
   "source": [
    "final_test_prod, final_test_price = final_data_preperation(test_set)"
   ]
  },
  {
   "cell_type": "code",
   "execution_count": 61,
   "id": "fb9bafda",
   "metadata": {},
   "outputs": [
    {
     "name": "stdout",
     "output_type": "stream",
     "text": [
      "Mean squared error of final model is: 5.03\n"
     ]
    }
   ],
   "source": [
    "random_for = RandomForestRegressor()\n",
    "random_for.fit(products_2, prices)\n",
    "final_predict = random_for.predict(final_test_prod)\n",
    "Rmse = RMSE(final_test_price, final_predict)\n",
    "print( \"Mean squared error of final model is: \" + str(Rmse)[:4])"
   ]
  },
  {
   "cell_type": "markdown",
   "id": "6fabc2fa",
   "metadata": {},
   "source": [
    "## 7. conclusion:"
   ]
  },
  {
   "cell_type": "markdown",
   "id": "da1fd388",
   "metadata": {},
   "source": [
    "The mean squared error of the final model is big, although it's still better than the dummy model.\n",
    "Because of the fact that the mean squared error of the final model is better than the train's one, we suspected a data leakage, but couldn't find one.\n",
    "\n",
    "Since we used the same cleaning method for a classification project on the same data and scored 71% accuracy, it seems that the problem is not with the data cleaning and manipulation that we did but with the models (that are not suitable for the task) or with the fact that there are other parameters other than nutrition values that affect products prices, such as seasonality and taxes.\n",
    "\n",
    "Classification project on nutrition values and product's category: https://github.com/shira-chesler/Data_Science_intro_project/blob/062eeab86489171a67af7bf179bee068242822fe/Classification/classification_project.ipynb"
   ]
  }
 ],
 "metadata": {
  "kernelspec": {
   "display_name": "Python 3",
   "language": "python",
   "name": "python3"
  },
  "language_info": {
   "codemirror_mode": {
    "name": "ipython",
    "version": 3
   },
   "file_extension": ".py",
   "mimetype": "text/x-python",
   "name": "python",
   "nbconvert_exporter": "python",
   "pygments_lexer": "ipython3",
   "version": "3.8.8"
  }
 },
 "nbformat": 4,
 "nbformat_minor": 5
}
