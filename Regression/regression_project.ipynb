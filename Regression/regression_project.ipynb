{
 "cells": [
  {
   "cell_type": "markdown",
   "id": "7588b3f0",
   "metadata": {},
   "source": [
    "# Product's price prediction by nutrition values"
   ]
  },
  {
   "cell_type": "markdown",
   "id": "56ecec1e",
   "metadata": {},
   "source": [
    "In this project we wanted to find the cornection between nutrition values of products and their price. we want to emphasize the that we were awered to the fact that there are other causes to a certain products' price, such as tax, where the product was produced (if it has been imported), etcetera.\n",
    "\n",
    "Thus, we worked on the project while knowing that there might not be a full connection between the nutrition values and the price of a product, but these are the aspects we chose to focus in our project.\n",
    "\n",
    "We started by doing web-scraping from the website of the grocery network 'Shufersal'. https://www.shufersal.co.il/online/he/A\n",
    "\n",
    "The goal is to create a model that accept nutrition values of a product and predicts it's estimate price."
   ]
  },
  {
   "cell_type": "markdown",
   "id": "7a27bffd",
   "metadata": {},
   "source": [
    "## Table of Contents:\n",
    "####  1. Getting to know the data, train test split, initial data cleanse\n",
    "####  2. Creating a new data set\n",
    "####  3. Analyzing and visualizing the first data set\n",
    "####  4. Choosing a metric method and checking habits of dummy-model\n",
    "####  5. Sampling models (and checking with cross validation):\n",
    "     -A. linear regression\n",
    "     -B. desicions tree regressor \n",
    "     -C. random forest regressor\n",
    "####  6. comparing models scores and choosing the final model\n",
    "####  7. conclusion"
   ]
  },
  {
   "cell_type": "markdown",
   "id": "85964a83",
   "metadata": {},
   "source": [
    "## 1. Getting to know the data, train test split, initial data cleanse:"
   ]
  },
  {
   "cell_type": "code",
   "execution_count": 1,
   "id": "f3b581dc",
   "metadata": {},
   "outputs": [],
   "source": [
    "import pandas as pd\n",
    "import numpy as np\n",
    "\n",
    "import matplotlib.pyplot as plt\n",
    "import matplotlib.pylab as plta\n",
    "import matplotlib.ticker as ticker\n",
    "\n",
    "import seaborn as sns\n",
    "\n",
    "from sklearn.model_selection import cross_val_predict\n",
    "from sklearn.model_selection import KFold\n",
    "from sklearn.model_selection import train_test_split\n",
    "\n",
    "from sklearn.linear_model import LinearRegression\n",
    "from sklearn.tree import DecisionTreeRegressor\n",
    "from sklearn.ensemble import RandomForestRegressor\n",
    "\n",
    "from sklearn.dummy import DummyRegressor\n",
    "from sklearn.metrics import mean_squared_error as MSE\n",
    "\n",
    "plt.style.use('seaborn')"
   ]
  },
  {
   "cell_type": "code",
   "execution_count": 2,
   "id": "e0465ef2",
   "metadata": {},
   "outputs": [
    {
     "data": {
      "text/html": [
       "<div>\n",
       "<style scoped>\n",
       "    .dataframe tbody tr th:only-of-type {\n",
       "        vertical-align: middle;\n",
       "    }\n",
       "\n",
       "    .dataframe tbody tr th {\n",
       "        vertical-align: top;\n",
       "    }\n",
       "\n",
       "    .dataframe thead th {\n",
       "        text-align: right;\n",
       "    }\n",
       "</style>\n",
       "<table border=\"1\" class=\"dataframe\">\n",
       "  <thead>\n",
       "    <tr style=\"text-align: right;\">\n",
       "      <th></th>\n",
       "      <th>Product_Name</th>\n",
       "      <th>1_kg</th>\n",
       "      <th>Vitamin_B1</th>\n",
       "      <th>Vitamin_B6</th>\n",
       "      <th>Dietary_fiber</th>\n",
       "      <th>Folic_acid</th>\n",
       "      <th>energy</th>\n",
       "      <th>Proteins</th>\n",
       "      <th>Carbohydrates</th>\n",
       "      <th>Fats</th>\n",
       "      <th>...</th>\n",
       "      <th>chromium</th>\n",
       "      <th>Molybdenum</th>\n",
       "      <th>1_meter</th>\n",
       "      <th>100_meters</th>\n",
       "      <th>Unsaturated</th>\n",
       "      <th>Acidic_acid</th>\n",
       "      <th>Linoleic_acid</th>\n",
       "      <th>DHA</th>\n",
       "      <th>EPA</th>\n",
       "      <th>Chlorophyll</th>\n",
       "    </tr>\n",
       "  </thead>\n",
       "  <tbody>\n",
       "    <tr>\n",
       "      <th>0</th>\n",
       "      <td>clementine</td>\n",
       "      <td>5.9</td>\n",
       "      <td>0.09</td>\n",
       "      <td>0.08</td>\n",
       "      <td>1.7</td>\n",
       "      <td>24.0</td>\n",
       "      <td>47.0</td>\n",
       "      <td>9.0</td>\n",
       "      <td>12.0</td>\n",
       "      <td>0.2</td>\n",
       "      <td>...</td>\n",
       "      <td>0</td>\n",
       "      <td>0</td>\n",
       "      <td>0</td>\n",
       "      <td>0</td>\n",
       "      <td>0</td>\n",
       "      <td>0</td>\n",
       "      <td>0</td>\n",
       "      <td>0</td>\n",
       "      <td>0</td>\n",
       "      <td>0</td>\n",
       "    </tr>\n",
       "    <tr>\n",
       "      <th>1</th>\n",
       "      <td>Gilded_apple</td>\n",
       "      <td>10.9</td>\n",
       "      <td>0.00</td>\n",
       "      <td>0.00</td>\n",
       "      <td>2.4</td>\n",
       "      <td>0.0</td>\n",
       "      <td>52.0</td>\n",
       "      <td>0.3</td>\n",
       "      <td>13.8</td>\n",
       "      <td>0.2</td>\n",
       "      <td>...</td>\n",
       "      <td>0</td>\n",
       "      <td>0</td>\n",
       "      <td>0</td>\n",
       "      <td>0</td>\n",
       "      <td>0</td>\n",
       "      <td>0</td>\n",
       "      <td>0</td>\n",
       "      <td>0</td>\n",
       "      <td>0</td>\n",
       "      <td>0</td>\n",
       "    </tr>\n",
       "    <tr>\n",
       "      <th>2</th>\n",
       "      <td>lemon</td>\n",
       "      <td>6.9</td>\n",
       "      <td>0.00</td>\n",
       "      <td>0.08</td>\n",
       "      <td>2.8</td>\n",
       "      <td>0.0</td>\n",
       "      <td>29.0</td>\n",
       "      <td>1.1</td>\n",
       "      <td>9.3</td>\n",
       "      <td>0.3</td>\n",
       "      <td>...</td>\n",
       "      <td>0</td>\n",
       "      <td>0</td>\n",
       "      <td>0</td>\n",
       "      <td>0</td>\n",
       "      <td>0</td>\n",
       "      <td>0</td>\n",
       "      <td>0</td>\n",
       "      <td>0</td>\n",
       "      <td>0</td>\n",
       "      <td>0</td>\n",
       "    </tr>\n",
       "    <tr>\n",
       "      <th>3</th>\n",
       "      <td>Orange_in_the_juice_network</td>\n",
       "      <td>4.9</td>\n",
       "      <td>0.09</td>\n",
       "      <td>0.06</td>\n",
       "      <td>2.5</td>\n",
       "      <td>39.0</td>\n",
       "      <td>49.0</td>\n",
       "      <td>1.0</td>\n",
       "      <td>11.9</td>\n",
       "      <td>0.3</td>\n",
       "      <td>...</td>\n",
       "      <td>0</td>\n",
       "      <td>0</td>\n",
       "      <td>0</td>\n",
       "      <td>0</td>\n",
       "      <td>0</td>\n",
       "      <td>0</td>\n",
       "      <td>0</td>\n",
       "      <td>0</td>\n",
       "      <td>0</td>\n",
       "      <td>0</td>\n",
       "    </tr>\n",
       "    <tr>\n",
       "      <th>4</th>\n",
       "      <td>Avocado</td>\n",
       "      <td>9.9</td>\n",
       "      <td>0.07</td>\n",
       "      <td>0.30</td>\n",
       "      <td>6.7</td>\n",
       "      <td>81.0</td>\n",
       "      <td>160.0</td>\n",
       "      <td>2.0</td>\n",
       "      <td>8.5</td>\n",
       "      <td>14.7</td>\n",
       "      <td>...</td>\n",
       "      <td>0</td>\n",
       "      <td>0</td>\n",
       "      <td>0</td>\n",
       "      <td>0</td>\n",
       "      <td>0</td>\n",
       "      <td>0</td>\n",
       "      <td>0</td>\n",
       "      <td>0</td>\n",
       "      <td>0</td>\n",
       "      <td>0</td>\n",
       "    </tr>\n",
       "  </tbody>\n",
       "</table>\n",
       "<p>5 rows × 105 columns</p>\n",
       "</div>"
      ],
      "text/plain": [
       "                  Product_Name  1_kg  Vitamin_B1  Vitamin_B6  Dietary_fiber  \\\n",
       "0                   clementine   5.9        0.09        0.08            1.7   \n",
       "1                 Gilded_apple  10.9        0.00        0.00            2.4   \n",
       "2                        lemon   6.9        0.00        0.08            2.8   \n",
       "3  Orange_in_the_juice_network   4.9        0.09        0.06            2.5   \n",
       "4                      Avocado   9.9        0.07        0.30            6.7   \n",
       "\n",
       "   Folic_acid  energy  Proteins  Carbohydrates  Fats  ...  chromium  \\\n",
       "0        24.0    47.0       9.0           12.0   0.2  ...         0   \n",
       "1         0.0    52.0       0.3           13.8   0.2  ...         0   \n",
       "2         0.0    29.0       1.1            9.3   0.3  ...         0   \n",
       "3        39.0    49.0       1.0           11.9   0.3  ...         0   \n",
       "4        81.0   160.0       2.0            8.5  14.7  ...         0   \n",
       "\n",
       "   Molybdenum  1_meter  100_meters  Unsaturated  Acidic_acid  Linoleic_acid  \\\n",
       "0           0        0           0            0            0              0   \n",
       "1           0        0           0            0            0              0   \n",
       "2           0        0           0            0            0              0   \n",
       "3           0        0           0            0            0              0   \n",
       "4           0        0           0            0            0              0   \n",
       "\n",
       "   DHA  EPA  Chlorophyll  \n",
       "0    0    0            0  \n",
       "1    0    0            0  \n",
       "2    0    0            0  \n",
       "3    0    0            0  \n",
       "4    0    0            0  \n",
       "\n",
       "[5 rows x 105 columns]"
      ]
     },
     "execution_count": 2,
     "metadata": {},
     "output_type": "execute_result"
    }
   ],
   "source": [
    "df = pd.read_csv (r'C:\\אריאל\\שנה א\\סמסטר א\\מבוא למדעי הנתונים\\עבודת הגמר\\Data_Science_intro_project\\Regression\\data_converted_to_english.csv', index_col = False)\n",
    "df.head()"
   ]
  },
  {
   "cell_type": "code",
   "execution_count": 3,
   "id": "e21930a5",
   "metadata": {
    "scrolled": true
   },
   "outputs": [
    {
     "name": "stdout",
     "output_type": "stream",
     "text": [
      "<class 'pandas.core.frame.DataFrame'>\n",
      "RangeIndex: 9586 entries, 0 to 9585\n",
      "Columns: 105 entries, Product_Name to Chlorophyll\n",
      "dtypes: float64(27), int64(74), object(4)\n",
      "memory usage: 7.7+ MB\n"
     ]
    }
   ],
   "source": [
    "df.info()"
   ]
  },
  {
   "cell_type": "code",
   "execution_count": 4,
   "id": "d3b7e426",
   "metadata": {},
   "outputs": [],
   "source": [
    "train_set, test_set = train_test_split(df, test_size = 0.2, random_state=42)\n",
    "prod = train_set.copy()"
   ]
  },
  {
   "cell_type": "code",
   "execution_count": 5,
   "id": "ad4eb29c",
   "metadata": {},
   "outputs": [],
   "source": [
    "prod.replace('(^\\s+|\\s+$)', '', regex=True, inplace=True)\n",
    "prod= prod.set_index('Product_Name')"
   ]
  },
  {
   "cell_type": "code",
   "execution_count": 6,
   "id": "c0739e91",
   "metadata": {},
   "outputs": [
    {
     "name": "stdout",
     "output_type": "stream",
     "text": [
      "<class 'pandas.core.frame.DataFrame'>\n",
      "Index: 7668 entries, Belgian_lemon-flavored_waffle_for_school to Gluten-free_seed_baguette\n",
      "Data columns (total 97 columns):\n",
      " #   Column                               Non-Null Count  Dtype  \n",
      "---  ------                               --------------  -----  \n",
      " 0   1_kg                                 7668 non-null   float64\n",
      " 1   Vitamin_B1                           7668 non-null   float64\n",
      " 2   Vitamin_B6                           7668 non-null   float64\n",
      " 3   Dietary_fiber                        7668 non-null   float64\n",
      " 4   Folic_acid                           7668 non-null   float64\n",
      " 5   energy                               7668 non-null   float64\n",
      " 6   Proteins                             7668 non-null   float64\n",
      " 7   Carbohydrates                        7668 non-null   float64\n",
      " 8   Fats                                 7668 non-null   float64\n",
      " 9   sodium                               7668 non-null   float64\n",
      " 10  Vitamin_B3                           7668 non-null   float64\n",
      " 11  potassium                            7668 non-null   int64  \n",
      " 12  Vitamin_C                            7668 non-null   float64\n",
      " 13  iron                                 7668 non-null   float64\n",
      " 14  1_unit                               7668 non-null   float64\n",
      " 15  100_g                                7668 non-null   float64\n",
      " 16  Vitamin_B2                           7668 non-null   float64\n",
      " 17  Vitamin_K.                           7668 non-null   float64\n",
      " 18  Vitamin_E.                           7668 non-null   float64\n",
      " 19  Magnesium                            7668 non-null   int64  \n",
      " 20  Carbohydrate_sugars                  7668 non-null   float64\n",
      " 21  Vitamin_A                            7668 non-null   float64\n",
      " 22  Dietary_fiber.1                      7668 non-null   float64\n",
      " 23  zinc                                 7668 non-null   float64\n",
      " 24  Of_which_added_sugar                 7668 non-null   float64\n",
      " 25  100_ml                               7668 non-null   float64\n",
      " 26  Of_which_saturated_fat               7668 non-null   float64\n",
      " 27  Trans_fatty_acids                    7668 non-null   float64\n",
      " 28  Teaspoons_of_sugar                   7668 non-null   float64\n",
      " 29  calcium                              7668 non-null   float64\n",
      " 30  Cholesterol                          7668 non-null   float64\n",
      " 31  Monounsaturated_fat                  7668 non-null   int64  \n",
      " 32  Polyunsaturated_fat                  7668 non-null   int64  \n",
      " 33  Sugars                               7668 non-null   int64  \n",
      " 34  Reduced_sodium                       7668 non-null   int64  \n",
      " 35  Many_alcohols                        7668 non-null   int64  \n",
      " 36  Lactose                              7668 non-null   int64  \n",
      " 37  Vitamin_D.                           7668 non-null   int64  \n",
      " 38  1_cm                                 7668 non-null   int64  \n",
      " 39  Proteins_(Albumin_|_Casein_40_|_60)  7668 non-null   int64  \n",
      " 40  From_the_carbohydrates_lactose       7668 non-null   int64  \n",
      " 41  Vitamin_D_Calciprolol                7668 non-null   int64  \n",
      " 42  3_omega_fatty_acids                  7668 non-null   int64  \n",
      " 43  DHA_+_EPA                            7668 non-null   int64  \n",
      " 44  caffeine                             7668 non-null   int64  \n",
      " 45  Vitamin_B12                          7668 non-null   int64  \n",
      " 46  Niacin                               7668 non-null   int64  \n",
      " 47  Vitamin_B5                           7668 non-null   int64  \n",
      " 48  Fat_without_trans                    7668 non-null   int64  \n",
      " 49  Pantothenic_acid                     7668 non-null   int64  \n",
      " 50  Trans_fat                            7668 non-null   float64\n",
      " 51  Saturated_fat                        7668 non-null   int64  \n",
      " 52  Saturated_fatty_acids                7668 non-null   int64  \n",
      " 53  Nicotinamide                         7668 non-null   int64  \n",
      " 54  Of_which_unsaturated_fat             7668 non-null   int64  \n",
      " 55  6_omega_fatty_acids                  7668 non-null   int64  \n",
      " 56  From_sugars_to_organic_acids         7668 non-null   int64  \n",
      " 57  wetness                              7668 non-null   int64  \n",
      " 58  ash                                  7668 non-null   int64  \n",
      " 59  Biotin                               7668 non-null   int64  \n",
      " 60  iodine                               7668 non-null   int64  \n",
      " 61  phosphorus                           7668 non-null   int64  \n",
      " 62  Salt                                 7668 non-null   int64  \n",
      " 63  Lycopene                             7668 non-null   int64  \n",
      " 64  manganese                            7668 non-null   int64  \n",
      " 65  Soluble_fiber                        7668 non-null   int64  \n",
      " 66  Oleic_fatty_acids                    7668 non-null   int64  \n",
      " 67  Vitamin_E_equals_alpha_tocopherol    7668 non-null   int64  \n",
      " 68  Acetic_acid                          7668 non-null   int64  \n",
      " 69  Vitamin_A_is_worth_retinol           7668 non-null   int64  \n",
      " 70  Ascorbic_acid                        7668 non-null   int64  \n",
      " 71  starch                               7668 non-null   int64  \n",
      " 72  ARA_fatty_acid                       7668 non-null   int64  \n",
      " 73  DHA_fatty_acid                       7668 non-null   int64  \n",
      " 74  Nucleotides                          7668 non-null   int64  \n",
      " 75  Linoleic_fatty_acid                  7668 non-null   int64  \n",
      " 76  selenium                             7668 non-null   int64  \n",
      " 77  copper                               7668 non-null   int64  \n",
      " 78  Taurine                              7668 non-null   int64  \n",
      " 79  Choline                              7668 non-null   int64  \n",
      " 80  Inositol                             7668 non-null   int64  \n",
      " 81  Lutein                               7668 non-null   int64  \n",
      " 82  Alpha_linolenic_acid                 7668 non-null   int64  \n",
      " 83  chlorine                             7668 non-null   int64  \n",
      " 84  Carnitine                            7668 non-null   int64  \n",
      " 85  Chloride                             7668 non-null   int64  \n",
      " 86  AA_fatty_acid                        7668 non-null   int64  \n",
      " 87  Vitamin_B3_Nicotinamide_Equilibrium  7668 non-null   int64  \n",
      " 88  K_Potassium                          7668 non-null   int64  \n",
      " 89  humidity                             7668 non-null   int64  \n",
      " 90  chromium                             7668 non-null   int64  \n",
      " 91  Molybdenum                           7668 non-null   int64  \n",
      " 92  Acidic_acid                          7668 non-null   int64  \n",
      " 93  Linoleic_acid                        7668 non-null   int64  \n",
      " 94  DHA                                  7668 non-null   int64  \n",
      " 95  EPA                                  7668 non-null   int64  \n",
      " 96  Chlorophyll                          7668 non-null   int64  \n",
      "dtypes: float64(30), int64(67)\n",
      "memory usage: 5.7+ MB\n"
     ]
    }
   ],
   "source": [
    "#in order to turn all the objects we have to numeric - float or int\n",
    "for col in prod.columns:  \n",
    "    prod[col] = pd.to_numeric(prod[col], errors='coerce')\n",
    "prod = prod.fillna(0)\n",
    "sts_dropped_collumns = np.transpose(prod.loc[:, (prod == 0).all(axis=0)]).index\n",
    "prod = prod.loc[:, (prod != 0).any(axis=0)]\n",
    "prod.info() #in order to see that we scceeded and to have a look at the columns"
   ]
  },
  {
   "cell_type": "markdown",
   "id": "15086e1e",
   "metadata": {},
   "source": [
    "### After a brief look at the cloumns we have, we pointed out a couple of things nedded to be done:\n",
    "##### get rid of the unwanted units we have:\n",
    "we want all the get rid of all the products that are not measured by 100_g or 1_kg (and delete the rows of these units).\n",
    "afterwards, we need to unite the 100_g and 1_kg units (by deviding 1_kg by 10 we'll get the price for 100_g)\n",
    "#### we'll check which columns left, and with them:\n",
    "##### unite the columns:\n",
    "- DHA_fatty_acid and DHA \n",
    "- Vitamin_A and Vitamin_A_is_worth_retinol \n",
    "- Dietary_fiber and Dietary_fiber.1 \n",
    "- Potassium and K_Potassium (two different names to the same thing)\n",
    "- Vitamin_E_equals_alpha_tocopherol and Vitamin_E. (When referring generally to vitamin E, it is therefore related to the alpha-tocopherol form https://www.wikirefua.org.il/w/index.php/%D7%95%D7%99%D7%98%D7%9E%D7%99%D7%9F_-_Vitamin_-_E )\n",
    "- Niacin, Vitamin_B3_Nicotinamide_Equilibrium and Vitamin_b3 (they are reffering to the same thing: https://en.wikipedia.org/wiki/Niacin)\n",
    "- DHA and EPA with DHA_+_EPA (?)\n",
    "\n",
    "##### look at a features we suspect may have high correlation:\n",
    "- Vitamin b's group\n",
    "- all the things that contains sugars\n",
    "- Carbohydrate_sugars and Carbohydrate\n",
    "- correlations with energy (energy, which is calories, can come from many different features)\n",
    "- the many kinds of fat\n",
    "- DHA and EPA with DHA_+_EPA (?)"
   ]
  },
  {
   "cell_type": "code",
   "execution_count": 7,
   "id": "15c6572b",
   "metadata": {},
   "outputs": [
    {
     "name": "stdout",
     "output_type": "stream",
     "text": [
      "Index(['Milk_in_a_3%_fat_carton', '5%_Organic_White_Wine_Vinegar',\n",
      "       'Grape_seed_oil', 'Alpero_Almond_Coconut_Drink', 'Ice_snacks',\n",
      "       '22%_gluten-free_coconut_cream', 'Thai_sauce_Pad_Thai',\n",
      "       'Solgar_Super_Gala_300', 'Sweet_chili_sauce', 'Organic_coconut_oil',\n",
      "       ...\n",
      "       'Wholemeal_bun_case', 'Soy_drink_for_LS_Alpro',\n",
      "       'Coffee-flavored_soy_drink', 'Alpro_Chocolate_Soy_Drink', 'Magnox_520',\n",
      "       'Coconut_cream_20-22%', 'Sweet_and_sour_sauce',\n",
      "       'Organic_apple_cider_vinegar_5%', 'Donuts_cocoa_cream_+_candies',\n",
      "       'Natural_apple_juice'],\n",
      "      dtype='object', name='Product_Name', length=807)\n",
      "Index([], dtype='object', name='Product_Name')\n"
     ]
    }
   ],
   "source": [
    "#first, we'll find the products without the wanted price units \n",
    "unwanted_units = prod[(prod['100_g']==0) & (prod['1_kg']==0)].index\n",
    "print(unwanted_units)\n",
    "#moreover, we'll check if there are any products with more than one wanted price units \n",
    "print(prod[(prod['100_g']!=0) & (prod['1_kg']!=0)].index)\n",
    "#we'll notice that there are 807 products without the wanted price units and remove them\n",
    "prod = prod.drop(unwanted_units) #dropes products with unwanted units\n",
    "all_dropped_collumns = np.transpose(prod.loc[:, (prod == 0).all(axis=0)]).index\n",
    "prod = prod.loc[:, (prod != 0).any(axis=0)] #deletes all columns with all values set to zero, such as columns of units that are not 100_g or 1_kg \n",
    "prod['1_kg'] = prod['1_kg']/10\n",
    "prod['price_per_100g'] = prod['1_kg'] + prod['100_g']\n",
    "prod = prod.drop(['100_g' ,'1_kg'], axis=1)"
   ]
  },
  {
   "cell_type": "code",
   "execution_count": 8,
   "id": "fe7ced07",
   "metadata": {},
   "outputs": [
    {
     "name": "stdout",
     "output_type": "stream",
     "text": [
      "['Monounsaturated_fat' 'Polyunsaturated_fat' 'Reduced_sodium' 'Lactose'\n",
      " 'Vitamin_D_Calciprolol' 'caffeine' 'Fat_without_trans' 'Pantothenic_acid'\n",
      " 'Of_which_unsaturated_fat' '6_omega_fatty_acids'\n",
      " 'From_sugars_to_organic_acids' 'wetness' 'ash' 'Salt' 'Lycopene'\n",
      " 'Soluble_fiber' 'Oleic_fatty_acids' 'starch' 'Lutein' 'Chloride'\n",
      " 'AA_fatty_acid' 'Vitamin_B3_Nicotinamide_Equilibrium' 'K_Potassium'\n",
      " 'humidity' 'chromium' 'Molybdenum']\n"
     ]
    }
   ],
   "source": [
    "#in order to reduce background noise, we decided to drop the columns in which there are less than 10 products with this feature\n",
    "prod = prod.reset_index()\n",
    "arr = np.array([])\n",
    "col_droped = np.array([])\n",
    "for col in prod.columns:\n",
    "    if prod[col].astype(bool).sum(axis=0)<20: #all the features that less than precent of the products have\n",
    "        arr = np.append(arr, prod[col].to_numpy().nonzero())\n",
    "        col_droped = np.append(col_droped, col)\n",
    "print(col_droped)\n",
    "arr = set(arr) #all number of rows without duplicates\n",
    "for i in arr:\n",
    "    prod = prod.drop(i)\n",
    "prod = prod.drop(col_droped, axis=1)\n",
    "prod = prod.loc[:, (prod != 0).any(axis=0)] #deletes all columns with all values set to zero\n",
    "prod = prod.set_index(['Product_Name'])"
   ]
  },
  {
   "cell_type": "code",
   "execution_count": 9,
   "id": "f07bc561",
   "metadata": {},
   "outputs": [
    {
     "data": {
      "text/plain": [
       "Index(['1_unit', '100_ml', '1_cm', 'DHA_+_EPA', 'Trans_fat', 'Acetic_acid',\n",
       "       'Acidic_acid', 'Linoleic_acid', 'DHA', 'EPA', 'Chlorophyll'],\n",
       "      dtype='object')"
      ]
     },
     "execution_count": 9,
     "metadata": {},
     "output_type": "execute_result"
    }
   ],
   "source": [
    "#all_dropped_collumns = all_dropped_collumns+sts_dropped_collumns\n",
    "all_dropped_collumns"
   ]
  },
  {
   "cell_type": "markdown",
   "id": "f9e94419",
   "metadata": {},
   "source": [
    "noticed that DHA, EPA and DHA_+_EPA collumns fell in the filtering we did. Thus, these are the things we wanted to do and the ones we left with:\n",
    "##### unite the columns:\n",
    "~~- DHA_fatty_acid and DHA~~ \n",
    "- Vitamin_A and Vitamin_A_is_worth_retinol\n",
    "- Dietary_fiber and Dietary_fiber.1\n",
    "- Potassium and K_Potassium\n",
    "- Vitamin_E_equals_alpha_tocopherol and Vitamin_E.\n",
    "- Niacin, Vitamin_B3_Nicotinamide_Equilibrium and Vitamin_b3\n",
    "\n",
    "~~- DHA and EPA with DHA_+_EPA (?)~~\n",
    "\n",
    "##### look at a features we suspect may have high correlation:\n",
    "- Vitamin b's group\n",
    "- all the things that contains sugars\n",
    "- Carbohydrate_sugars and Carbohydrate\n",
    "- correlations with energy (energy, which is calories, can come from many different features)\n",
    "- the many kinds of fat\n",
    "\n",
    "~~- DHA and EPA with DHA_+_EPA (?)~~\n",
    "\n",
    "Before we continued to work with the data, we wanted to scale the data in order to avoid any problems that might come with nutrition values that are measured by different units. We wanted to scale only the products and not the prices, so we splitted the prices from the nutrition values and then did the scaling. But before that we created another train and test set based on how many products has values in each column, beacuse logicly, the nutrition values we have more can help us predict the price to a wider range of products."
   ]
  },
  {
   "cell_type": "code",
   "execution_count": 10,
   "id": "4c6f0e51",
   "metadata": {},
   "outputs": [],
   "source": [
    "products = prod.drop(\"price_per_100g\", axis=1)\n",
    "prices = prod[\"price_per_100g\"].copy()"
   ]
  },
  {
   "cell_type": "markdown",
   "id": "0bcbe156",
   "metadata": {},
   "source": [
    "## 2. creating a new data set, scaling:"
   ]
  },
  {
   "cell_type": "code",
   "execution_count": 11,
   "id": "efcd5211",
   "metadata": {},
   "outputs": [
    {
     "data": {
      "image/png": "[encoded data removed]",
      "text/plain": [
       "<Figure size 1440x360 with 1 Axes>"
      ]
     },
     "metadata": {},
     "output_type": "display_data"
    }
   ],
   "source": [
    "df_num = []\n",
    "df_name = []\n",
    "for col in products.columns:\n",
    "    df_num.append(int(products[col].astype(bool).sum(axis=0)))\n",
    "    df_name.append(col)\n",
    "df2 = pd.DataFrame([df_name, df_num]).transpose()\n",
    "ax = df2.plot(x_compat=True)\n",
    "ax.xaxis.set_major_locator(ticker.MultipleLocator()) #Set a tick on each integer multiple of a base within the view interval.\n",
    "plta.gcf().set_size_inches(20, 5)\n",
    "plta.show() #in order to check which features can be given up\n",
    "#it seems that starting from feature number 26, we can give up on those features\n",
    "#it actually makes sense, because when we did the web scraping, it added to the keys, the names of the columns, \n",
    "#a name each time it was not already there. therefore, we would expect the common keys to be at the beginning of the columns"
   ]
  },
  {
   "cell_type": "markdown",
   "id": "401bbd3e",
   "metadata": {},
   "source": [
    "we can see from the graph that the mass of products we have with more than 1000 non-zero values is between columns 2 to 26. Based on that, we created a new data set of only these features and the price columns. (the reason we decided not to take specific columns is in order to prevent doing over fitting)\n",
    "\n",
    "In the end, when we tried to run the models we decided what kind of filltering is the most worthy, and which features are better for predictions (what feature selection we should do)"
   ]
  },
  {
   "cell_type": "code",
   "execution_count": 12,
   "id": "17593f2b",
   "metadata": {
    "scrolled": true
   },
   "outputs": [
    {
     "data": {
      "text/html": [
       "<div>\n",
       "<style scoped>\n",
       "    .dataframe tbody tr th:only-of-type {\n",
       "        vertical-align: middle;\n",
       "    }\n",
       "\n",
       "    .dataframe tbody tr th {\n",
       "        vertical-align: top;\n",
       "    }\n",
       "\n",
       "    .dataframe thead th {\n",
       "        text-align: right;\n",
       "    }\n",
       "</style>\n",
       "<table border=\"1\" class=\"dataframe\">\n",
       "  <thead>\n",
       "    <tr style=\"text-align: right;\">\n",
       "      <th></th>\n",
       "      <th>Dietary_fiber</th>\n",
       "      <th>Folic_acid</th>\n",
       "      <th>energy</th>\n",
       "      <th>Proteins</th>\n",
       "      <th>Carbohydrates</th>\n",
       "      <th>Fats</th>\n",
       "      <th>sodium</th>\n",
       "      <th>Vitamin_B3</th>\n",
       "      <th>potassium</th>\n",
       "      <th>Vitamin_C</th>\n",
       "      <th>...</th>\n",
       "      <th>Magnesium</th>\n",
       "      <th>Carbohydrate_sugars</th>\n",
       "      <th>Vitamin_A</th>\n",
       "      <th>Dietary_fiber.1</th>\n",
       "      <th>zinc</th>\n",
       "      <th>Of_which_added_sugar</th>\n",
       "      <th>Of_which_saturated_fat</th>\n",
       "      <th>Trans_fatty_acids</th>\n",
       "      <th>Teaspoons_of_sugar</th>\n",
       "      <th>calcium</th>\n",
       "    </tr>\n",
       "    <tr>\n",
       "      <th>Product_Name</th>\n",
       "      <th></th>\n",
       "      <th></th>\n",
       "      <th></th>\n",
       "      <th></th>\n",
       "      <th></th>\n",
       "      <th></th>\n",
       "      <th></th>\n",
       "      <th></th>\n",
       "      <th></th>\n",
       "      <th></th>\n",
       "      <th></th>\n",
       "      <th></th>\n",
       "      <th></th>\n",
       "      <th></th>\n",
       "      <th></th>\n",
       "      <th></th>\n",
       "      <th></th>\n",
       "      <th></th>\n",
       "      <th></th>\n",
       "      <th></th>\n",
       "      <th></th>\n",
       "    </tr>\n",
       "  </thead>\n",
       "  <tbody>\n",
       "    <tr>\n",
       "      <th>Belgian_lemon-flavored_waffle_for_school</th>\n",
       "      <td>0.00</td>\n",
       "      <td>0.00</td>\n",
       "      <td>89.00</td>\n",
       "      <td>0.80</td>\n",
       "      <td>9.20</td>\n",
       "      <td>6.30</td>\n",
       "      <td>17.5</td>\n",
       "      <td>0.0</td>\n",
       "      <td>0</td>\n",
       "      <td>0.0</td>\n",
       "      <td>...</td>\n",
       "      <td>0</td>\n",
       "      <td>0.0</td>\n",
       "      <td>0.0</td>\n",
       "      <td>0.0</td>\n",
       "      <td>0.0</td>\n",
       "      <td>0.0</td>\n",
       "      <td>3.30</td>\n",
       "      <td>0.00</td>\n",
       "      <td>0.00</td>\n",
       "      <td>0.0</td>\n",
       "    </tr>\n",
       "    <tr>\n",
       "      <th>Pasta_Perfecto_Casserole</th>\n",
       "      <td>1.60</td>\n",
       "      <td>0.00</td>\n",
       "      <td>160.00</td>\n",
       "      <td>0.00</td>\n",
       "      <td>0.00</td>\n",
       "      <td>0.00</td>\n",
       "      <td>0.0</td>\n",
       "      <td>0.0</td>\n",
       "      <td>0</td>\n",
       "      <td>0.0</td>\n",
       "      <td>...</td>\n",
       "      <td>0</td>\n",
       "      <td>1.4</td>\n",
       "      <td>0.0</td>\n",
       "      <td>0.0</td>\n",
       "      <td>0.0</td>\n",
       "      <td>0.0</td>\n",
       "      <td>0.00</td>\n",
       "      <td>0.00</td>\n",
       "      <td>0.00</td>\n",
       "      <td>0.0</td>\n",
       "    </tr>\n",
       "    <tr>\n",
       "      <th>Whole_champignon_mushrooms</th>\n",
       "      <td>2.20</td>\n",
       "      <td>0.00</td>\n",
       "      <td>18.00</td>\n",
       "      <td>2.10</td>\n",
       "      <td>0.90</td>\n",
       "      <td>0.00</td>\n",
       "      <td>240.0</td>\n",
       "      <td>0.0</td>\n",
       "      <td>0</td>\n",
       "      <td>0.0</td>\n",
       "      <td>...</td>\n",
       "      <td>0</td>\n",
       "      <td>0.0</td>\n",
       "      <td>0.0</td>\n",
       "      <td>0.0</td>\n",
       "      <td>0.0</td>\n",
       "      <td>0.0</td>\n",
       "      <td>0.00</td>\n",
       "      <td>0.00</td>\n",
       "      <td>0.00</td>\n",
       "      <td>0.0</td>\n",
       "    </tr>\n",
       "    <tr>\n",
       "      <th>Light_bread_from_whole_spelled</th>\n",
       "      <td>2.45</td>\n",
       "      <td>0.00</td>\n",
       "      <td>38.88</td>\n",
       "      <td>3.07</td>\n",
       "      <td>8.46</td>\n",
       "      <td>0.39</td>\n",
       "      <td>86.9</td>\n",
       "      <td>0.0</td>\n",
       "      <td>0</td>\n",
       "      <td>0.0</td>\n",
       "      <td>...</td>\n",
       "      <td>0</td>\n",
       "      <td>0.0</td>\n",
       "      <td>0.0</td>\n",
       "      <td>0.0</td>\n",
       "      <td>0.0</td>\n",
       "      <td>0.0</td>\n",
       "      <td>0.12</td>\n",
       "      <td>0.00</td>\n",
       "      <td>0.00</td>\n",
       "      <td>0.0</td>\n",
       "    </tr>\n",
       "    <tr>\n",
       "      <th>Baby_bite_flavored_vegetables</th>\n",
       "      <td>0.00</td>\n",
       "      <td>0.00</td>\n",
       "      <td>8.00</td>\n",
       "      <td>0.00</td>\n",
       "      <td>2.00</td>\n",
       "      <td>0.00</td>\n",
       "      <td>6.0</td>\n",
       "      <td>0.0</td>\n",
       "      <td>0</td>\n",
       "      <td>0.0</td>\n",
       "      <td>...</td>\n",
       "      <td>0</td>\n",
       "      <td>0.3</td>\n",
       "      <td>0.0</td>\n",
       "      <td>0.0</td>\n",
       "      <td>0.0</td>\n",
       "      <td>0.0</td>\n",
       "      <td>0.10</td>\n",
       "      <td>0.00</td>\n",
       "      <td>0.00</td>\n",
       "      <td>0.0</td>\n",
       "    </tr>\n",
       "    <tr>\n",
       "      <th>...</th>\n",
       "      <td>...</td>\n",
       "      <td>...</td>\n",
       "      <td>...</td>\n",
       "      <td>...</td>\n",
       "      <td>...</td>\n",
       "      <td>...</td>\n",
       "      <td>...</td>\n",
       "      <td>...</td>\n",
       "      <td>...</td>\n",
       "      <td>...</td>\n",
       "      <td>...</td>\n",
       "      <td>...</td>\n",
       "      <td>...</td>\n",
       "      <td>...</td>\n",
       "      <td>...</td>\n",
       "      <td>...</td>\n",
       "      <td>...</td>\n",
       "      <td>...</td>\n",
       "      <td>...</td>\n",
       "      <td>...</td>\n",
       "      <td>...</td>\n",
       "    </tr>\n",
       "    <tr>\n",
       "      <th>Epic_Cola_Candy</th>\n",
       "      <td>0.00</td>\n",
       "      <td>0.00</td>\n",
       "      <td>335.00</td>\n",
       "      <td>6.30</td>\n",
       "      <td>76.00</td>\n",
       "      <td>0.00</td>\n",
       "      <td>0.0</td>\n",
       "      <td>0.0</td>\n",
       "      <td>0</td>\n",
       "      <td>0.0</td>\n",
       "      <td>...</td>\n",
       "      <td>0</td>\n",
       "      <td>45.0</td>\n",
       "      <td>0.0</td>\n",
       "      <td>0.0</td>\n",
       "      <td>0.0</td>\n",
       "      <td>0.0</td>\n",
       "      <td>0.00</td>\n",
       "      <td>0.00</td>\n",
       "      <td>11.25</td>\n",
       "      <td>0.0</td>\n",
       "    </tr>\n",
       "    <tr>\n",
       "      <th>Slim_Delis_Multi-Grain_Milk</th>\n",
       "      <td>1.60</td>\n",
       "      <td>7.22</td>\n",
       "      <td>59.00</td>\n",
       "      <td>0.80</td>\n",
       "      <td>7.40</td>\n",
       "      <td>2.60</td>\n",
       "      <td>36.4</td>\n",
       "      <td>0.7</td>\n",
       "      <td>0</td>\n",
       "      <td>0.0</td>\n",
       "      <td>...</td>\n",
       "      <td>0</td>\n",
       "      <td>4.4</td>\n",
       "      <td>34.5</td>\n",
       "      <td>0.0</td>\n",
       "      <td>0.0</td>\n",
       "      <td>0.0</td>\n",
       "      <td>1.40</td>\n",
       "      <td>0.00</td>\n",
       "      <td>8.75</td>\n",
       "      <td>0.0</td>\n",
       "    </tr>\n",
       "    <tr>\n",
       "      <th>Chocolate_with_popsicles</th>\n",
       "      <td>0.00</td>\n",
       "      <td>0.00</td>\n",
       "      <td>516.00</td>\n",
       "      <td>8.10</td>\n",
       "      <td>58.00</td>\n",
       "      <td>27.00</td>\n",
       "      <td>117.0</td>\n",
       "      <td>0.0</td>\n",
       "      <td>0</td>\n",
       "      <td>0.0</td>\n",
       "      <td>...</td>\n",
       "      <td>0</td>\n",
       "      <td>57.0</td>\n",
       "      <td>0.0</td>\n",
       "      <td>0.0</td>\n",
       "      <td>0.0</td>\n",
       "      <td>0.0</td>\n",
       "      <td>16.50</td>\n",
       "      <td>0.00</td>\n",
       "      <td>14.25</td>\n",
       "      <td>0.0</td>\n",
       "    </tr>\n",
       "    <tr>\n",
       "      <th>Smoked_mozzarella_slices</th>\n",
       "      <td>0.00</td>\n",
       "      <td>0.00</td>\n",
       "      <td>284.00</td>\n",
       "      <td>21.50</td>\n",
       "      <td>0.00</td>\n",
       "      <td>22.00</td>\n",
       "      <td>500.0</td>\n",
       "      <td>0.0</td>\n",
       "      <td>0</td>\n",
       "      <td>0.0</td>\n",
       "      <td>...</td>\n",
       "      <td>0</td>\n",
       "      <td>0.0</td>\n",
       "      <td>0.0</td>\n",
       "      <td>0.0</td>\n",
       "      <td>0.0</td>\n",
       "      <td>0.0</td>\n",
       "      <td>13.70</td>\n",
       "      <td>0.53</td>\n",
       "      <td>0.00</td>\n",
       "      <td>645.0</td>\n",
       "    </tr>\n",
       "    <tr>\n",
       "      <th>Gluten-free_seed_baguette</th>\n",
       "      <td>2.00</td>\n",
       "      <td>0.00</td>\n",
       "      <td>287.00</td>\n",
       "      <td>3.00</td>\n",
       "      <td>51.80</td>\n",
       "      <td>7.10</td>\n",
       "      <td>398.0</td>\n",
       "      <td>0.0</td>\n",
       "      <td>0</td>\n",
       "      <td>0.0</td>\n",
       "      <td>...</td>\n",
       "      <td>0</td>\n",
       "      <td>1.0</td>\n",
       "      <td>0.0</td>\n",
       "      <td>0.0</td>\n",
       "      <td>0.0</td>\n",
       "      <td>0.0</td>\n",
       "      <td>0.90</td>\n",
       "      <td>0.50</td>\n",
       "      <td>0.00</td>\n",
       "      <td>0.0</td>\n",
       "    </tr>\n",
       "  </tbody>\n",
       "</table>\n",
       "<p>6727 rows × 24 columns</p>\n",
       "</div>"
      ],
      "text/plain": [
       "                                          Dietary_fiber  Folic_acid  energy  \\\n",
       "Product_Name                                                                  \n",
       "Belgian_lemon-flavored_waffle_for_school           0.00        0.00   89.00   \n",
       "Pasta_Perfecto_Casserole                           1.60        0.00  160.00   \n",
       "Whole_champignon_mushrooms                         2.20        0.00   18.00   \n",
       "Light_bread_from_whole_spelled                     2.45        0.00   38.88   \n",
       "Baby_bite_flavored_vegetables                      0.00        0.00    8.00   \n",
       "...                                                 ...         ...     ...   \n",
       "Epic_Cola_Candy                                    0.00        0.00  335.00   \n",
       "Slim_Delis_Multi-Grain_Milk                        1.60        7.22   59.00   \n",
       "Chocolate_with_popsicles                           0.00        0.00  516.00   \n",
       "Smoked_mozzarella_slices                           0.00        0.00  284.00   \n",
       "Gluten-free_seed_baguette                          2.00        0.00  287.00   \n",
       "\n",
       "                                          Proteins  Carbohydrates   Fats  \\\n",
       "Product_Name                                                               \n",
       "Belgian_lemon-flavored_waffle_for_school      0.80           9.20   6.30   \n",
       "Pasta_Perfecto_Casserole                      0.00           0.00   0.00   \n",
       "Whole_champignon_mushrooms                    2.10           0.90   0.00   \n",
       "Light_bread_from_whole_spelled                3.07           8.46   0.39   \n",
       "Baby_bite_flavored_vegetables                 0.00           2.00   0.00   \n",
       "...                                            ...            ...    ...   \n",
       "Epic_Cola_Candy                               6.30          76.00   0.00   \n",
       "Slim_Delis_Multi-Grain_Milk                   0.80           7.40   2.60   \n",
       "Chocolate_with_popsicles                      8.10          58.00  27.00   \n",
       "Smoked_mozzarella_slices                     21.50           0.00  22.00   \n",
       "Gluten-free_seed_baguette                     3.00          51.80   7.10   \n",
       "\n",
       "                                          sodium  Vitamin_B3  potassium  \\\n",
       "Product_Name                                                              \n",
       "Belgian_lemon-flavored_waffle_for_school    17.5         0.0          0   \n",
       "Pasta_Perfecto_Casserole                     0.0         0.0          0   \n",
       "Whole_champignon_mushrooms                 240.0         0.0          0   \n",
       "Light_bread_from_whole_spelled              86.9         0.0          0   \n",
       "Baby_bite_flavored_vegetables                6.0         0.0          0   \n",
       "...                                          ...         ...        ...   \n",
       "Epic_Cola_Candy                              0.0         0.0          0   \n",
       "Slim_Delis_Multi-Grain_Milk                 36.4         0.7          0   \n",
       "Chocolate_with_popsicles                   117.0         0.0          0   \n",
       "Smoked_mozzarella_slices                   500.0         0.0          0   \n",
       "Gluten-free_seed_baguette                  398.0         0.0          0   \n",
       "\n",
       "                                          Vitamin_C  ...  Magnesium  \\\n",
       "Product_Name                                         ...              \n",
       "Belgian_lemon-flavored_waffle_for_school        0.0  ...          0   \n",
       "Pasta_Perfecto_Casserole                        0.0  ...          0   \n",
       "Whole_champignon_mushrooms                      0.0  ...          0   \n",
       "Light_bread_from_whole_spelled                  0.0  ...          0   \n",
       "Baby_bite_flavored_vegetables                   0.0  ...          0   \n",
       "...                                             ...  ...        ...   \n",
       "Epic_Cola_Candy                                 0.0  ...          0   \n",
       "Slim_Delis_Multi-Grain_Milk                     0.0  ...          0   \n",
       "Chocolate_with_popsicles                        0.0  ...          0   \n",
       "Smoked_mozzarella_slices                        0.0  ...          0   \n",
       "Gluten-free_seed_baguette                       0.0  ...          0   \n",
       "\n",
       "                                          Carbohydrate_sugars  Vitamin_A  \\\n",
       "Product_Name                                                               \n",
       "Belgian_lemon-flavored_waffle_for_school                  0.0        0.0   \n",
       "Pasta_Perfecto_Casserole                                  1.4        0.0   \n",
       "Whole_champignon_mushrooms                                0.0        0.0   \n",
       "Light_bread_from_whole_spelled                            0.0        0.0   \n",
       "Baby_bite_flavored_vegetables                             0.3        0.0   \n",
       "...                                                       ...        ...   \n",
       "Epic_Cola_Candy                                          45.0        0.0   \n",
       "Slim_Delis_Multi-Grain_Milk                               4.4       34.5   \n",
       "Chocolate_with_popsicles                                 57.0        0.0   \n",
       "Smoked_mozzarella_slices                                  0.0        0.0   \n",
       "Gluten-free_seed_baguette                                 1.0        0.0   \n",
       "\n",
       "                                          Dietary_fiber.1  zinc  \\\n",
       "Product_Name                                                      \n",
       "Belgian_lemon-flavored_waffle_for_school              0.0   0.0   \n",
       "Pasta_Perfecto_Casserole                              0.0   0.0   \n",
       "Whole_champignon_mushrooms                            0.0   0.0   \n",
       "Light_bread_from_whole_spelled                        0.0   0.0   \n",
       "Baby_bite_flavored_vegetables                         0.0   0.0   \n",
       "...                                                   ...   ...   \n",
       "Epic_Cola_Candy                                       0.0   0.0   \n",
       "Slim_Delis_Multi-Grain_Milk                           0.0   0.0   \n",
       "Chocolate_with_popsicles                              0.0   0.0   \n",
       "Smoked_mozzarella_slices                              0.0   0.0   \n",
       "Gluten-free_seed_baguette                             0.0   0.0   \n",
       "\n",
       "                                          Of_which_added_sugar  \\\n",
       "Product_Name                                                     \n",
       "Belgian_lemon-flavored_waffle_for_school                   0.0   \n",
       "Pasta_Perfecto_Casserole                                   0.0   \n",
       "Whole_champignon_mushrooms                                 0.0   \n",
       "Light_bread_from_whole_spelled                             0.0   \n",
       "Baby_bite_flavored_vegetables                              0.0   \n",
       "...                                                        ...   \n",
       "Epic_Cola_Candy                                            0.0   \n",
       "Slim_Delis_Multi-Grain_Milk                                0.0   \n",
       "Chocolate_with_popsicles                                   0.0   \n",
       "Smoked_mozzarella_slices                                   0.0   \n",
       "Gluten-free_seed_baguette                                  0.0   \n",
       "\n",
       "                                          Of_which_saturated_fat  \\\n",
       "Product_Name                                                       \n",
       "Belgian_lemon-flavored_waffle_for_school                    3.30   \n",
       "Pasta_Perfecto_Casserole                                    0.00   \n",
       "Whole_champignon_mushrooms                                  0.00   \n",
       "Light_bread_from_whole_spelled                              0.12   \n",
       "Baby_bite_flavored_vegetables                               0.10   \n",
       "...                                                          ...   \n",
       "Epic_Cola_Candy                                             0.00   \n",
       "Slim_Delis_Multi-Grain_Milk                                 1.40   \n",
       "Chocolate_with_popsicles                                   16.50   \n",
       "Smoked_mozzarella_slices                                   13.70   \n",
       "Gluten-free_seed_baguette                                   0.90   \n",
       "\n",
       "                                          Trans_fatty_acids  \\\n",
       "Product_Name                                                  \n",
       "Belgian_lemon-flavored_waffle_for_school               0.00   \n",
       "Pasta_Perfecto_Casserole                               0.00   \n",
       "Whole_champignon_mushrooms                             0.00   \n",
       "Light_bread_from_whole_spelled                         0.00   \n",
       "Baby_bite_flavored_vegetables                          0.00   \n",
       "...                                                     ...   \n",
       "Epic_Cola_Candy                                        0.00   \n",
       "Slim_Delis_Multi-Grain_Milk                            0.00   \n",
       "Chocolate_with_popsicles                               0.00   \n",
       "Smoked_mozzarella_slices                               0.53   \n",
       "Gluten-free_seed_baguette                              0.50   \n",
       "\n",
       "                                          Teaspoons_of_sugar  calcium  \n",
       "Product_Name                                                           \n",
       "Belgian_lemon-flavored_waffle_for_school                0.00      0.0  \n",
       "Pasta_Perfecto_Casserole                                0.00      0.0  \n",
       "Whole_champignon_mushrooms                              0.00      0.0  \n",
       "Light_bread_from_whole_spelled                          0.00      0.0  \n",
       "Baby_bite_flavored_vegetables                           0.00      0.0  \n",
       "...                                                      ...      ...  \n",
       "Epic_Cola_Candy                                        11.25      0.0  \n",
       "Slim_Delis_Multi-Grain_Milk                             8.75      0.0  \n",
       "Chocolate_with_popsicles                               14.25      0.0  \n",
       "Smoked_mozzarella_slices                                0.00    645.0  \n",
       "Gluten-free_seed_baguette                               0.00      0.0  \n",
       "\n",
       "[6727 rows x 24 columns]"
      ]
     },
     "execution_count": 12,
     "metadata": {},
     "output_type": "execute_result"
    }
   ],
   "source": [
    "products2 = products.iloc[:,2:26] \n",
    "prices2 = prices.copy()\n",
    "products2"
   ]
  },
  {
   "cell_type": "markdown",
   "id": "b33cd9d4",
   "metadata": {},
   "source": [
    "## 3.Analyzing and visualizing the first data set:"
   ]
  },
  {
   "cell_type": "code",
   "execution_count": 13,
   "id": "2c49bace",
   "metadata": {},
   "outputs": [
    {
     "data": {
      "text/html": [
       "<div>\n",
       "<style scoped>\n",
       "    .dataframe tbody tr th:only-of-type {\n",
       "        vertical-align: middle;\n",
       "    }\n",
       "\n",
       "    .dataframe tbody tr th {\n",
       "        vertical-align: top;\n",
       "    }\n",
       "\n",
       "    .dataframe thead th {\n",
       "        text-align: right;\n",
       "    }\n",
       "</style>\n",
       "<table border=\"1\" class=\"dataframe\">\n",
       "  <thead>\n",
       "    <tr style=\"text-align: right;\">\n",
       "      <th></th>\n",
       "      <th>Vitamin_B1</th>\n",
       "      <th>Vitamin_B6</th>\n",
       "      <th>Dietary_fiber</th>\n",
       "      <th>Folic_acid</th>\n",
       "      <th>energy</th>\n",
       "      <th>Proteins</th>\n",
       "      <th>Carbohydrates</th>\n",
       "      <th>Fats</th>\n",
       "      <th>sodium</th>\n",
       "      <th>Vitamin_B3</th>\n",
       "      <th>...</th>\n",
       "      <th>Nucleotides</th>\n",
       "      <th>Linoleic_fatty_acid</th>\n",
       "      <th>selenium</th>\n",
       "      <th>copper</th>\n",
       "      <th>Taurine</th>\n",
       "      <th>Choline</th>\n",
       "      <th>Inositol</th>\n",
       "      <th>Alpha_linolenic_acid</th>\n",
       "      <th>chlorine</th>\n",
       "      <th>Carnitine</th>\n",
       "    </tr>\n",
       "    <tr>\n",
       "      <th>Product_Name</th>\n",
       "      <th></th>\n",
       "      <th></th>\n",
       "      <th></th>\n",
       "      <th></th>\n",
       "      <th></th>\n",
       "      <th></th>\n",
       "      <th></th>\n",
       "      <th></th>\n",
       "      <th></th>\n",
       "      <th></th>\n",
       "      <th></th>\n",
       "      <th></th>\n",
       "      <th></th>\n",
       "      <th></th>\n",
       "      <th></th>\n",
       "      <th></th>\n",
       "      <th></th>\n",
       "      <th></th>\n",
       "      <th></th>\n",
       "      <th></th>\n",
       "      <th></th>\n",
       "    </tr>\n",
       "  </thead>\n",
       "  <tbody>\n",
       "    <tr>\n",
       "      <th>Belgian_lemon-flavored_waffle_for_school</th>\n",
       "      <td>0.000</td>\n",
       "      <td>0.0</td>\n",
       "      <td>0.00</td>\n",
       "      <td>0.00</td>\n",
       "      <td>89.00</td>\n",
       "      <td>0.80</td>\n",
       "      <td>9.20</td>\n",
       "      <td>6.30</td>\n",
       "      <td>17.5</td>\n",
       "      <td>0.0</td>\n",
       "      <td>...</td>\n",
       "      <td>0</td>\n",
       "      <td>0</td>\n",
       "      <td>0</td>\n",
       "      <td>0</td>\n",
       "      <td>0</td>\n",
       "      <td>0</td>\n",
       "      <td>0</td>\n",
       "      <td>0</td>\n",
       "      <td>0</td>\n",
       "      <td>0</td>\n",
       "    </tr>\n",
       "    <tr>\n",
       "      <th>Pasta_Perfecto_Casserole</th>\n",
       "      <td>0.000</td>\n",
       "      <td>0.0</td>\n",
       "      <td>1.60</td>\n",
       "      <td>0.00</td>\n",
       "      <td>160.00</td>\n",
       "      <td>0.00</td>\n",
       "      <td>0.00</td>\n",
       "      <td>0.00</td>\n",
       "      <td>0.0</td>\n",
       "      <td>0.0</td>\n",
       "      <td>...</td>\n",
       "      <td>0</td>\n",
       "      <td>0</td>\n",
       "      <td>0</td>\n",
       "      <td>0</td>\n",
       "      <td>0</td>\n",
       "      <td>0</td>\n",
       "      <td>0</td>\n",
       "      <td>0</td>\n",
       "      <td>0</td>\n",
       "      <td>0</td>\n",
       "    </tr>\n",
       "    <tr>\n",
       "      <th>Whole_champignon_mushrooms</th>\n",
       "      <td>0.000</td>\n",
       "      <td>0.0</td>\n",
       "      <td>2.20</td>\n",
       "      <td>0.00</td>\n",
       "      <td>18.00</td>\n",
       "      <td>2.10</td>\n",
       "      <td>0.90</td>\n",
       "      <td>0.00</td>\n",
       "      <td>240.0</td>\n",
       "      <td>0.0</td>\n",
       "      <td>...</td>\n",
       "      <td>0</td>\n",
       "      <td>0</td>\n",
       "      <td>0</td>\n",
       "      <td>0</td>\n",
       "      <td>0</td>\n",
       "      <td>0</td>\n",
       "      <td>0</td>\n",
       "      <td>0</td>\n",
       "      <td>0</td>\n",
       "      <td>0</td>\n",
       "    </tr>\n",
       "    <tr>\n",
       "      <th>Light_bread_from_whole_spelled</th>\n",
       "      <td>0.000</td>\n",
       "      <td>0.0</td>\n",
       "      <td>2.45</td>\n",
       "      <td>0.00</td>\n",
       "      <td>38.88</td>\n",
       "      <td>3.07</td>\n",
       "      <td>8.46</td>\n",
       "      <td>0.39</td>\n",
       "      <td>86.9</td>\n",
       "      <td>0.0</td>\n",
       "      <td>...</td>\n",
       "      <td>0</td>\n",
       "      <td>0</td>\n",
       "      <td>0</td>\n",
       "      <td>0</td>\n",
       "      <td>0</td>\n",
       "      <td>0</td>\n",
       "      <td>0</td>\n",
       "      <td>0</td>\n",
       "      <td>0</td>\n",
       "      <td>0</td>\n",
       "    </tr>\n",
       "    <tr>\n",
       "      <th>Baby_bite_flavored_vegetables</th>\n",
       "      <td>0.000</td>\n",
       "      <td>0.0</td>\n",
       "      <td>0.00</td>\n",
       "      <td>0.00</td>\n",
       "      <td>8.00</td>\n",
       "      <td>0.00</td>\n",
       "      <td>2.00</td>\n",
       "      <td>0.00</td>\n",
       "      <td>6.0</td>\n",
       "      <td>0.0</td>\n",
       "      <td>...</td>\n",
       "      <td>0</td>\n",
       "      <td>0</td>\n",
       "      <td>0</td>\n",
       "      <td>0</td>\n",
       "      <td>0</td>\n",
       "      <td>0</td>\n",
       "      <td>0</td>\n",
       "      <td>0</td>\n",
       "      <td>0</td>\n",
       "      <td>0</td>\n",
       "    </tr>\n",
       "    <tr>\n",
       "      <th>...</th>\n",
       "      <td>...</td>\n",
       "      <td>...</td>\n",
       "      <td>...</td>\n",
       "      <td>...</td>\n",
       "      <td>...</td>\n",
       "      <td>...</td>\n",
       "      <td>...</td>\n",
       "      <td>...</td>\n",
       "      <td>...</td>\n",
       "      <td>...</td>\n",
       "      <td>...</td>\n",
       "      <td>...</td>\n",
       "      <td>...</td>\n",
       "      <td>...</td>\n",
       "      <td>...</td>\n",
       "      <td>...</td>\n",
       "      <td>...</td>\n",
       "      <td>...</td>\n",
       "      <td>...</td>\n",
       "      <td>...</td>\n",
       "      <td>...</td>\n",
       "    </tr>\n",
       "    <tr>\n",
       "      <th>Epic_Cola_Candy</th>\n",
       "      <td>0.000</td>\n",
       "      <td>0.0</td>\n",
       "      <td>0.00</td>\n",
       "      <td>0.00</td>\n",
       "      <td>335.00</td>\n",
       "      <td>6.30</td>\n",
       "      <td>76.00</td>\n",
       "      <td>0.00</td>\n",
       "      <td>0.0</td>\n",
       "      <td>0.0</td>\n",
       "      <td>...</td>\n",
       "      <td>0</td>\n",
       "      <td>0</td>\n",
       "      <td>0</td>\n",
       "      <td>0</td>\n",
       "      <td>0</td>\n",
       "      <td>0</td>\n",
       "      <td>0</td>\n",
       "      <td>0</td>\n",
       "      <td>0</td>\n",
       "      <td>0</td>\n",
       "    </tr>\n",
       "    <tr>\n",
       "      <th>Slim_Delis_Multi-Grain_Milk</th>\n",
       "      <td>0.055</td>\n",
       "      <td>0.1</td>\n",
       "      <td>1.60</td>\n",
       "      <td>7.22</td>\n",
       "      <td>59.00</td>\n",
       "      <td>0.80</td>\n",
       "      <td>7.40</td>\n",
       "      <td>2.60</td>\n",
       "      <td>36.4</td>\n",
       "      <td>0.7</td>\n",
       "      <td>...</td>\n",
       "      <td>0</td>\n",
       "      <td>0</td>\n",
       "      <td>0</td>\n",
       "      <td>0</td>\n",
       "      <td>0</td>\n",
       "      <td>0</td>\n",
       "      <td>0</td>\n",
       "      <td>0</td>\n",
       "      <td>0</td>\n",
       "      <td>0</td>\n",
       "    </tr>\n",
       "    <tr>\n",
       "      <th>Chocolate_with_popsicles</th>\n",
       "      <td>0.000</td>\n",
       "      <td>0.0</td>\n",
       "      <td>0.00</td>\n",
       "      <td>0.00</td>\n",
       "      <td>516.00</td>\n",
       "      <td>8.10</td>\n",
       "      <td>58.00</td>\n",
       "      <td>27.00</td>\n",
       "      <td>117.0</td>\n",
       "      <td>0.0</td>\n",
       "      <td>...</td>\n",
       "      <td>0</td>\n",
       "      <td>0</td>\n",
       "      <td>0</td>\n",
       "      <td>0</td>\n",
       "      <td>0</td>\n",
       "      <td>0</td>\n",
       "      <td>0</td>\n",
       "      <td>0</td>\n",
       "      <td>0</td>\n",
       "      <td>0</td>\n",
       "    </tr>\n",
       "    <tr>\n",
       "      <th>Smoked_mozzarella_slices</th>\n",
       "      <td>0.000</td>\n",
       "      <td>0.0</td>\n",
       "      <td>0.00</td>\n",
       "      <td>0.00</td>\n",
       "      <td>284.00</td>\n",
       "      <td>21.50</td>\n",
       "      <td>0.00</td>\n",
       "      <td>22.00</td>\n",
       "      <td>500.0</td>\n",
       "      <td>0.0</td>\n",
       "      <td>...</td>\n",
       "      <td>0</td>\n",
       "      <td>0</td>\n",
       "      <td>0</td>\n",
       "      <td>0</td>\n",
       "      <td>0</td>\n",
       "      <td>0</td>\n",
       "      <td>0</td>\n",
       "      <td>0</td>\n",
       "      <td>0</td>\n",
       "      <td>0</td>\n",
       "    </tr>\n",
       "    <tr>\n",
       "      <th>Gluten-free_seed_baguette</th>\n",
       "      <td>0.000</td>\n",
       "      <td>0.0</td>\n",
       "      <td>2.00</td>\n",
       "      <td>0.00</td>\n",
       "      <td>287.00</td>\n",
       "      <td>3.00</td>\n",
       "      <td>51.80</td>\n",
       "      <td>7.10</td>\n",
       "      <td>398.0</td>\n",
       "      <td>0.0</td>\n",
       "      <td>...</td>\n",
       "      <td>0</td>\n",
       "      <td>0</td>\n",
       "      <td>0</td>\n",
       "      <td>0</td>\n",
       "      <td>0</td>\n",
       "      <td>0</td>\n",
       "      <td>0</td>\n",
       "      <td>0</td>\n",
       "      <td>0</td>\n",
       "      <td>0</td>\n",
       "    </tr>\n",
       "  </tbody>\n",
       "</table>\n",
       "<p>6727 rows × 58 columns</p>\n",
       "</div>"
      ],
      "text/plain": [
       "                                          Vitamin_B1  Vitamin_B6  \\\n",
       "Product_Name                                                       \n",
       "Belgian_lemon-flavored_waffle_for_school       0.000         0.0   \n",
       "Pasta_Perfecto_Casserole                       0.000         0.0   \n",
       "Whole_champignon_mushrooms                     0.000         0.0   \n",
       "Light_bread_from_whole_spelled                 0.000         0.0   \n",
       "Baby_bite_flavored_vegetables                  0.000         0.0   \n",
       "...                                              ...         ...   \n",
       "Epic_Cola_Candy                                0.000         0.0   \n",
       "Slim_Delis_Multi-Grain_Milk                    0.055         0.1   \n",
       "Chocolate_with_popsicles                       0.000         0.0   \n",
       "Smoked_mozzarella_slices                       0.000         0.0   \n",
       "Gluten-free_seed_baguette                      0.000         0.0   \n",
       "\n",
       "                                          Dietary_fiber  Folic_acid  energy  \\\n",
       "Product_Name                                                                  \n",
       "Belgian_lemon-flavored_waffle_for_school           0.00        0.00   89.00   \n",
       "Pasta_Perfecto_Casserole                           1.60        0.00  160.00   \n",
       "Whole_champignon_mushrooms                         2.20        0.00   18.00   \n",
       "Light_bread_from_whole_spelled                     2.45        0.00   38.88   \n",
       "Baby_bite_flavored_vegetables                      0.00        0.00    8.00   \n",
       "...                                                 ...         ...     ...   \n",
       "Epic_Cola_Candy                                    0.00        0.00  335.00   \n",
       "Slim_Delis_Multi-Grain_Milk                        1.60        7.22   59.00   \n",
       "Chocolate_with_popsicles                           0.00        0.00  516.00   \n",
       "Smoked_mozzarella_slices                           0.00        0.00  284.00   \n",
       "Gluten-free_seed_baguette                          2.00        0.00  287.00   \n",
       "\n",
       "                                          Proteins  Carbohydrates   Fats  \\\n",
       "Product_Name                                                               \n",
       "Belgian_lemon-flavored_waffle_for_school      0.80           9.20   6.30   \n",
       "Pasta_Perfecto_Casserole                      0.00           0.00   0.00   \n",
       "Whole_champignon_mushrooms                    2.10           0.90   0.00   \n",
       "Light_bread_from_whole_spelled                3.07           8.46   0.39   \n",
       "Baby_bite_flavored_vegetables                 0.00           2.00   0.00   \n",
       "...                                            ...            ...    ...   \n",
       "Epic_Cola_Candy                               6.30          76.00   0.00   \n",
       "Slim_Delis_Multi-Grain_Milk                   0.80           7.40   2.60   \n",
       "Chocolate_with_popsicles                      8.10          58.00  27.00   \n",
       "Smoked_mozzarella_slices                     21.50           0.00  22.00   \n",
       "Gluten-free_seed_baguette                     3.00          51.80   7.10   \n",
       "\n",
       "                                          sodium  Vitamin_B3  ...  \\\n",
       "Product_Name                                                  ...   \n",
       "Belgian_lemon-flavored_waffle_for_school    17.5         0.0  ...   \n",
       "Pasta_Perfecto_Casserole                     0.0         0.0  ...   \n",
       "Whole_champignon_mushrooms                 240.0         0.0  ...   \n",
       "Light_bread_from_whole_spelled              86.9         0.0  ...   \n",
       "Baby_bite_flavored_vegetables                6.0         0.0  ...   \n",
       "...                                          ...         ...  ...   \n",
       "Epic_Cola_Candy                              0.0         0.0  ...   \n",
       "Slim_Delis_Multi-Grain_Milk                 36.4         0.7  ...   \n",
       "Chocolate_with_popsicles                   117.0         0.0  ...   \n",
       "Smoked_mozzarella_slices                   500.0         0.0  ...   \n",
       "Gluten-free_seed_baguette                  398.0         0.0  ...   \n",
       "\n",
       "                                          Nucleotides  Linoleic_fatty_acid  \\\n",
       "Product_Name                                                                 \n",
       "Belgian_lemon-flavored_waffle_for_school            0                    0   \n",
       "Pasta_Perfecto_Casserole                            0                    0   \n",
       "Whole_champignon_mushrooms                          0                    0   \n",
       "Light_bread_from_whole_spelled                      0                    0   \n",
       "Baby_bite_flavored_vegetables                       0                    0   \n",
       "...                                               ...                  ...   \n",
       "Epic_Cola_Candy                                     0                    0   \n",
       "Slim_Delis_Multi-Grain_Milk                         0                    0   \n",
       "Chocolate_with_popsicles                            0                    0   \n",
       "Smoked_mozzarella_slices                            0                    0   \n",
       "Gluten-free_seed_baguette                           0                    0   \n",
       "\n",
       "                                          selenium  copper  Taurine  Choline  \\\n",
       "Product_Name                                                                   \n",
       "Belgian_lemon-flavored_waffle_for_school         0       0        0        0   \n",
       "Pasta_Perfecto_Casserole                         0       0        0        0   \n",
       "Whole_champignon_mushrooms                       0       0        0        0   \n",
       "Light_bread_from_whole_spelled                   0       0        0        0   \n",
       "Baby_bite_flavored_vegetables                    0       0        0        0   \n",
       "...                                            ...     ...      ...      ...   \n",
       "Epic_Cola_Candy                                  0       0        0        0   \n",
       "Slim_Delis_Multi-Grain_Milk                      0       0        0        0   \n",
       "Chocolate_with_popsicles                         0       0        0        0   \n",
       "Smoked_mozzarella_slices                         0       0        0        0   \n",
       "Gluten-free_seed_baguette                        0       0        0        0   \n",
       "\n",
       "                                          Inositol  Alpha_linolenic_acid  \\\n",
       "Product_Name                                                               \n",
       "Belgian_lemon-flavored_waffle_for_school         0                     0   \n",
       "Pasta_Perfecto_Casserole                         0                     0   \n",
       "Whole_champignon_mushrooms                       0                     0   \n",
       "Light_bread_from_whole_spelled                   0                     0   \n",
       "Baby_bite_flavored_vegetables                    0                     0   \n",
       "...                                            ...                   ...   \n",
       "Epic_Cola_Candy                                  0                     0   \n",
       "Slim_Delis_Multi-Grain_Milk                      0                     0   \n",
       "Chocolate_with_popsicles                         0                     0   \n",
       "Smoked_mozzarella_slices                         0                     0   \n",
       "Gluten-free_seed_baguette                        0                     0   \n",
       "\n",
       "                                          chlorine  Carnitine  \n",
       "Product_Name                                                   \n",
       "Belgian_lemon-flavored_waffle_for_school         0          0  \n",
       "Pasta_Perfecto_Casserole                         0          0  \n",
       "Whole_champignon_mushrooms                       0          0  \n",
       "Light_bread_from_whole_spelled                   0          0  \n",
       "Baby_bite_flavored_vegetables                    0          0  \n",
       "...                                            ...        ...  \n",
       "Epic_Cola_Candy                                  0          0  \n",
       "Slim_Delis_Multi-Grain_Milk                      0          0  \n",
       "Chocolate_with_popsicles                         0          0  \n",
       "Smoked_mozzarella_slices                         0          0  \n",
       "Gluten-free_seed_baguette                        0          0  \n",
       "\n",
       "[6727 rows x 58 columns]"
      ]
     },
     "execution_count": 13,
     "metadata": {},
     "output_type": "execute_result"
    }
   ],
   "source": [
    "products"
   ]
  },
  {
   "cell_type": "markdown",
   "id": "06a2b636",
   "metadata": {},
   "source": [
    "### uniting the desired columns:"
   ]
  },
  {
   "cell_type": "code",
   "execution_count": 14,
   "id": "1d96fb68",
   "metadata": {},
   "outputs": [],
   "source": [
    "def merge_two_columns(col1, col2, dataframe, index_col):\n",
    "    if col1 in dataframe.columns and col2 in dataframe.columns:\n",
    "        dataframe = dataframe.reset_index()\n",
    "        row = 0\n",
    "        for prod in dataframe[col1]:\n",
    "            if (prod==0):\n",
    "                if (dataframe.at[row , col2]!=0):\n",
    "                    dataframe.at[row, col1] =  dataframe.at[row ,col2]  \n",
    "            row = row+1\n",
    "        dataframe = dataframe.drop([col2], axis = 1)\n",
    "        dataframe = dataframe.set_index(index_col, drop=True)\n",
    "        return dataframe\n",
    "    else:\n",
    "        return dataframe"
   ]
  },
  {
   "cell_type": "code",
   "execution_count": 15,
   "id": "ffdcb824",
   "metadata": {},
   "outputs": [],
   "source": [
    "products = merge_two_columns('Vitamin_A', 'Vitamin_A_is_worth_retinol', products, 'Product_Name')\n",
    "products = merge_two_columns('Dietary_fiber', 'Dietary_fiber.1', products, 'Product_Name')\n",
    "products = merge_two_columns('potassium', 'K_Potassium', products, 'Product_Name')\n",
    "products = merge_two_columns('Vitamin_E.', 'Vitamin_E_equals_alpha_tocopherol', products, 'Product_Name')\n",
    "products = merge_two_columns('Vitamin_D.', 'Vitamin_D_Calciprolol', products, 'Product_Name')\n",
    "products = merge_two_columns('Vitamin_B3', 'Niacin', products, 'Product_Name')\n",
    "products = merge_two_columns('Vitamin_B3', 'Vitamin_B3_Nicotinamide_Equilibrium', products, 'Product_Name')\n",
    "products = merge_two_columns('Vitamin_B3', 'Nicotinamide', products, 'Product_Name')\n",
    "products = merge_two_columns('sodium', 'chloride', products, 'Product_Name')"
   ]
  },
  {
   "cell_type": "markdown",
   "id": "8db4d3a9",
   "metadata": {},
   "source": [
    "### checking the correlations:"
   ]
  },
  {
   "cell_type": "markdown",
   "id": "e9a9365f",
   "metadata": {},
   "source": [
    "###### checking the correlation between the Vitamin b's group:\n",
    "we found on wikirefua that Folic acid = Vitamin B9, Niacin = Vitamin B3, Biotin = Vitamin B7 https://www.wikirefua.org.il/w/index.php?title=%D7%95%D7%99%D7%98%D7%9E%D7%99%D7%9F_B\n",
    "It's written as well, that once, all the 8 types of Vitamin B(1, 2, 3, 5, 6, 7, 9, 12) were considered as the same vitamin - vitamin B.\n",
    "\n",
    "In time, humanity found that they are different and each one has other functions. the reason why they all were considered the same Vitamoin is because they are often appears together in the same types of food. \n",
    "\n",
    "Hence, we'll try to find correlation between the different types of vitamin B, with the goal to unite them all under one column - Vitamin B group."
   ]
  },
  {
   "cell_type": "code",
   "execution_count": 16,
   "id": "274df8d1",
   "metadata": {},
   "outputs": [
    {
     "data": {
      "text/plain": [
       "<AxesSubplot:>"
      ]
     },
     "execution_count": 16,
     "metadata": {},
     "output_type": "execute_result"
    },
    {
     "data": {
      "image/png": "[encoded data removed]",
      "text/plain": [
       "<Figure size 576x396 with 2 Axes>"
      ]
     },
     "metadata": {},
     "output_type": "display_data"
    }
   ],
   "source": [
    "Bs = ['Vitamin_B1', 'Vitamin_B2', 'Vitamin_B3', 'Vitamin_B5', 'Vitamin_B6',  'Biotin', 'Folic_acid', 'Vitamin_B12']\n",
    "vitamin_B = products.loc[:,Bs]\n",
    "corrV = vitamin_B.corr()\n",
    "sns.heatmap(corrV, annot=True)"
   ]
  },
  {
   "cell_type": "markdown",
   "id": "c9a14b5f",
   "metadata": {},
   "source": [
    "From the graph we're concluding that the column we might want to take to represent the Vitamin B group is either Vitamin_B1, Vitamin_B3, Vitamin_B6 or Vitamin_B9 (Folic_acid). \n",
    "\n",
    "We chosed them by the number of correlations that are about>=0.8 (we didn't considered Vitamin_B2 because as we can see, the correlation between Vitamin_B1 and Vitamin_B2 is 1).\n",
    "\n",
    "Now, we'll choose which one of the columns it will be by these criteria:\n",
    "- the one with the most higher correlations\n",
    "- the one with the least lower correlations\n",
    "- the one with the biggest correlation with column we want to predict - price_per_100g"
   ]
  },
  {
   "cell_type": "code",
   "execution_count": 17,
   "id": "373a2d0f",
   "metadata": {},
   "outputs": [
    {
     "name": "stdout",
     "output_type": "stream",
     "text": [
      "Vitamin_B1 : number of correlations that are greater than 0.8:  4\n",
      "Vitamin_B1 : number of correlations that are below or equal 0.2:  2\n",
      "correlation between price_per_100g and  Vitamin_B1 :  0.01789411147893502\n",
      "Vitamin_B6 : number of correlations that are greater than 0.8:  5\n",
      "Vitamin_B6 : number of correlations that are below or equal 0.2:  0\n",
      "correlation between price_per_100g and  Vitamin_B6 :  0.027219292407152665\n",
      "Folic_acid : number of correlations that are greater than 0.8:  5\n",
      "Folic_acid : number of correlations that are below or equal 0.2:  2\n",
      "correlation between price_per_100g and  Folic_acid :  0.021029044768790417\n"
     ]
    }
   ],
   "source": [
    "might_be_rep = ['Vitamin_B1', 'Vitamin_B6', 'Folic_acid']\n",
    "for rep in might_be_rep:\n",
    "    column_1 = prices\n",
    "    column_2 = products[rep]\n",
    "    correlation = column_1.corr(column_2)\n",
    "    print(rep, \": number of correlations that are greater than 0.8: \", (corrV[rep].sort_values(ascending=False)>0.8).sum())\n",
    "    print(rep, \": number of correlations that are below or equal 0.2: \", (corrV[rep].sort_values(ascending=False)<=0.2).sum())\n",
    "    print(\"correlation between price_per_100g and \",rep,\": \", correlation)"
   ]
  },
  {
   "cell_type": "markdown",
   "id": "5a4f5a38",
   "metadata": {},
   "source": [
    "By the two first criteria we have putted first, it seems that the columns we should take as a representetive for the Vitamin B group is the column of Vitamin_B6 - it has the biggest number of correlations that are greater than 0.8 (which is 4), and it has the smallest number of correlations that are below or equal 0.2 (which is 1). It has, as well, the biggest correlation with price_per_100g.\n",
    "\n",
    "we tried as well a different approach - instead of choosing one column to be the representetive of all the group, we tried to merge between the difeerent Vitamin Bs. we gave more significance to Vitamin_B6 and the one's that were designated to be the representetives by this order: first Vitamin_B6, then Vitamin_B9 (Folic_acid) (who has the best correlation with the price per 100g, and the smallest number of correlations that are below or equal 0.2 as well), After Vitamin_B1, the last of the might_be_rep. Then there was be Vitamin_B12 ,who has the same number of greater than 0.8 correlations as Vitamin_B5, but fewer correlations that are below or equal 0.2. And last but not least were Vitamin_B5, Biotin and Vitamin_B3 because we can see from the graph that Vitamin_B5 has the best higher correlations, Biotin the seconds, and Vitamin_B3 has the fewest.\n",
    "\n",
    "we tried a different combinations of the code that appears in the next window, but it seemed that no matter what we did, the correlation between the column we tried to create to the price_per_100g stayed the same.\n",
    "\n",
    "In the End we decided to stick with the Vitamin_B6 as the representor of this group, except for Vitamin_B5, Biotin and Vitamin_B3 who had lower correlations with the rest of the Vitamin Bs' group, so we wanted to look further into them."
   ]
  },
  {
   "cell_type": "code",
   "execution_count": 18,
   "id": "3aef0896",
   "metadata": {},
   "outputs": [],
   "source": [
    "products['Partof_vitaminB'] = products['Vitamin_B6']\n",
    "products = products.drop(['Vitamin_B6','Vitamin_B1','Vitamin_B2','Vitamin_B12','Folic_acid'], axis=1)"
   ]
  },
  {
   "cell_type": "code",
   "execution_count": 19,
   "id": "f8cfa6d5",
   "metadata": {},
   "outputs": [
    {
     "data": {
      "text/plain": [
       "Vitamin_B3         1.000000\n",
       "Partof_vitaminB    0.877151\n",
       "Vitamin_B5         0.480986\n",
       "iron               0.244172\n",
       "Biotin             0.230854\n",
       "Vitamin_E.         0.213854\n",
       "Vitamin_D.         0.115442\n",
       "Ascorbic_acid      0.110129\n",
       "Vitamin_A          0.101653\n",
       "calcium            0.092552\n",
       "Name: Vitamin_B3, dtype: float64"
      ]
     },
     "execution_count": 19,
     "metadata": {},
     "output_type": "execute_result"
    }
   ],
   "source": [
    "corr_matrix = products.corr()\n",
    "corr_matrix['Vitamin_B3'].sort_values(ascending=False).head(10)"
   ]
  },
  {
   "cell_type": "code",
   "execution_count": 20,
   "id": "a3f8d009",
   "metadata": {},
   "outputs": [
    {
     "data": {
      "text/plain": [
       "Vitamin_B5              1.000000\n",
       "Vitamin_B3              0.480986\n",
       "Biotin                  0.337652\n",
       "Vitamin_E.              0.299832\n",
       "Partof_vitaminB         0.286646\n",
       "Inositol                0.220624\n",
       "iron                    0.218026\n",
       "Vitamin_K.              0.212664\n",
       "Alpha_linolenic_acid    0.209766\n",
       "Choline                 0.201525\n",
       "Name: Vitamin_B5, dtype: float64"
      ]
     },
     "execution_count": 20,
     "metadata": {},
     "output_type": "execute_result"
    }
   ],
   "source": [
    "corr_matrix = products.corr()\n",
    "corr_matrix['Vitamin_B5'].sort_values(ascending=False).head(10)\n",
    "#coudln't find the connection between copper and b5, bt found: the need for vitamin B5 is reduced in a copper-deficient(https://www.traceelements.com/Docs/The%20Nutritional%20Relationships%20of%20Copper.pdf)"
   ]
  },
  {
   "cell_type": "code",
   "execution_count": 21,
   "id": "98a7ed44",
   "metadata": {},
   "outputs": [
    {
     "data": {
      "text/plain": [
       "Biotin                  1.000000\n",
       "Vitamin_E.              0.433023\n",
       "Vitamin_B5              0.337652\n",
       "Vitamin_C               0.233217\n",
       "Vitamin_B3              0.230854\n",
       "Partof_vitaminB         0.218759\n",
       "Alpha_linolenic_acid    0.206368\n",
       "Inositol                0.205039\n",
       "Choline                 0.204311\n",
       "copper                  0.198216\n",
       "Name: Biotin, dtype: float64"
      ]
     },
     "execution_count": 21,
     "metadata": {},
     "output_type": "execute_result"
    }
   ],
   "source": [
    "corr_matrix = products.corr()\n",
    "corr_matrix['Biotin'].sort_values(ascending=False).head(10)\n",
    "#the only connection found between biotin and vitamin e is: both told to help with looks of skin and hair(https://www.everydayhealth.com/pictures/supplements-skin-hair/) "
   ]
  },
  {
   "cell_type": "markdown",
   "id": "b7587bca",
   "metadata": {},
   "source": [
    "The highest correlation Vitamin_B5 and Vitamin_B3 has is with eac other. we couldn't find a reason to that connection between them, except of the fact that the method for determination of these vitamins in human biological materials is the same. \n",
    "\n",
    "Furthermore, because we did found a representitive of the majority of the Vitamin B group, we decided we wanted to look for a correlation within all the vitamin groups."
   ]
  },
  {
   "cell_type": "code",
   "execution_count": 22,
   "id": "fcac826e",
   "metadata": {},
   "outputs": [
    {
     "data": {
      "text/plain": [
       "<AxesSubplot:>"
      ]
     },
     "execution_count": 22,
     "metadata": {},
     "output_type": "execute_result"
    },
    {
     "data": {
      "image/png": "[encoded data removed]",
      "text/plain": [
       "<Figure size 576x396 with 2 Axes>"
      ]
     },
     "metadata": {},
     "output_type": "display_data"
    }
   ],
   "source": [
    "vitamins_lst=['Vitamin_C','Vitamin_K.','Vitamin_E.','Vitamin_A','Vitamin_D.' ,'Partof_vitaminB', 'Biotin', 'Vitamin_B5', 'Vitamin_B3']\n",
    "vitaminS = products.loc[:,vitamins_lst]\n",
    "corrvl = vitaminS.corr()\n",
    "sns.heatmap(corrvl, annot=True)"
   ]
  },
  {
   "cell_type": "markdown",
   "id": "6c143fb6",
   "metadata": {},
   "source": [
    "There isn't a particulater high correlation. There is a weak connection (0.25<x<0.5) between them all, but we can attribute that to the fact that a lot of the times vitamin appears together in the same kinds of foods (such as fruits)."
   ]
  },
  {
   "cell_type": "markdown",
   "id": "da37fe55",
   "metadata": {},
   "source": [
    "###### checking correlations between all the things that contains sugars (and Carbohydrate_sugars and Carbohydrate):"
   ]
  },
  {
   "cell_type": "code",
   "execution_count": 23,
   "id": "a7eb2d6d",
   "metadata": {
    "scrolled": false
   },
   "outputs": [
    {
     "data": {
      "text/plain": [
       "<AxesSubplot:>"
      ]
     },
     "execution_count": 23,
     "metadata": {},
     "output_type": "execute_result"
    },
    {
     "data": {
      "image/png": "[encoded data removed]",
      "text/plain": [
       "<Figure size 576x396 with 2 Axes>"
      ]
     },
     "metadata": {},
     "output_type": "display_data"
    }
   ],
   "source": [
    "corr_matrix = products.corr()\n",
    "Sm = ['Teaspoons_of_sugar', 'Carbohydrate_sugars', 'Of_which_added_sugar', 'Sugars'] #'From_sugars_to_organic_acids']\n",
    "Sugars_matix = products.loc[:,Sm]\n",
    "corrS = Sugars_matix.corr()\n",
    "sns.heatmap(corrS,annot=True)"
   ]
  },
  {
   "cell_type": "markdown",
   "id": "714f8e0e",
   "metadata": {},
   "source": [
    "From the graph we can see that the only strong correlation there is between Teaspoons_of_sugar and Carbohydrate_sugars, which is about 0.8.\n",
    "\n",
    "The correlation between \"Teaspoons of sugar\" and \"Carbohydrate sugars\" is high, beacuse as we found at https://www.camoni.co.il/411804/559434, a nutritionist named Marina Broshi explained that Teaspoons of sugar = Carbohydrate sugars/4. \n",
    "\n",
    "Now, We'll check the correlation between Teaspoons_of_sugar, Carbohydrate_sugars and price_per_100g (in order to decide on which of the two columns we should give up), But before we'll decide to drop the Carbohydrate sugars (if it'll come to that) column we''ll check as well the correlation between Carbohydrates and Carbohydrate_sugars, as we wanted before."
   ]
  },
  {
   "cell_type": "code",
   "execution_count": 24,
   "id": "61bd1bd9",
   "metadata": {},
   "outputs": [
    {
     "name": "stdout",
     "output_type": "stream",
     "text": [
      "correlation between Carbohydrates and Carbohydrate_sugars  0.4552399032913232\n"
     ]
    }
   ],
   "source": [
    "column_1 = products[\"Carbohydrate_sugars\"]\n",
    "column_2 = products[\"Carbohydrates\"]\n",
    "correlation = column_1.corr(column_2)\n",
    "print(\"correlation between Carbohydrates and Carbohydrate_sugars \", correlation)"
   ]
  },
  {
   "cell_type": "markdown",
   "id": "8e35fccb",
   "metadata": {},
   "source": [
    "The correlation between Carbohydrates and Carbohydrate_sugars is lower than the one between Carbohydrate_sugars and Teaspoons_of_sugar (where there is an exact formula to calculate the connection). \n",
    "\n",
    "Due to that, we decided to drop the Carbohydrate sugars column."
   ]
  },
  {
   "cell_type": "code",
   "execution_count": 25,
   "id": "9f315158",
   "metadata": {},
   "outputs": [],
   "source": [
    "products = merge_two_columns('Carbohydrate_sugars', 'Teaspoons_of_sugar', products, 'Product_Name')"
   ]
  },
  {
   "cell_type": "markdown",
   "id": "77305dca",
   "metadata": {},
   "source": [
    "###### checking correlations between energy and the rest of the nutrition values:"
   ]
  },
  {
   "cell_type": "code",
   "execution_count": 26,
   "id": "64a12352",
   "metadata": {
    "scrolled": true
   },
   "outputs": [
    {
     "name": "stdout",
     "output_type": "stream",
     "text": [
      "energy                    1.000000\n",
      "Fats                      0.755486\n",
      "Carbohydrates             0.434011\n",
      "Carbohydrate_sugars       0.352774\n",
      "Dietary_fiber             0.220607\n",
      "iron                      0.142810\n",
      "Proteins                  0.134315\n",
      "Cholesterol               0.095170\n",
      "Of_which_saturated_fat    0.085471\n",
      "Trans_fatty_acids         0.073750\n",
      "Name: energy, dtype: float64\n"
     ]
    }
   ],
   "source": [
    "corr_matrix = products.corr()\n",
    "corr_matrix[\"energy\"].sort_values(ascending=False)\n",
    "print(corr_matrix[\"energy\"].sort_values(ascending=False).head(10))"
   ]
  },
  {
   "cell_type": "markdown",
   "id": "0e1b80d1",
   "metadata": {},
   "source": [
    "The strong correlation between \"energy\" and \"Fats\" is high, beacuse as we found at wikipedia, https://he.wikipedia.org/wiki/%D7%A7%D7%9C%D7%95%D7%A8%D7%99%D7%94, energy, which is Calories can be calculated by: 1g of Fats=1g of energy*9 "
   ]
  },
  {
   "cell_type": "code",
   "execution_count": 27,
   "id": "4b5493a1",
   "metadata": {},
   "outputs": [
    {
     "name": "stdout",
     "output_type": "stream",
     "text": [
      "correlation with energy  0.03591838259657959\n",
      "correlation with Fats  0.08301273675673299\n"
     ]
    }
   ],
   "source": [
    "column_1 = products[\"energy\"]\n",
    "column_2 = prices\n",
    "correlation = column_1.corr(column_2)\n",
    "print(\"correlation with energy \", correlation)\n",
    "column_1 = products[\"Fats\"]\n",
    "column_2 = prices\n",
    "correlation = column_1.corr(column_2)\n",
    "print(\"correlation with Fats \", correlation)\n",
    "products = merge_two_columns('Fats', 'energy', products, 'Product_Name')#the correlation with Fats is higher. thus, we merged the energy column into the Fats column"
   ]
  },
  {
   "cell_type": "markdown",
   "id": "16c17e7e",
   "metadata": {},
   "source": [
    "###### checking correlations between the many kinds of fat: \n",
    "(we'll just point out that Linoleic_fatty_acid and Alpha_Linolenic_Acid are not the same fat acid. In they're compound, Linoleic_fatty_acid has 2 more hydrogen than Alpha_Linolenic_Acid)\n",
    "\n",
    "Alpha_Linolenic_Acid(ALA)'s compound: C18H30O2 (https://en.wikipedia.org/wiki/Alpha-Linolenic_acid)\n",
    "\n",
    "Linoleic_fatty_acid's compound: C18H32O2 (https://en.wikipedia.org/wiki/Linoleic_acid)"
   ]
  },
  {
   "cell_type": "code",
   "execution_count": 28,
   "id": "a6f2d096",
   "metadata": {},
   "outputs": [
    {
     "data": {
      "image/png": "[encoded data removed]",
      "text/plain": [
       "<Figure size 864x864 with 2 Axes>"
      ]
     },
     "metadata": {},
     "output_type": "display_data"
    }
   ],
   "source": [
    "Ft = ['Fats','Of_which_saturated_fat','3_omega_fatty_acids','Saturated_fat','Saturated_fatty_acids'\n",
    "             ,'ARA_fatty_acid', 'DHA_fatty_acid','Linoleic_fatty_acid','Alpha_linolenic_acid'] #,'Polyunsaturated_fat'\n",
    "Fats_list = products.loc[:,Ft]\n",
    "cmap = sns.diverging_palette(30, 230, 90, 20, as_cmap=True)\n",
    "fig, ax = plt.subplots(figsize=(12,12))\n",
    "sns.heatmap(Fats_list.corr(),annot=True, cmap=cmap)\n",
    "sns.set(font_scale=1)"
   ]
  },
  {
   "cell_type": "markdown",
   "id": "2ff4a832",
   "metadata": {},
   "source": [
    "we can see from graph that there is an area with a high correlation between three features - ARA_fatty_acid, DHA_fatty_acid and Linoleic_fatty_acid. The higher correlations are with ARA_fatty_acid so we decided to dig further in the origins of ARA_fatty_acid. \n",
    "\n",
    "we found out that Linoleic acid, ARA_fatty_acid are subsets of 6_omega_fatty_acids https://en.wikipedia.org/wiki/Omega-6_fatty_acid\n",
    "\n",
    "We decided to unite these columns, but not before we checked does some of the fats we have are subsets of 3_omega_fatty_acids. we descovered that DHA_fatty_acid together with ALA (which is Alpha_Linolenic_Acid) are subsets of 3_omega_fatty_acids.https://en.wikipedia.org/wiki/Omega-3_fatty_acid\n",
    "\n",
    "Also, we found that there is a connection between linoleic acids and oleic acids."
   ]
  },
  {
   "cell_type": "code",
   "execution_count": 29,
   "id": "a68768e3",
   "metadata": {},
   "outputs": [],
   "source": [
    "products['6_omega_fatty_acids'] = products['ARA_fatty_acid']\n",
    "products = merge_two_columns('6_omega_fatty_acids', 'ARA_fatty_acid', products, 'Product_Name')\n",
    "products = merge_two_columns('6_omega_fatty_acids', 'Linoleic_fatty_acid', products, 'Product_Name')\n",
    "products = merge_two_columns('3_omega_fatty_acids', 'DHA_fatty_acid', products, 'Product_Name')\n",
    "products = merge_two_columns('3_omega_fatty_acids', 'Alpha_linolenic_acid', products, 'Product_Name')"
   ]
  },
  {
   "cell_type": "code",
   "execution_count": 30,
   "id": "6a30752e",
   "metadata": {},
   "outputs": [
    {
     "data": {
      "text/plain": [
       "<AxesSubplot:>"
      ]
     },
     "execution_count": 30,
     "metadata": {},
     "output_type": "execute_result"
    },
    {
     "data": {
      "image/png": "[encoded data removed]",
      "text/plain": [
       "<Figure size 576x396 with 2 Axes>"
      ]
     },
     "metadata": {},
     "output_type": "display_data"
    }
   ],
   "source": [
    "corr_matrix = products.corr()\n",
    "sns.heatmap(corr_matrix) #in order to see if there's anything else worth checking"
   ]
  },
  {
   "cell_type": "code",
   "execution_count": 31,
   "id": "2fd9e768",
   "metadata": {},
   "outputs": [
    {
     "name": "stdout",
     "output_type": "stream",
     "text": [
      "Nucleotides                       1.000000\n",
      "Taurine                           0.997687\n",
      "selenium                          0.995871\n",
      "chlorine                          0.995087\n",
      "Vitamin_A                         0.796840\n",
      "Carnitine                         0.762551\n",
      "Inositol                          0.432191\n",
      "copper                            0.420569\n",
      "iodine                            0.380544\n",
      "Vitamin_K.                        0.376473\n",
      "Choline                           0.353620\n",
      "phosphorus                        0.348150\n",
      "Vitamin_E.                        0.345207\n",
      "potassium                         0.309447\n",
      "From_the_carbohydrates_lactose    0.275121\n",
      "Name: Nucleotides, dtype: float64\n"
     ]
    }
   ],
   "source": [
    "print(corr_matrix[\"Nucleotides\"].sort_values(ascending=False).head(15))\n",
    "#didn't found the connection between the features, but:\n",
    "#found a connection between taurine on toxicity of vitamin A in rats: https://www.sciencedirect.com/science/article/abs/pii/S0308814607005420\n",
    "#found a comparison between chronic taurine and vitamin E plus selenium supplementations: https://pubmed.ncbi.nlm.nih.gov/12688428/\n",
    "#found a rate studies of destruction of polyunsaturated fatty acids in vitro by chlorine-based disinfectants: https://pubmed.ncbi.nlm.nih.gov/1504266/\n",
    "products['have_to_do_with_milk'] = products['Nucleotides'] #found that Nucleotides, choline and taurine are all in babys' milk frmula\n",
    "products = merge_two_columns('have_to_do_with_milk', 'Nucleotides', products, 'Product_Name')\n",
    "products = merge_two_columns('have_to_do_with_milk', 'Choline', products, 'Product_Name')\n",
    "products = merge_two_columns('have_to_do_with_milk', 'Taurine', products, 'Product_Name')\n",
    "#we have consulted with a chimist but the only big connection was between the molecular structure of Vitamin_A and 6_omega_fatty_acids, and the fact that they are both dissolved in fat / both fatty"
   ]
  },
  {
   "cell_type": "code",
   "execution_count": 32,
   "id": "4b706535",
   "metadata": {},
   "outputs": [],
   "source": [
    "#products2 = merge_two_columns('Carbohydrate_sugars', 'Teaspoons_of_sugar', products2, 'Product_Name')"
   ]
  },
  {
   "cell_type": "markdown",
   "id": "a43d64fa",
   "metadata": {},
   "source": [
    "## 4. Choosing a metric method and checking habits of dummy-model: "
   ]
  },
  {
   "cell_type": "markdown",
   "id": "ee0d847a",
   "metadata": {},
   "source": [
    "After we accomplished all of our goals from the beginning and in that preapered the data, we wanted to choose a performance measure. for a regression project, like ours there are a few performance measures. we decided to measure are project by RMSE.\n",
    "\n",
    "RMSE means- is the square root of the mean of the square of all of the error.\n",
    "\n",
    "we decided to choose RMSE because it is considered an excellent general-purpose error metric for numerical predictions."
   ]
  },
  {
   "cell_type": "markdown",
   "id": "59d4599c",
   "metadata": {},
   "source": [
    "what we'll do to a new data coming into the system (such as the test set):\n",
    "(first set two, then set 1):\n",
    "and then we checked the dummy regressor score"
   ]
  },
  {
   "cell_type": "code",
   "execution_count": 33,
   "id": "919d4416",
   "metadata": {},
   "outputs": [],
   "source": [
    "def data_ready_version_1(data): \n",
    "    dataw = data.copy()\n",
    "    dataw.replace('(^\\s+|\\s+$)', '', regex=True, inplace=True)\n",
    "    dataw = dataw.set_index('Product_Name')\n",
    "    \n",
    "    columns_need_to_drop = np.array([])\n",
    "    columns_need_to_drop = np.append(columns_need_to_drop, all_dropped_collumns)\n",
    "    columns_need_to_drop = np.append(columns_need_to_drop, sts_dropped_collumns)\n",
    "    columns_need_to_drop = np.append(columns_need_to_drop, col_droped)\n",
    "    columns_need_to_drop = set(columns_need_to_drop)\n",
    "    \n",
    "    \n",
    "    dataw = dataw.drop(columns_need_to_drop, axis=1)\n",
    "    \n",
    "    \n",
    "    for col in dataw.columns:  \n",
    "        dataw[col] = pd.to_numeric(dataw[col], errors='coerce')\n",
    "    dataw = dataw.fillna(0)\n",
    "\n",
    "    unwanted_units = dataw[(dataw['100_g']==0) & (dataw['1_kg']==0)].index \n",
    "    dataw = dataw.drop(unwanted_units)\n",
    "    dataw['1_kg'] = dataw['1_kg']/10\n",
    "    dataw['price_per_100g'] = dataw['1_kg'] + dataw['100_g']\n",
    "    dataw = dataw.drop(['100_g' ,'1_kg'], axis=1)\n",
    "    \n",
    "    dataw_products = dataw.drop(\"price_per_100g\", axis=1) \n",
    "    dataw_prices = dataw[\"price_per_100g\"].copy()\n",
    "    \n",
    "    dataw_products = merge_two_columns('Vitamin_A', 'Vitamin_A_is_worth_retinol', dataw_products, 'Product_Name')\n",
    "    dataw_products = merge_two_columns('Dietary_fiber', 'Dietary_fiber.1', dataw_products, 'Product_Name')\n",
    "    dataw_products = merge_two_columns('potassium', 'K_Potassium', dataw_products, 'Product_Name')\n",
    "    dataw_products = merge_two_columns('Vitamin_E.', 'Vitamin_E_equals_alpha_tocopherol', dataw_products, 'Product_Name')\n",
    "    dataw_products = merge_two_columns('Vitamin_D.', 'Vitamin_D_Calciprolol', dataw_products, 'Product_Name')\n",
    "    dataw_products = merge_two_columns('Vitamin_B3', 'Niacin', dataw_products, 'Product_Name')\n",
    "    dataw_products = merge_two_columns('Vitamin_B3', 'Vitamin_B3_Nicotinamide_Equilibrium', dataw_products, 'Product_Name')\n",
    "    dataw_products = merge_two_columns('Vitamin_B3', 'Nicotinamide', dataw_products, 'Product_Name')\n",
    "    dataw_products = merge_two_columns('sodium', 'chloride', dataw_products, 'Product_Name')\n",
    "    \n",
    "    dataw_products['Partof_vitaminB'] = dataw_products['Vitamin_B6']\n",
    "    dataw_products = dataw_products.drop(['Vitamin_B2', 'Vitamin_B6','Folic_acid','Vitamin_B1','Vitamin_B12'], axis=1)\n",
    "    dataw_products = merge_two_columns('Teaspoons_of_sugar', 'Carbohydrate_sugars', dataw_products, 'Product_Name')\n",
    "    dataw_products = merge_two_columns('Fats', 'energy', dataw_products, 'Product_Name')\n",
    "    dataw_products['6_omega_fatty_acids'] = dataw_products['ARA_fatty_acid']\n",
    "    dataw_products = merge_two_columns('6_omega_fatty_acids', 'ARA_fatty_acid', dataw_products, 'Product_Name')\n",
    "    dataw_products = merge_two_columns('6_omega_fatty_acids', 'Linoleic_fatty_acid', dataw_products, 'Product_Name')\n",
    "    dataw_products = merge_two_columns('3_omega_fatty_acids', 'DHA_fatty_acid', dataw_products, 'Product_Name')\n",
    "    dataw_products = merge_two_columns('3_omega_fatty_acids', 'Alpha_linolenic_acid', dataw_products, 'Product_Name')\n",
    "    dataw_products['have_to_do_with_milk'] = dataw_products['Nucleotides'] #found that Nucleotides, choline and taurine are all in babys' milk frmula\n",
    "    dataw_products = merge_two_columns('have_to_do_with_milk', 'Nucleotides', dataw_products, 'Product_Name')\n",
    "    dataw_products = merge_two_columns('have_to_do_with_milk', 'Choline', dataw_products, 'Product_Name')\n",
    "    dataw_products = merge_two_columns('have_to_do_with_milk', 'Taurine', dataw_products, 'Product_Name')\n",
    "    \n",
    "    return dataw_products, dataw_prices"
   ]
  },
  {
   "cell_type": "code",
   "execution_count": 38,
   "id": "aa227eb9",
   "metadata": {},
   "outputs": [],
   "source": [
    "def data_ready_version_2(data): \n",
    "    dataw = data.copy()\n",
    "    dataw.replace('(^\\s+|\\s+$)', '', regex=True, inplace=True)\n",
    "    dataw = dataw.set_index('Product_Name')\n",
    "    \n",
    "    \n",
    "    columns_need_to_drop = np.array([])\n",
    "    columns_need_to_drop = np.append(columns_need_to_drop, all_dropped_collumns)\n",
    "    columns_need_to_drop = np.append(columns_need_to_drop, sts_dropped_collumns)\n",
    "    columns_need_to_drop = np.append(columns_need_to_drop, col_droped)\n",
    "    columns_need_to_drop = set(columns_need_to_drop)\n",
    "    \n",
    "    \n",
    "    dataw = dataw.drop(columns_need_to_drop, axis=1)\n",
    "    \n",
    "    \n",
    "    for col in dataw.columns:  \n",
    "        dataw[col] = pd.to_numeric(dataw[col], errors='coerce')\n",
    "    dataw = dataw.fillna(0)\n",
    "\n",
    "    \n",
    "    \n",
    "    unwanted_units = dataw[(dataw['100_g']==0) & (dataw['1_kg']==0)].index \n",
    "    dataw = dataw.drop(unwanted_units)\n",
    "    dataw['1_kg'] = dataw['1_kg']/10\n",
    "    dataw['price_per_100g'] = dataw['1_kg'] + dataw['100_g']\n",
    "    dataw = dataw.drop(['100_g' ,'1_kg'], axis=1)\n",
    "    \n",
    "    \n",
    "    dataw_products = dataw.drop(\"price_per_100g\", axis=1).iloc[:,2:26] \n",
    "    dataw_prices = dataw[\"price_per_100g\"].copy()\n",
    "    \n",
    "    \n",
    "    return dataw_products, dataw_prices"
   ]
  },
  {
   "cell_type": "code",
   "execution_count": 39,
   "id": "d6f94405",
   "metadata": {},
   "outputs": [],
   "source": [
    "def RMSE(real, prediction):\n",
    "    return np.sqrt(MSE(real, prediction))"
   ]
  },
  {
   "cell_type": "code",
   "execution_count": 40,
   "id": "2383c2d8",
   "metadata": {},
   "outputs": [],
   "source": [
    "test_set_prod1, test_set_prices1 = data_ready_version_1(test_set)"
   ]
  },
  {
   "cell_type": "code",
   "execution_count": 41,
   "id": "6752287a",
   "metadata": {},
   "outputs": [],
   "source": [
    "test_set_prod2, test_set_prices2 = data_ready_version_2(test_set)"
   ]
  },
  {
   "cell_type": "code",
   "execution_count": 42,
   "id": "1fd9f493",
   "metadata": {},
   "outputs": [
    {
     "name": "stdout",
     "output_type": "stream",
     "text": [
      "Dummy Regressor mean squered error of 11.5\n"
     ]
    }
   ],
   "source": [
    "dummy_regr = DummyRegressor(strategy=\"mean\")\n",
    "dummy_regr.fit(products, prices)\n",
    "predictdum1 = dummy_regr.predict(test_set_prod1)\n",
    "mser = RMSE(test_set_prices1, predictdum1)\n",
    "print( \"Dummy Regressor mean squered error of \" + str(mser)[:4])"
   ]
  },
  {
   "cell_type": "code",
   "execution_count": 43,
   "id": "41f69e12",
   "metadata": {},
   "outputs": [
    {
     "name": "stdout",
     "output_type": "stream",
     "text": [
      "Dummy Regressor mean squered error of 11.5\n"
     ]
    }
   ],
   "source": [
    "dummy_regr = DummyRegressor(strategy=\"mean\")\n",
    "dummy_regr.fit(products2, prices2)\n",
    "predictdum2 = dummy_regr.predict(test_set_prod2)\n",
    "mser = RMSE(test_set_prices2, predictdum2)\n",
    "print( \"Dummy Regressor mean squered error of \" + str(mser)[:4])"
   ]
  },
  {
   "cell_type": "markdown",
   "id": "642be00d",
   "metadata": {},
   "source": [
    "## 5. Sampling models (and checking with cross validation):"
   ]
  },
  {
   "cell_type": "markdown",
   "id": "1e46797b",
   "metadata": {},
   "source": [
    "For each model we tried to find every parameter's importance by Feature Importance and by tried to fine-tuning our models: https://machinelearningmastery.com/calculate-feature-importance-with-python/"
   ]
  },
  {
   "cell_type": "markdown",
   "id": "f8cb6f00",
   "metadata": {},
   "source": [
    "## A. Linear regression"
   ]
  },
  {
   "cell_type": "code",
   "execution_count": 44,
   "id": "7d9b215c",
   "metadata": {},
   "outputs": [
    {
     "name": "stdout",
     "output_type": "stream",
     "text": [
      "10.075920788455182\n",
      "10.070340592491851\n"
     ]
    }
   ],
   "source": [
    "kf = KFold(n_splits=10, random_state=42, shuffle=True)\n",
    "\n",
    "lin_reg = LinearRegression()\n",
    "predict1 = cross_val_predict(lin_reg, products, prices, cv=kf)\n",
    "rmse_linreg1 = RMSE(prices, predict1)\n",
    "print(rmse_linreg1)\n",
    "\n",
    "lin_reg = LinearRegression()\n",
    "predict2 = cross_val_predict(lin_reg, products2, prices2, cv=kf)\n",
    "rmse_linreg2 = RMSE(prices2, predict2)\n",
    "print(rmse_linreg2)"
   ]
  },
  {
   "cell_type": "code",
   "execution_count": 45,
   "id": "ddb69150",
   "metadata": {},
   "outputs": [
    {
     "name": "stdout",
     "output_type": "stream",
     "text": [
      "Feature: 0, Score: 0.05745\n",
      "Feature: 1, Score: 0.00565\n",
      "Feature: 2, Score: -0.03592\n",
      "Feature: 3, Score: -0.00128\n",
      "Feature: 4, Score: 0.00006\n",
      "Feature: 5, Score: -0.11180\n",
      "Feature: 6, Score: -0.00348\n",
      "Feature: 7, Score: -0.04753\n",
      "Feature: 8, Score: -0.05145\n",
      "Feature: 9, Score: -0.16710\n",
      "Feature: 10, Score: 0.88212\n",
      "Feature: 11, Score: 0.00046\n",
      "Feature: 12, Score: 0.05549\n",
      "Feature: 13, Score: -0.00445\n",
      "Feature: 14, Score: -0.01436\n",
      "Feature: 15, Score: -0.05997\n",
      "Feature: 16, Score: 0.00064\n",
      "Feature: 17, Score: 0.01995\n",
      "Feature: 18, Score: 0.00039\n",
      "Feature: 19, Score: 0.00786\n",
      "Feature: 20, Score: -0.10930\n",
      "Feature: 21, Score: 0.15467\n",
      "Feature: 22, Score: -0.02264\n",
      "Feature: 23, Score: -0.24811\n",
      "Feature: 24, Score: 0.07996\n",
      "Feature: 25, Score: 0.00095\n",
      "Feature: 26, Score: 0.50622\n",
      "Feature: 27, Score: 0.14828\n",
      "Feature: 28, Score: 0.01957\n",
      "Feature: 29, Score: -0.20625\n",
      "Feature: 30, Score: 0.08789\n",
      "Feature: 31, Score: -0.00088\n",
      "Feature: 32, Score: -0.01187\n",
      "Feature: 33, Score: 0.01093\n",
      "Feature: 34, Score: -0.55887\n",
      "Feature: 35, Score: -0.04142\n",
      "Feature: 36, Score: 0.53661\n",
      "Feature: 37, Score: 0.05108\n",
      "Feature: 38, Score: -0.03157\n",
      "Feature: 39, Score: 1.99288\n",
      "Feature: 40, Score: -0.00461\n",
      "Feature: 41, Score: -0.07054\n"
     ]
    },
    {
     "data": {
      "image/png": "[encoded data removed]",
      "text/plain": [
       "<Figure size 576x396 with 1 Axes>"
      ]
     },
     "metadata": {},
     "output_type": "display_data"
    },
    {
     "name": "stdout",
     "output_type": "stream",
     "text": [
      "Feature: 10, Score: 0.88212\n",
      "Feature: 26, Score: 0.50622\n",
      "Feature: 34, Score: -0.55887\n",
      "Feature: 36, Score: 0.53661\n",
      "Feature: 39, Score: 1.99288\n"
     ]
    }
   ],
   "source": [
    "from matplotlib import pyplot\n",
    "model = LinearRegression()\n",
    "model.fit(products, prices)\n",
    "# get importance\n",
    "importance = model.coef_\n",
    "# summarize feature importance\n",
    "for i,v in enumerate(importance):\n",
    "\tprint('Feature: %0d, Score: %.5f' % (i,v))\n",
    "# plot feature importance\n",
    "pyplot.bar([x for x in range(len(importance))], importance)\n",
    "pyplot.show()\n",
    "\n",
    "listm =[]\n",
    "for i,v in enumerate(importance):\n",
    "    if abs(v)>0.3:\n",
    "        print('Feature: %0d, Score: %.5f' % (i,v))\n",
    "        listm.append(i)"
   ]
  },
  {
   "cell_type": "code",
   "execution_count": 46,
   "id": "7023dea7",
   "metadata": {},
   "outputs": [
    {
     "name": "stdout",
     "output_type": "stream",
     "text": [
      "10.113022027497829\n"
     ]
    }
   ],
   "source": [
    "lin_reg = LinearRegression()\n",
    "productsv = products.iloc[:,listm]\n",
    "predict = cross_val_predict(lin_reg, productsv, prices, cv=kf)\n",
    "rmse_linreg1_v2 = RMSE(prices, predict)\n",
    "print(rmse_linreg1_v2)"
   ]
  },
  {
   "cell_type": "code",
   "execution_count": 47,
   "id": "a40e1850",
   "metadata": {},
   "outputs": [
    {
     "name": "stdout",
     "output_type": "stream",
     "text": [
      "Feature: 0, Score: 0.01531\n",
      "Feature: 1, Score: 0.02548\n",
      "Feature: 2, Score: -0.00368\n",
      "Feature: 3, Score: 0.00168\n",
      "Feature: 4, Score: -0.01072\n",
      "Feature: 5, Score: 0.08510\n",
      "Feature: 6, Score: 0.00005\n",
      "Feature: 7, Score: -0.28730\n",
      "Feature: 8, Score: -0.00233\n",
      "Feature: 9, Score: -0.05152\n",
      "Feature: 10, Score: -0.13983\n",
      "Feature: 11, Score: -0.01143\n",
      "Feature: 12, Score: 0.08196\n",
      "Feature: 13, Score: 0.24091\n",
      "Feature: 14, Score: 0.00000\n",
      "Feature: 15, Score: 0.02288\n",
      "Feature: 16, Score: -0.00134\n",
      "Feature: 17, Score: 0.17066\n",
      "Feature: 18, Score: -0.00741\n",
      "Feature: 19, Score: -0.05790\n",
      "Feature: 20, Score: -0.00013\n",
      "Feature: 21, Score: -0.03756\n",
      "Feature: 22, Score: 0.06923\n",
      "Feature: 23, Score: 0.00070\n"
     ]
    },
    {
     "data": {
      "image/png": "[encoded data removed]",
      "text/plain": [
       "<Figure size 576x396 with 1 Axes>"
      ]
     },
     "metadata": {},
     "output_type": "display_data"
    },
    {
     "name": "stdout",
     "output_type": "stream",
     "text": [
      "Feature: 0, Score: 0.01531\n",
      "Feature: 1, Score: 0.02548\n",
      "Feature: 2, Score: -0.00368\n",
      "Feature: 3, Score: 0.00168\n",
      "Feature: 4, Score: -0.01072\n",
      "Feature: 5, Score: 0.08510\n",
      "Feature: 6, Score: 0.00005\n",
      "Feature: 7, Score: -0.28730\n",
      "Feature: 8, Score: -0.00233\n",
      "Feature: 9, Score: -0.05152\n",
      "Feature: 10, Score: -0.13983\n",
      "Feature: 11, Score: -0.01143\n",
      "Feature: 12, Score: 0.08196\n",
      "Feature: 13, Score: 0.24091\n",
      "Feature: 14, Score: 0.00000\n",
      "Feature: 15, Score: 0.02288\n",
      "Feature: 16, Score: -0.00134\n",
      "Feature: 17, Score: 0.17066\n",
      "Feature: 18, Score: -0.00741\n",
      "Feature: 19, Score: -0.05790\n",
      "Feature: 20, Score: -0.00013\n",
      "Feature: 21, Score: -0.03756\n",
      "Feature: 22, Score: 0.06923\n",
      "Feature: 23, Score: 0.00070\n"
     ]
    }
   ],
   "source": [
    "from matplotlib import pyplot\n",
    "model = LinearRegression()\n",
    "model.fit(products2, prices2)\n",
    "# get importance\n",
    "importance = model.coef_\n",
    "# summarize feature importance\n",
    "for i,v in enumerate(importance):\n",
    "\tprint('Feature: %0d, Score: %.5f' % (i,v))\n",
    "# plot feature importance\n",
    "pyplot.bar([x for x in range(len(importance))], importance)\n",
    "pyplot.show()\n",
    "\n",
    "listm =[]\n",
    "for i,v in enumerate(importance):\n",
    "    if abs(v)>0.0000001:\n",
    "        print('Feature: %0d, Score: %.5f' % (i,v))\n",
    "        listm.append(i)"
   ]
  },
  {
   "cell_type": "code",
   "execution_count": 48,
   "id": "286061f6",
   "metadata": {},
   "outputs": [
    {
     "name": "stdout",
     "output_type": "stream",
     "text": [
      "10.023100050165336\n"
     ]
    }
   ],
   "source": [
    "lin_reg = LinearRegression()\n",
    "productsv2 = products.iloc[:,listm]\n",
    "predict2 = cross_val_predict(lin_reg, productsv2, prices2, cv=kf)\n",
    "rmse_linreg2_v2 = RMSE(prices, predict2)\n",
    "print(rmse_linreg2_v2)"
   ]
  },
  {
   "cell_type": "markdown",
   "id": "560313fc",
   "metadata": {},
   "source": [
    "it seems that linear regression is not a good model for this problem"
   ]
  },
  {
   "cell_type": "markdown",
   "id": "97b45b36",
   "metadata": {},
   "source": [
    "## B. Desicion tree regressor"
   ]
  },
  {
   "cell_type": "code",
   "execution_count": 49,
   "id": "d08bce24",
   "metadata": {},
   "outputs": [
    {
     "name": "stdout",
     "output_type": "stream",
     "text": [
      "9.497979186235336\n",
      "10.57978605621724\n"
     ]
    }
   ],
   "source": [
    "tree_reg = DecisionTreeRegressor()\n",
    "\n",
    "predicttree1 = cross_val_predict(tree_reg, products, prices, cv=kf)\n",
    "treereg_score1 = RMSE(prices, predicttree1)\n",
    "print(treereg_score1)\n",
    "\n",
    "predicttree2 = cross_val_predict(tree_reg, products2, prices2, cv=kf)\n",
    "treereg_score2 = RMSE(prices2, predicttree2)\n",
    "print(treereg_score2)"
   ]
  },
  {
   "cell_type": "code",
   "execution_count": 50,
   "id": "e59b76c1",
   "metadata": {},
   "outputs": [
    {
     "name": "stdout",
     "output_type": "stream",
     "text": [
      "Feature: 0, Score: 0.02108\n",
      "Feature: 1, Score: 0.29882\n",
      "Feature: 2, Score: 0.03700\n",
      "Feature: 3, Score: 0.06107\n",
      "Feature: 4, Score: 0.42011\n",
      "Feature: 5, Score: 0.00006\n",
      "Feature: 6, Score: 0.00029\n",
      "Feature: 7, Score: 0.00003\n",
      "Feature: 8, Score: 0.00125\n",
      "Feature: 9, Score: 0.00000\n",
      "Feature: 10, Score: 0.00302\n",
      "Feature: 11, Score: 0.00002\n",
      "Feature: 12, Score: 0.05581\n",
      "Feature: 13, Score: 0.00005\n",
      "Feature: 14, Score: 0.00028\n",
      "Feature: 15, Score: 0.00125\n",
      "Feature: 16, Score: 0.04713\n",
      "Feature: 17, Score: 0.00215\n",
      "Feature: 18, Score: 0.00254\n",
      "Feature: 19, Score: 0.00646\n",
      "Feature: 20, Score: 0.00030\n",
      "Feature: 21, Score: 0.02972\n",
      "Feature: 22, Score: 0.00003\n",
      "Feature: 23, Score: 0.00000\n",
      "Feature: 24, Score: 0.00000\n",
      "Feature: 25, Score: 0.00000\n",
      "Feature: 26, Score: 0.00035\n",
      "Feature: 27, Score: 0.00012\n",
      "Feature: 28, Score: 0.00009\n",
      "Feature: 29, Score: 0.00018\n",
      "Feature: 30, Score: 0.00010\n",
      "Feature: 31, Score: 0.00025\n",
      "Feature: 32, Score: 0.00000\n",
      "Feature: 33, Score: 0.00284\n",
      "Feature: 34, Score: 0.00000\n",
      "Feature: 35, Score: 0.00000\n",
      "Feature: 36, Score: 0.00000\n",
      "Feature: 37, Score: 0.00000\n",
      "Feature: 38, Score: 0.00000\n",
      "Feature: 39, Score: 0.00760\n",
      "Feature: 40, Score: 0.00001\n",
      "Feature: 41, Score: 0.00000\n"
     ]
    },
    {
     "data": {
      "image/png": "[encoded data removed]",
      "text/plain": [
       "<Figure size 576x396 with 1 Axes>"
      ]
     },
     "metadata": {},
     "output_type": "display_data"
    },
    {
     "name": "stdout",
     "output_type": "stream",
     "text": [
      "Feature: 0, Score: 0.02108\n",
      "Feature: 1, Score: 0.29882\n",
      "Feature: 2, Score: 0.03700\n",
      "Feature: 3, Score: 0.06107\n",
      "Feature: 4, Score: 0.42011\n",
      "Feature: 12, Score: 0.05581\n",
      "Feature: 16, Score: 0.04713\n",
      "Feature: 19, Score: 0.00646\n",
      "Feature: 21, Score: 0.02972\n",
      "Feature: 39, Score: 0.00760\n"
     ]
    }
   ],
   "source": [
    "from matplotlib import pyplot\n",
    "model = DecisionTreeRegressor()\n",
    "model.fit(products, prices)\n",
    "importance = model.feature_importances_\n",
    "for i,v in enumerate(importance):\n",
    "\tprint('Feature: %0d, Score: %.5f' % (i,v))\n",
    "# plot feature importance\n",
    "pyplot.bar([x for x in range(len(importance))], importance)\n",
    "pyplot.show()\n",
    "listi = []\n",
    "for i,v in enumerate(importance):\n",
    "    if v>0.005:\n",
    "        print('Feature: %0d, Score: %.5f' % (i,v))\n",
    "        listi.append(i)"
   ]
  },
  {
   "cell_type": "code",
   "execution_count": 51,
   "id": "b86264dd",
   "metadata": {},
   "outputs": [
    {
     "name": "stdout",
     "output_type": "stream",
     "text": [
      "9.4047909535942\n"
     ]
    }
   ],
   "source": [
    "products_3 = products.iloc[:,listi]\n",
    "tree_reg = DecisionTreeRegressor()\n",
    "\n",
    "predicttree1 = cross_val_predict(tree_reg, products_3, prices, cv=kf)\n",
    "treereg_score1_v2 = RMSE(prices, predicttree1)\n",
    "print(treereg_score1_v2)"
   ]
  },
  {
   "cell_type": "code",
   "execution_count": 52,
   "id": "cc17dc6d",
   "metadata": {},
   "outputs": [
    {
     "name": "stdout",
     "output_type": "stream",
     "text": [
      "Feature: 0, Score: 0.01757\n",
      "Feature: 1, Score: 0.00239\n",
      "Feature: 2, Score: 0.07870\n",
      "Feature: 3, Score: 0.29731\n",
      "Feature: 4, Score: 0.03775\n",
      "Feature: 5, Score: 0.01915\n",
      "Feature: 6, Score: 0.41523\n",
      "Feature: 7, Score: 0.00011\n",
      "Feature: 8, Score: 0.00008\n",
      "Feature: 9, Score: 0.00003\n",
      "Feature: 10, Score: 0.00313\n",
      "Feature: 11, Score: 0.00783\n",
      "Feature: 12, Score: 0.00000\n",
      "Feature: 13, Score: 0.00084\n",
      "Feature: 14, Score: 0.00069\n",
      "Feature: 15, Score: 0.02469\n",
      "Feature: 16, Score: 0.00131\n",
      "Feature: 17, Score: 0.00005\n",
      "Feature: 18, Score: 0.00028\n",
      "Feature: 19, Score: 0.00132\n",
      "Feature: 20, Score: 0.07251\n",
      "Feature: 21, Score: 0.00140\n",
      "Feature: 22, Score: 0.01449\n",
      "Feature: 23, Score: 0.00315\n"
     ]
    },
    {
     "data": {
      "image/png": "[encoded data removed]",
      "text/plain": [
       "<Figure size 576x396 with 1 Axes>"
      ]
     },
     "metadata": {},
     "output_type": "display_data"
    },
    {
     "name": "stdout",
     "output_type": "stream",
     "text": [
      "Feature: 0, Score: 0.01757\n",
      "Feature: 1, Score: 0.00239\n",
      "Feature: 2, Score: 0.07870\n",
      "Feature: 3, Score: 0.29731\n",
      "Feature: 4, Score: 0.03775\n",
      "Feature: 5, Score: 0.01915\n",
      "Feature: 6, Score: 0.41523\n",
      "Feature: 10, Score: 0.00313\n",
      "Feature: 11, Score: 0.00783\n",
      "Feature: 15, Score: 0.02469\n",
      "Feature: 16, Score: 0.00131\n",
      "Feature: 19, Score: 0.00132\n",
      "Feature: 20, Score: 0.07251\n",
      "Feature: 21, Score: 0.00140\n",
      "Feature: 22, Score: 0.01449\n",
      "Feature: 23, Score: 0.00315\n"
     ]
    }
   ],
   "source": [
    "from matplotlib import pyplot\n",
    "model = DecisionTreeRegressor()\n",
    "model.fit(products2, prices2)\n",
    "importance = model.feature_importances_\n",
    "for i,v in enumerate(importance):\n",
    "\tprint('Feature: %0d, Score: %.5f' % (i,v))\n",
    "# plot feature importance\n",
    "pyplot.bar([x for x in range(len(importance))], importance)\n",
    "pyplot.show()\n",
    "listi2 = []\n",
    "for i,v in enumerate(importance):\n",
    "    if v>0.001:\n",
    "        print('Feature: %0d, Score: %.5f' % (i,v))\n",
    "        listi2.append(i)"
   ]
  },
  {
   "cell_type": "code",
   "execution_count": 53,
   "id": "13eb050a",
   "metadata": {
    "scrolled": true
   },
   "outputs": [
    {
     "name": "stdout",
     "output_type": "stream",
     "text": [
      "10.812876471138647\n"
     ]
    }
   ],
   "source": [
    "products2_3 = products.iloc[:,listi2]\n",
    "tree_reg = DecisionTreeRegressor()\n",
    "\n",
    "predicttree2 = cross_val_predict(tree_reg, products2_3, prices2, cv=kf)\n",
    "treereg_score2_v2 = RMSE(prices2, predicttree2)\n",
    "print(treereg_score2_v2)"
   ]
  },
  {
   "cell_type": "markdown",
   "id": "72fc5cf6",
   "metadata": {},
   "source": [
    "## C. Random forest regressor"
   ]
  },
  {
   "cell_type": "code",
   "execution_count": 54,
   "id": "d6f35e82",
   "metadata": {},
   "outputs": [
    {
     "name": "stdout",
     "output_type": "stream",
     "text": [
      "7.643678517725971\n",
      "8.031242134244588\n"
     ]
    }
   ],
   "source": [
    "random_for = RandomForestRegressor()\n",
    "\n",
    "prodicrfor1 = cross_val_predict(random_for, products, prices, cv=kf)\n",
    "rmsefor1 = RMSE(prices, prodicrfor1)\n",
    "print(rmsefor1)\n",
    "\n",
    "random_for = RandomForestRegressor()\n",
    "prodicrfor2 = cross_val_predict(random_for, products2, prices2, cv=kf)\n",
    "rmsefor2 = RMSE(prices, prodicrfor2)\n",
    "print(rmsefor2)"
   ]
  },
  {
   "cell_type": "code",
   "execution_count": 55,
   "id": "36c73a26",
   "metadata": {
    "scrolled": true
   },
   "outputs": [
    {
     "name": "stdout",
     "output_type": "stream",
     "text": [
      "Feature: 0, Score: 0.03572\n",
      "Feature: 1, Score: 0.08985\n",
      "Feature: 2, Score: 0.07098\n",
      "Feature: 3, Score: 0.11546\n",
      "Feature: 4, Score: 0.42732\n",
      "Feature: 5, Score: 0.00251\n",
      "Feature: 6, Score: 0.00037\n",
      "Feature: 7, Score: 0.00037\n",
      "Feature: 8, Score: 0.00318\n",
      "Feature: 9, Score: 0.00003\n",
      "Feature: 10, Score: 0.00439\n",
      "Feature: 11, Score: 0.00099\n",
      "Feature: 12, Score: 0.11579\n",
      "Feature: 13, Score: 0.00068\n",
      "Feature: 14, Score: 0.00025\n",
      "Feature: 15, Score: 0.00132\n",
      "Feature: 16, Score: 0.07496\n",
      "Feature: 17, Score: 0.00429\n",
      "Feature: 18, Score: 0.00449\n",
      "Feature: 19, Score: 0.01002\n",
      "Feature: 20, Score: 0.00018\n",
      "Feature: 21, Score: 0.02990\n",
      "Feature: 22, Score: 0.00010\n",
      "Feature: 23, Score: 0.00000\n",
      "Feature: 24, Score: 0.00016\n",
      "Feature: 25, Score: 0.00012\n",
      "Feature: 26, Score: 0.00016\n",
      "Feature: 27, Score: 0.00009\n",
      "Feature: 28, Score: 0.00019\n",
      "Feature: 29, Score: 0.00009\n",
      "Feature: 30, Score: 0.00016\n",
      "Feature: 31, Score: 0.00025\n",
      "Feature: 32, Score: 0.00000\n",
      "Feature: 33, Score: 0.00262\n",
      "Feature: 34, Score: 0.00001\n",
      "Feature: 35, Score: 0.00001\n",
      "Feature: 36, Score: 0.00001\n",
      "Feature: 37, Score: 0.00001\n",
      "Feature: 38, Score: 0.00001\n",
      "Feature: 39, Score: 0.00294\n",
      "Feature: 40, Score: 0.00001\n",
      "Feature: 41, Score: 0.00000\n"
     ]
    },
    {
     "data": {
      "image/png": "[encoded data removed]",
      "text/plain": [
       "<Figure size 576x396 with 1 Axes>"
      ]
     },
     "metadata": {},
     "output_type": "display_data"
    },
    {
     "name": "stdout",
     "output_type": "stream",
     "text": [
      "Feature: 0, Score: 0.03572\n",
      "Feature: 1, Score: 0.08985\n",
      "Feature: 2, Score: 0.07098\n",
      "Feature: 3, Score: 0.11546\n",
      "Feature: 4, Score: 0.42732\n",
      "Feature: 12, Score: 0.11579\n",
      "Feature: 16, Score: 0.07496\n",
      "Feature: 19, Score: 0.01002\n",
      "Feature: 21, Score: 0.02990\n"
     ]
    }
   ],
   "source": [
    "from matplotlib import pyplot\n",
    "random_for = RandomForestRegressor()\n",
    "random_for.fit(products, prices)\n",
    "importance = random_for.feature_importances_\n",
    "for i,v in enumerate(importance):\n",
    "\tprint('Feature: %0d, Score: %.5f' % (i,v))\n",
    "# plot feature importance\n",
    "pyplot.bar([x for x in range(len(importance))], importance)\n",
    "pyplot.show()\n",
    "for i,v in enumerate(importance):\n",
    "    if v>0.009:\n",
    "        print('Feature: %0d, Score: %.5f' % (i,v))"
   ]
  },
  {
   "cell_type": "code",
   "execution_count": 56,
   "id": "dd341bb2",
   "metadata": {},
   "outputs": [
    {
     "name": "stdout",
     "output_type": "stream",
     "text": [
      "7.673785626607876\n"
     ]
    }
   ],
   "source": [
    "v_2_1=[0,1,2,3,4,12,16,19,21]\n",
    "products_2 = products.iloc[:,v_2_1]\n",
    "\n",
    "random_for = RandomForestRegressor()\n",
    "prodicrfor = cross_val_predict(random_for, products_2, prices, cv=kf)\n",
    "rmsefor1_v2 = RMSE(prices, prodicrfor)\n",
    "print(rmsefor1_v2)"
   ]
  },
  {
   "cell_type": "code",
   "execution_count": 57,
   "id": "b59e6197",
   "metadata": {},
   "outputs": [
    {
     "name": "stdout",
     "output_type": "stream",
     "text": [
      "Feature: 0, Score: 0.04358\n",
      "Feature: 1, Score: 0.00506\n",
      "Feature: 2, Score: 0.10139\n",
      "Feature: 3, Score: 0.10929\n",
      "Feature: 4, Score: 0.04162\n",
      "Feature: 5, Score: 0.04037\n",
      "Feature: 6, Score: 0.42953\n",
      "Feature: 7, Score: 0.00020\n",
      "Feature: 8, Score: 0.00036\n",
      "Feature: 9, Score: 0.00036\n",
      "Feature: 10, Score: 0.00350\n",
      "Feature: 11, Score: 0.00644\n",
      "Feature: 12, Score: 0.00002\n",
      "Feature: 13, Score: 0.00078\n",
      "Feature: 14, Score: 0.00106\n",
      "Feature: 15, Score: 0.08937\n",
      "Feature: 16, Score: 0.00078\n",
      "Feature: 17, Score: 0.00064\n",
      "Feature: 18, Score: 0.00018\n",
      "Feature: 19, Score: 0.00124\n",
      "Feature: 20, Score: 0.07855\n",
      "Feature: 21, Score: 0.00206\n",
      "Feature: 22, Score: 0.03944\n",
      "Feature: 23, Score: 0.00418\n"
     ]
    },
    {
     "data": {
      "image/png": "[encoded data removed]",
      "text/plain": [
       "<Figure size 576x396 with 1 Axes>"
      ]
     },
     "metadata": {},
     "output_type": "display_data"
    },
    {
     "name": "stdout",
     "output_type": "stream",
     "text": [
      "Feature: 0, Score: 0.04358\n",
      "Feature: 2, Score: 0.10139\n",
      "Feature: 3, Score: 0.10929\n",
      "Feature: 4, Score: 0.04162\n",
      "Feature: 5, Score: 0.04037\n",
      "Feature: 6, Score: 0.42953\n",
      "Feature: 15, Score: 0.08937\n",
      "Feature: 20, Score: 0.07855\n",
      "Feature: 22, Score: 0.03944\n"
     ]
    }
   ],
   "source": [
    "from matplotlib import pyplot\n",
    "random_for = RandomForestRegressor()\n",
    "random_for.fit(products2, prices2)\n",
    "importance = random_for.feature_importances_\n",
    "for i,v in enumerate(importance):\n",
    "\tprint('Feature: %0d, Score: %.5f' % (i,v))\n",
    "# plot feature importance\n",
    "pyplot.bar([x for x in range(len(importance))], importance)\n",
    "pyplot.show()\n",
    "for i,v in enumerate(importance):\n",
    "    if v>0.01:\n",
    "        print('Feature: %0d, Score: %.5f' % (i,v))"
   ]
  },
  {
   "cell_type": "code",
   "execution_count": 58,
   "id": "f2b8cbef",
   "metadata": {},
   "outputs": [
    {
     "name": "stdout",
     "output_type": "stream",
     "text": [
      "8.03103085515618\n"
     ]
    }
   ],
   "source": [
    "v_2_2 = [0,2,3,4,5,6,15,19,20,22]\n",
    "products2_2 = products.iloc[:,v_2_2]\n",
    "\n",
    "random_for = RandomForestRegressor()\n",
    "prodicrfor2 = cross_val_predict(random_for, products2_2, prices2, cv=kf)\n",
    "rmsefor2_v2 = RMSE(prices2, prodicrfor2)\n",
    "print(rmsefor2_v2)"
   ]
  },
  {
   "cell_type": "markdown",
   "id": "c33e7677",
   "metadata": {},
   "source": [
    "## 6. Comparing models scores and choosing the final model:"
   ]
  },
  {
   "cell_type": "code",
   "execution_count": 59,
   "id": "45953722",
   "metadata": {},
   "outputs": [
    {
     "name": "stdout",
     "output_type": "stream",
     "text": [
      "Before Feature Importance, linear regression mean squered error is:\n",
      "\n",
      "Data set 1:  10.075920788455182 , Data set 2:  10.070340592491851\n",
      "\n",
      "\n",
      "After Feature Importance, linear regression mean squered error is:\n",
      "\n",
      "Data set 1:  10.113022027497829 , Data set 2:  10.023100050165336\n"
     ]
    }
   ],
   "source": [
    "print(\"Before Feature Importance, linear regression mean squered error is:\")\n",
    "print()\n",
    "print(\"Data set 1: \", rmse_linreg1, \", Data set 2: \", rmse_linreg2)\n",
    "print('\\n')\n",
    "print(\"After Feature Importance, linear regression mean squered error is:\")\n",
    "print()\n",
    "print(\"Data set 1: \", rmse_linreg1_v2, \", Data set 2: \", rmse_linreg2_v2)"
   ]
  },
  {
   "cell_type": "code",
   "execution_count": 60,
   "id": "7abd79bc",
   "metadata": {},
   "outputs": [
    {
     "name": "stdout",
     "output_type": "stream",
     "text": [
      "Before Feature Importance, Desicion tree regressor mean squered error is:\n",
      "\n",
      "Data set 1:  9.497979186235336 , Data set 2:  10.57978605621724\n",
      "\n",
      "\n",
      "After Feature Importance, Desicion tree regressor mean squered error is:\n",
      "\n",
      "Data set 1:  9.4047909535942 , Data set 2:  10.812876471138647\n"
     ]
    }
   ],
   "source": [
    "print(\"Before Feature Importance, Desicion tree regressor mean squered error is:\")\n",
    "print()\n",
    "print(\"Data set 1: \", treereg_score1, \", Data set 2: \", treereg_score2)\n",
    "print('\\n')\n",
    "print(\"After Feature Importance, Desicion tree regressor mean squered error is:\")\n",
    "print()\n",
    "print(\"Data set 1: \", treereg_score1_v2, \", Data set 2: \", treereg_score2_v2)"
   ]
  },
  {
   "cell_type": "code",
   "execution_count": 61,
   "id": "9b5dc980",
   "metadata": {},
   "outputs": [
    {
     "name": "stdout",
     "output_type": "stream",
     "text": [
      "Before Feature Importance, Random forest regressor mean squered error is:\n",
      "\n",
      "Data set 1:  7.643678517725971 , Data set 2:  8.031242134244588\n",
      "\n",
      "\n",
      "After Feature Importance, Random forest regressor mean squered error is:\n",
      "\n",
      "Data set 1:  7.673785626607876 , Data set 2:  8.03103085515618\n"
     ]
    }
   ],
   "source": [
    "print(\"Before Feature Importance, Random forest regressor mean squered error is:\")\n",
    "print()\n",
    "print(\"Data set 1: \", rmsefor1, \", Data set 2: \", rmsefor2)\n",
    "print('\\n')\n",
    "print(\"After Feature Importance, Random forest regressor mean squered error is:\")\n",
    "print()\n",
    "print(\"Data set 1: \", rmsefor1_v2, \", Data set 2: \", rmsefor2_v2)"
   ]
  },
  {
   "cell_type": "code",
   "execution_count": 62,
   "id": "94eb13c2",
   "metadata": {},
   "outputs": [
    {
     "name": "stdout",
     "output_type": "stream",
     "text": [
      "Dummy regressor mean squered error is: 11.5\n"
     ]
    }
   ],
   "source": [
    "print(\"Dummy regressor mean squered error is:\", str(mser)[:4])"
   ]
  },
  {
   "cell_type": "markdown",
   "id": "3c0af597",
   "metadata": {},
   "source": [
    "From the comperation above we can conclude that our best model is Random Forest regressor with the second version of data set number 1 (each time we ran the project, the difference between the mistakes of version 1 and 2 of the first data set were close to each other, although every time another one of the was with a bigger mistake, due to the nature of the model).\n",
    "Because the errors are close to each other, we will prefer the version of the model with the less features."
   ]
  },
  {
   "cell_type": "code",
   "execution_count": 69,
   "id": "979b39ee",
   "metadata": {},
   "outputs": [],
   "source": [
    "def final_data_preperation(data): \n",
    "    dataw = data.copy()\n",
    "    dataw.replace('(^\\s+|\\s+$)', '', regex=True, inplace=True)\n",
    "    dataw = dataw.set_index('Product_Name')\n",
    "    \n",
    "    columns_need_to_drop = np.array([])\n",
    "    columns_need_to_drop = np.append(columns_need_to_drop, all_dropped_collumns)\n",
    "    columns_need_to_drop = np.append(columns_need_to_drop, sts_dropped_collumns)\n",
    "    columns_need_to_drop = np.append(columns_need_to_drop, col_droped)\n",
    "    columns_need_to_drop = set(columns_need_to_drop)\n",
    "    \n",
    "    \n",
    "    dataw = dataw.drop(columns_need_to_drop, axis=1)\n",
    "    \n",
    "    \n",
    "    for col in dataw.columns:  \n",
    "        dataw[col] = pd.to_numeric(dataw[col], errors='coerce')\n",
    "    dataw = dataw.fillna(0)\n",
    "\n",
    "    unwanted_units = dataw[(dataw['100_g']==0) & (dataw['1_kg']==0)].index \n",
    "    dataw = dataw.drop(unwanted_units)\n",
    "    dataw['1_kg'] = dataw['1_kg']/10\n",
    "    dataw['price_per_100g'] = dataw['1_kg'] + dataw['100_g']\n",
    "    dataw = dataw.drop(['100_g' ,'1_kg'], axis=1)\n",
    "    \n",
    "    dataw_products= dataw.drop(\"price_per_100g\", axis=1) \n",
    "    dataw_prices = dataw[\"price_per_100g\"].copy()\n",
    "    \n",
    "    dataw_products = merge_two_columns('Vitamin_A', 'Vitamin_A_is_worth_retinol', dataw_products, 'Product_Name')\n",
    "    dataw_products = merge_two_columns('Dietary_fiber', 'Dietary_fiber.1', dataw_products, 'Product_Name')\n",
    "    dataw_products = merge_two_columns('potassium', 'K_Potassium', dataw_products, 'Product_Name')\n",
    "    dataw_products = merge_two_columns('Vitamin_E.', 'Vitamin_E_equals_alpha_tocopherol', dataw_products, 'Product_Name')\n",
    "    dataw_products = merge_two_columns('Vitamin_D.', 'Vitamin_D_Calciprolol', dataw_products, 'Product_Name')\n",
    "    dataw_products = merge_two_columns('Vitamin_B3', 'Niacin', dataw_products, 'Product_Name')\n",
    "    dataw_products = merge_two_columns('Vitamin_B3', 'Vitamin_B3_Nicotinamide_Equilibrium', dataw_products, 'Product_Name')\n",
    "    dataw_products = merge_two_columns('Vitamin_B3', 'Nicotinamide', dataw_products, 'Product_Name')\n",
    "    dataw_products = merge_two_columns('sodium', 'chloride', dataw_products, 'Product_Name')\n",
    "    \n",
    "    dataw_products['Partof_vitaminB'] = dataw_products['Vitamin_B6']\n",
    "    dataw_products = dataw_products.drop(['Vitamin_B2', 'Vitamin_B6','Folic_acid','Vitamin_B1','Vitamin_B12'], axis=1)\n",
    "    dataw_products = merge_two_columns('Teaspoons_of_sugar', 'Carbohydrate_sugars', dataw_products, 'Product_Name')\n",
    "    dataw_products = merge_two_columns('Fats', 'energy', dataw_products, 'Product_Name')\n",
    "    dataw_products['6_omega_fatty_acids'] = dataw_products['ARA_fatty_acid']\n",
    "    dataw_products = merge_two_columns('6_omega_fatty_acids', 'ARA_fatty_acid', dataw_products, 'Product_Name')\n",
    "    dataw_products = merge_two_columns('6_omega_fatty_acids', 'Linoleic_fatty_acid', dataw_products, 'Product_Name')\n",
    "    dataw_products = merge_two_columns('3_omega_fatty_acids', 'DHA_fatty_acid', dataw_products, 'Product_Name')\n",
    "    dataw_products = merge_two_columns('3_omega_fatty_acids', 'Alpha_linolenic_acid', dataw_products, 'Product_Name')\n",
    "    dataw_products['have_to_do_with_milk'] = dataw_products['Nucleotides'] #found that Nucleotides, choline and taurine are all in babys' milk frmula\n",
    "    dataw_products = merge_two_columns('have_to_do_with_milk', 'Nucleotides', dataw_products, 'Product_Name')\n",
    "    dataw_products = merge_two_columns('have_to_do_with_milk', 'Choline', dataw_products, 'Product_Name')\n",
    "    dataw_products = merge_two_columns('have_to_do_with_milk', 'Taurine', dataw_products, 'Product_Name')\n",
    "    \n",
    "    v_2_1=[0,1,2,3,4,12,16,19,22]\n",
    "    dataw_products = dataw_products.iloc[:,v_2_1]\n",
    "    \n",
    "    return dataw_products, dataw_prices"
   ]
  },
  {
   "cell_type": "code",
   "execution_count": 70,
   "id": "e0bbb0a1",
   "metadata": {},
   "outputs": [],
   "source": [
    "final_test_prod, final_test_price = final_data_preperation(test_set)"
   ]
  },
  {
   "cell_type": "code",
   "execution_count": 72,
   "id": "fb9bafda",
   "metadata": {},
   "outputs": [
    {
     "name": "stdout",
     "output_type": "stream",
     "text": [
      "Mean squered error of final model is: 10.7\n"
     ]
    }
   ],
   "source": [
    "random_for = RandomForestRegressor()\n",
    "random_for.fit(products_2, prices)\n",
    "final_predict = random_for.predict(final_test_prod)\n",
    "Rmse = RMSE(final_test_price, final_predict)\n",
    "print( \"Mean squered error of final model is: \" + str(Rmse)[:4])"
   ]
  },
  {
   "cell_type": "markdown",
   "id": "6fabc2fa",
   "metadata": {},
   "source": [
    "## 7. conclusion:"
   ]
  },
  {
   "cell_type": "markdown",
   "id": "be35929f",
   "metadata": {},
   "source": [
    "This type of project is too complicated to the models we know"
   ]
  }
 ],
 "metadata": {
  "kernelspec": {
   "display_name": "Python 3",
   "language": "python",
   "name": "python3"
  },
  "language_info": {
   "codemirror_mode": {
    "name": "ipython",
    "version": 3
   },
   "file_extension": ".py",
   "mimetype": "text/x-python",
   "name": "python",
   "nbconvert_exporter": "python",
   "pygments_lexer": "ipython3",
   "version": "3.8.8"
  }
 },
 "nbformat": 4,
 "nbformat_minor": 5
}
